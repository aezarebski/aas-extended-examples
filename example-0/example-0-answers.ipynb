{
 "cells": [
  {
   "cell_type": "markdown",
   "id": "e3bd42ec-808c-4abb-a5be-f400b2899ddf",
   "metadata": {
    "tags": []
   },
   "source": [
    "# Welcome to AAS!"
   ]
  },
  {
   "cell_type": "markdown",
   "id": "2425cea2-2f4b-4696-b38e-6e1897500186",
   "metadata": {
    "tags": []
   },
   "source": [
    "## Getting Started in Python\n",
    "\n",
    "In this course, we assume a very basic knowledge of python syntax, which can be learned in a variety of places, including directly from the [Python Software Foundation](https://www.python.org/about/gettingstarted/). An expansive [cheat sheet](https://www.utc.fr/~jlaforet/Suppl/python-cheatsheets.pdf) for data science in Python is available from DataCamp.\n",
    "\n",
    "This notebook will introduce the main python packages we will be using in this course:\n",
    "\n",
    "* `numpy` for numerical calculations\n",
    "* `scipy` for mathematical algorithms\n",
    "* `matplotlib` for visualisation\n",
    "* `pandas` for data wrangling\n",
    "* `statsmodels` for statistical algorithms\n",
    "\n",
    "All of these packages are currently included when you install [Anaconda](https://www.anaconda.com/). Anaconda also makes sure that the versions of each package are consistent and provides helpful tools like Jupyter Lab, where you can run this notebook. \n"
   ]
  },
  {
   "cell_type": "markdown",
   "id": "18172bfc-0148-49c5-96ae-6a5d94b4a51b",
   "metadata": {
    "tags": []
   },
   "source": [
    "### NumPy\n",
    "\n",
    "[NumPy](https://numpy.org/) provides the _array_ data type and a wide range of functions to work with them. This pacakge forms the foundation for most scientific computation done with python. Spending time getting comfortable with using numpy is a wise investment. If you have used vectors in either MATLAB or R the numpy array should feel familiar. The numpy organization has [learning resources](https://numpy.org/learn/) on their website. There is also a [cheat sheet](http://datacamp-community-prod.s3.amazonaws.com/ba1fe95a-8b70-4d2f-95b0-bc954e9071b0) available from DataCamp."
   ]
  },
  {
   "cell_type": "markdown",
   "id": "1f1940a7-7b30-4b3b-ab0b-75e404cd6c24",
   "metadata": {
    "tags": []
   },
   "source": [
    "### SciPy\n",
    "\n",
    "[SciPy](https://docs.scipy.org/doc/scipy/tutorial/general.html) provides a wide range of mathematical algorithms. For example, there are clustering algorithms, fourier transforms, numerical integration, and optimisation and root-finding algorithms. scipy makes use of the numpy array."
   ]
  },
  {
   "cell_type": "markdown",
   "id": "72aca0cf-2ff0-4cc4-804d-790512084141",
   "metadata": {
    "tags": []
   },
   "source": [
    "### Matplotlib\n",
    "\n",
    "Matplotlib is a general purpose plotting library for python. Visualisation is a key skill of the statistician, learning how to use an established plotting library is another wise investment. Matplotlib provides a [gallery](https://matplotlib.org/stable/gallery/index.html) of examples and their code to get you started. There are many plotting libraries out there, but Matplotlib is probably the most established plotting library in python so it is a good place to start. If you want to explore alternatives, [seaborn](https://seaborn.pydata.org/index.html) is a wrapper around matplotlib designed for statistical graphics and [altair](https://altair-viz.github.io/) is a more powerful declarative plotting package. The [Python Graph Gallery](https://www.python-graph-gallery.com/) is a wonderful resource for finding different types of chart along with code to help you build them."
   ]
  },
  {
   "cell_type": "markdown",
   "id": "dd015965-ae86-4f38-95f1-0254a54b5571",
   "metadata": {
    "tags": []
   },
   "source": [
    "### Pandas\n",
    "\n",
    "Much of the data we will consider in this course is _tabular_, meaning it can be represented as a table of values. The _dataframe_ is a data structure particularly well suited for working with tabular data. If you have any experience with R you will no doubt be familiar with its `data.frame`s. Pandas is an attempt to bring this functionality to the python ecosystem. Pandas provides some visualisation functionality but it is less flexible than matplotlib. As with NumPy, DataCamp has a [cheat sheet](http://datacamp-community-prod.s3.amazonaws.com/f04456d7-8e61-482f-9cc9-da6f7f25fc9b) for Pandas. For those familiar with R, another [cheat sheet](https://storage.googleapis.com/kaggle-forum-message-attachments/876179/15757/Pandas%20Cheat%20Sheet.pdf) is available based on familiar operations from RStudio."
   ]
  },
  {
   "cell_type": "markdown",
   "id": "a6614bae-92e5-4d67-b934-40ac2efa3da6",
   "metadata": {
    "tags": []
   },
   "source": [
    "### Statsmodels\n",
    "\n",
    "This package provides statistical algorithms. For example, there are functions to fit linear and genealized linear models to data."
   ]
  },
  {
   "cell_type": "markdown",
   "id": "a1a235d3-d290-4e68-b05b-a11540a97a6a",
   "metadata": {},
   "source": [
    "## Numpy\n",
    "\n",
    "The first thing to do with any package is to import it. The convention when using numpy is to import it as `np`."
   ]
  },
  {
   "cell_type": "code",
   "execution_count": 1,
   "id": "7b41be23-0058-493a-b8c5-60df92b3d9d8",
   "metadata": {},
   "outputs": [],
   "source": [
    "import numpy as np"
   ]
  },
  {
   "cell_type": "markdown",
   "id": "8740b2c8-c543-44c3-bbef-5d9960a30f15",
   "metadata": {},
   "source": [
    "Since we don't have any data yet, we will generate an array containing some numbers. The `linspace` function returns an array of uniformly spaced values."
   ]
  },
  {
   "cell_type": "code",
   "execution_count": 2,
   "id": "19cb02e2-375c-4093-a5d9-24c0b25197cb",
   "metadata": {},
   "outputs": [],
   "source": [
    "x = np.linspace(1, 8, 101)"
   ]
  },
  {
   "cell_type": "markdown",
   "id": "419396d5-8244-4f4e-82ed-7bdf1fe49c91",
   "metadata": {},
   "source": [
    "### Basic Functions\n",
    "There are lots of things we want to be able to do with arrays: find the minimum and maximum, range of values, and sum of the values for example. Some of these are methods of the numpy array, so we use `x.method()`. For others, the functions are part of numpy itself, so we use `np.function(x)`. Finally, the length of an array is native to python, so we call it directly `len(x)`. You'll learn over time where different operations live, or you can always search online in the documentation."
   ]
  },
  {
   "cell_type": "code",
   "execution_count": 3,
   "id": "ca532d4c-0983-46a3-ad37-27fe0e5e7124",
   "metadata": {},
   "outputs": [
    {
     "name": "stdout",
     "output_type": "stream",
     "text": [
      "Min:   1.0\n",
      "Max:   8.0\n",
      "Range: 7.0\n",
      "Sum:   454.5000000000001\n",
      "Count: 101\n"
     ]
    }
   ],
   "source": [
    "print(f'Min:   {x.min()}')\n",
    "print(f'Max:   {x.max()}')\n",
    "# ptp returns the range of values in the array.\n",
    "print(f'Range: {x.ptp()}')\n",
    "print(f'Sum:   {np.sum(x)}')\n",
    "print(f'Count: {len(x)}')"
   ]
  },
  {
   "cell_type": "markdown",
   "id": "1f1829f5-bedb-4370-b73f-4b02fda90f21",
   "metadata": {},
   "source": [
    "There are also a range of statistical functions provided by numpy that are worth knowing about. It's also a good habit to think about your reader when presenting information. Here, we have rounded to two decimal places."
   ]
  },
  {
   "cell_type": "code",
   "execution_count": 4,
   "id": "a9364555-5d78-4e98-8a54-9ca56e41f871",
   "metadata": {},
   "outputs": [
    {
     "name": "stdout",
     "output_type": "stream",
     "text": [
      "Median:   4.50\n",
      "Mean:     4.50\n",
      "Std Dev:  2.04\n",
      "Variance: 4.17\n"
     ]
    }
   ],
   "source": [
    "print(f'Median:   {np.median(x):.2f}')\n",
    "print(f'Mean:     {np.mean(x):.2f}')\n",
    "print(f'Std Dev:  {np.std(x):.2f}')\n",
    "print(f'Variance: {np.var(x):.2f}')"
   ]
  },
  {
   "cell_type": "markdown",
   "id": "585cc548-8703-4759-945e-cd9e2a05513d",
   "metadata": {},
   "source": [
    "Numpy also contains a lot of mathematical functions, many of which are vectorised. This means that they apply element-wise to the values in the array. For example, we can evaluate the sine function on each element of the array."
   ]
  },
  {
   "cell_type": "code",
   "execution_count": 5,
   "id": "e3b8a34a-05d9-4843-9936-e3f40e21ef4b",
   "metadata": {},
   "outputs": [
    {
     "name": "stdout",
     "output_type": "stream",
     "text": [
      "[ 0.0000000e+00  1.0000000e+00  1.2246468e-16 -1.0000000e+00\n",
      " -2.4492936e-16]\n"
     ]
    }
   ],
   "source": [
    "x = np.array([0, np.pi/2, np.pi,3*np.pi/2,2*np.pi])\n",
    "sin_vals = np.sin(x)\n",
    "print(sin_vals)"
   ]
  },
  {
   "cell_type": "markdown",
   "id": "694899c1-a19e-450a-ba65-db536517d128",
   "metadata": {},
   "source": [
    "### Indexing and Filtering"
   ]
  },
  {
   "cell_type": "markdown",
   "id": "21eb6d5a-6e3c-4e62-8cc3-cb1c6dfb1cdd",
   "metadata": {},
   "source": [
    "You can access a particular element of an array using square braces."
   ]
  },
  {
   "cell_type": "code",
   "execution_count": 6,
   "id": "b3f27785-6e2d-4bab-ac3f-1c446508fa07",
   "metadata": {},
   "outputs": [
    {
     "name": "stdout",
     "output_type": "stream",
     "text": [
      "0.0\n",
      "1.57\n"
     ]
    }
   ],
   "source": [
    "x = np.array([0, np.pi/2, np.pi,3*np.pi/2,2*np.pi])\n",
    "print(x[0])\n",
    "print(f'{x[1]:.2f}')"
   ]
  },
  {
   "cell_type": "markdown",
   "id": "36773ea5-3ce5-4a6b-9685-138441345b50",
   "metadata": {},
   "source": [
    "We might also want to count how many values are bigger than some threshold. Similar to the sine function, logical operations can be vectorized, so `>` returns a Boolean array indicating which numbers are greater than the threshold."
   ]
  },
  {
   "cell_type": "code",
   "execution_count": 7,
   "id": "27b5ce0a-fbf8-4678-8ff0-f347787bf471",
   "metadata": {},
   "outputs": [
    {
     "data": {
      "text/plain": [
       "array([False, False,  True,  True,  True])"
      ]
     },
     "execution_count": 7,
     "metadata": {},
     "output_type": "execute_result"
    }
   ],
   "source": [
    "x>3"
   ]
  },
  {
   "cell_type": "markdown",
   "id": "603ac6e5-0468-4ed2-a87d-1a52a90edae8",
   "metadata": {},
   "source": [
    "We can use that array as a filter on the original array to find just the values greater than 3."
   ]
  },
  {
   "cell_type": "code",
   "execution_count": 8,
   "id": "daf04e29-88b5-4469-b8e5-8a27b7f4885a",
   "metadata": {},
   "outputs": [
    {
     "data": {
      "text/plain": [
       "array([3.14159265, 4.71238898, 6.28318531])"
      ]
     },
     "execution_count": 8,
     "metadata": {},
     "output_type": "execute_result"
    }
   ],
   "source": [
    "x[x > 3]"
   ]
  },
  {
   "cell_type": "markdown",
   "id": "d416711e-57ea-4a43-82ac-6702088b54f8",
   "metadata": {},
   "source": [
    "From here, it is easy to count them. In fact, there are multiple ways to do it. We showed you `len(x)` before, but `x.size` is a better for numpy arrays because it would work even if `x` had more than one dimension."
   ]
  },
  {
   "cell_type": "code",
   "execution_count": 9,
   "id": "4f1b8c73-49f2-46a4-8c77-236130d01387",
   "metadata": {},
   "outputs": [
    {
     "data": {
      "text/plain": [
       "3"
      ]
     },
     "execution_count": 9,
     "metadata": {},
     "output_type": "execute_result"
    }
   ],
   "source": [
    "x[x>3].size"
   ]
  },
  {
   "cell_type": "markdown",
   "id": "9b210a35-e1d6-491a-806c-6156ba7312e7",
   "metadata": {},
   "source": [
    "**WARNING:** There are a couple of ways to index into a numpy array and they have different effects. Understanding how to exploit this is useful but beyond the scope of this course. "
   ]
  },
  {
   "cell_type": "markdown",
   "id": "98fb82bf-bf67-40a3-9527-b1a84a9fea45",
   "metadata": {
    "tags": []
   },
   "source": [
    "### Question\n",
    "\n",
    "Implement a function to compute the median of an array without using the `median` method. Did it mutate your array? Did you need to make a copy of the array? We've given you a starter function and a testing example to help.\n",
    "\n",
    "_Hint:_ [sort function](https://numpy.org/doc/stable/reference/generated/numpy.sort.html?highlight=sort#numpy.sort), [sort method](https://numpy.org/doc/stable/reference/generated/numpy.ndarray.sort.html?highlight=sort#numpy.ndarray.sort)"
   ]
  },
  {
   "cell_type": "code",
   "execution_count": 10,
   "id": "9ba475be-a2eb-4ef2-babf-d27462e8b2ac",
   "metadata": {},
   "outputs": [],
   "source": [
    "def my_median(a):\n",
    "    return 0."
   ]
  },
  {
   "cell_type": "code",
   "execution_count": 11,
   "id": "c7c1859e-e56c-4b4b-af23-00f709b9af3e",
   "metadata": {},
   "outputs": [
    {
     "name": "stdout",
     "output_type": "stream",
     "text": [
      "Actual Median: 0.0\n",
      "My Median 0.0\n",
      "Test Result: True\n",
      "\n"
     ]
    }
   ],
   "source": [
    "aa = np.linspace(-5,5,11)\n",
    "\n",
    "print(f'Actual Median: {np.median(aa)}\\n'\n",
    "      f'My Median {my_median(aa)}\\n'\n",
    "      f'Test Result: {np.median(aa) == my_median(aa)}\\n')"
   ]
  },
  {
   "cell_type": "markdown",
   "id": "53f26e3e-56f7-4f52-9c45-abee43f930ff",
   "metadata": {
    "tags": []
   },
   "source": [
    "#### Answer"
   ]
  },
  {
   "cell_type": "code",
   "execution_count": 12,
   "id": "05a0bcdb-b9b8-45d5-9464-990ac92841b1",
   "metadata": {},
   "outputs": [
    {
     "name": "stdout",
     "output_type": "stream",
     "text": [
      "Actual Median: 1.0\n",
      "My Median 1.0\n",
      "Test Result: True\n",
      "\n",
      "Actual Median: 1.5\n",
      "My Median 1.5\n",
      "Test Result: True\n",
      "\n",
      "Actual Median: 2.0\n",
      "My Median 2.0\n",
      "Test Result: True\n",
      "\n",
      "Actual Median: 2.5\n",
      "My Median 2.5\n",
      "Test Result: True\n",
      "\n"
     ]
    }
   ],
   "source": [
    "def my_median(a):\n",
    "    tmp = np.sort(a)\n",
    "    n = len(a)\n",
    "    ix = round(np.floor(n/2))\n",
    "    if n % 2 == 0:\n",
    "        return (0.5 * (tmp[ix-1] + tmp[ix]))\n",
    "    else:\n",
    "        return (tmp[ix])\n",
    "    \n",
    "aa = np.array([1.])\n",
    "print(f'Actual Median: {np.median(aa)}\\n'\n",
    "      f'My Median {my_median(aa)}\\n'\n",
    "      f'Test Result: {np.median(aa) == my_median(aa)}\\n')\n",
    "aa = np.array([2.,1.])\n",
    "print(f'Actual Median: {np.median(aa)}\\n'\n",
    "      f'My Median {my_median(aa)}\\n'\n",
    "      f'Test Result: {np.median(aa) == my_median(aa)}\\n')\n",
    "aa = np.array([2.,3.,1.])\n",
    "print(f'Actual Median: {np.median(aa)}\\n'\n",
    "      f'My Median {my_median(aa)}\\n'\n",
    "      f'Test Result: {np.median(aa) == my_median(aa)}\\n')\n",
    "aa = np.array([4.,2.,3.,1.])\n",
    "print(f'Actual Median: {np.median(aa)}\\n'\n",
    "      f'My Median {my_median(aa)}\\n'\n",
    "      f'Test Result: {np.median(aa) == my_median(aa)}\\n')"
   ]
  },
  {
   "cell_type": "markdown",
   "id": "c751b063-4c4b-47f2-bfa6-0534ac66dfeb",
   "metadata": {},
   "source": [
    "## Scipy\n",
    "\n",
    "The convention here is to import the statistics submodule as `stats`."
   ]
  },
  {
   "cell_type": "code",
   "execution_count": 13,
   "id": "752d90bc-3049-4ea1-8c4a-6882932c2e15",
   "metadata": {},
   "outputs": [],
   "source": [
    "import scipy.stats as stats"
   ]
  },
  {
   "cell_type": "markdown",
   "id": "c91a2424-b7c0-492d-99a3-0cecb8f5c5a2",
   "metadata": {},
   "source": [
    "Generating random numbers is a common task in statistics. There are lots of [distributions](https://docs.scipy.org/doc/scipy/reference/stats.html#probability-distributions) available in scipy. The lines below return arrays of normal random variables with a specified mean and standard deviation. In general, you should check the documentation for the definition used for `loc` and `scale` as it can vary."
   ]
  },
  {
   "cell_type": "code",
   "execution_count": 14,
   "id": "0dd43f50-6912-48f3-9eaf-3cc6bed2f87e",
   "metadata": {
    "tags": []
   },
   "outputs": [],
   "source": [
    "norm_rvs = stats.norm.rvs(loc = 0, scale = 1, size = 101)"
   ]
  },
  {
   "cell_type": "markdown",
   "id": "627f70d4-302b-4e40-b882-10ee5a0bbd90",
   "metadata": {},
   "source": [
    "The `stats.norm` object has lots of methods though, for example, you can ask for the mean of the distribution and evaluate its probability density function."
   ]
  },
  {
   "cell_type": "code",
   "execution_count": 15,
   "id": "1a80896b-06d3-4ba7-a83e-af29d645a51e",
   "metadata": {},
   "outputs": [
    {
     "data": {
      "text/plain": [
       "0.0"
      ]
     },
     "execution_count": 15,
     "metadata": {},
     "output_type": "execute_result"
    }
   ],
   "source": [
    "stats.norm.mean(loc = 0, scale = 1)"
   ]
  },
  {
   "cell_type": "code",
   "execution_count": 16,
   "id": "aebf3ed7-d11a-4555-93ed-9ac9e5792313",
   "metadata": {},
   "outputs": [
    {
     "data": {
      "text/plain": [
       "0.24197072451914337"
      ]
     },
     "execution_count": 16,
     "metadata": {},
     "output_type": "execute_result"
    }
   ],
   "source": [
    "stats.norm.pdf(x = 1, loc = 0, scale = 1)\n",
    "\n"
   ]
  },
  {
   "cell_type": "markdown",
   "id": "a9f5cd01-b53a-4848-9827-87e12ff082f7",
   "metadata": {},
   "source": [
    "### Question\n",
    "\n",
    "Generate a large number of random variable with a geometric distribution with parameter $p = 1/2$ and confirm that the average of these values is close to the mean of that distribution. \n",
    "\n",
    "*Hint:* the [wikipedia page](https://en.wikipedia.org/wiki/Geometric_distribution) for the geometric distribution may be useful with this."
   ]
  },
  {
   "cell_type": "markdown",
   "id": "38e67a21-31ec-41da-afa5-103c1d600b90",
   "metadata": {},
   "source": [
    "#### Answer\n",
    "\n",
    "Use `stats.geom.rvs(p=0.5, size=10000)` to get the array of values and the `mean` method to compute the mean. You can calculate the mean of this distribution as $1/p$ of use the method which does this `stats.geom.mean(p=0.5)`"
   ]
  },
  {
   "cell_type": "markdown",
   "id": "0985e856-ab5e-41d4-af1d-ed308abb57ce",
   "metadata": {},
   "source": [
    "### Question\n",
    "\n",
    "The median and mean are to ways to describe \"middle\" of a dataset. When would the mean be more useful? When would the median be more useful?"
   ]
  },
  {
   "cell_type": "markdown",
   "id": "f4081465-5221-4aa8-873f-c55df5fcf8de",
   "metadata": {},
   "source": [
    "#### Answer\n",
    "\n",
    "Individuals' income provides us examples both ways:\n",
    "\n",
    "- the mean is more useful when you care about the population as a whole. For example, the mean would be useful if you were trying to estimate the total earnings of people aged $+50$ a random sample.\n",
    "- the median is more useful if you are trying to understand the bulk of the population excluding outliers. For example, the median would be useful if you were trying to describe the earnings of $90\\%$ of voters."
   ]
  },
  {
   "cell_type": "markdown",
   "id": "fe59bcc6-2c0e-47c2-8736-892e135ac2c8",
   "metadata": {},
   "source": [
    "## Matplotlib\n",
    "\n",
    "We will primarily use the pyplot interface for matplotlib. The convention here is to import this module as `plt`. The command `%matplotlib inline` is called \"cell magic\" and makes the plots appear under the cells in Jupyter notebooks."
   ]
  },
  {
   "cell_type": "code",
   "execution_count": 17,
   "id": "08d55a31-f271-446b-9531-e999935a3262",
   "metadata": {},
   "outputs": [],
   "source": [
    "import matplotlib.pyplot as plt\n",
    "%matplotlib inline"
   ]
  },
  {
   "cell_type": "markdown",
   "id": "2c60eee9-d865-4206-b691-9d98966fc52e",
   "metadata": {},
   "source": [
    "Below we provide the code for some of the fundemental plots you will need. There is an extensive [gallery](https://matplotlib.org/stable/gallery/index.html) to demonstrate more complex plots. "
   ]
  },
  {
   "cell_type": "markdown",
   "id": "70e9e605-188a-4f55-ae95-fad5abb0e3f6",
   "metadata": {},
   "source": [
    "### Line plot"
   ]
  },
  {
   "cell_type": "code",
   "execution_count": 18,
   "id": "d8afafcb-1473-4fa5-b682-9a4428143514",
   "metadata": {},
   "outputs": [],
   "source": [
    "x = np.linspace(0,np.pi*2,101)\n",
    "sin_vals = np.sin(x)"
   ]
  },
  {
   "cell_type": "code",
   "execution_count": 19,
   "id": "2a693412-bf4d-42dc-87d7-630faa8e87a9",
   "metadata": {},
   "outputs": [
    {
     "data": {
      "image/png": "[encoded data removed]",
      "text/plain": [
       "<Figure size 432x288 with 1 Axes>"
      ]
     },
     "metadata": {
      "needs_background": "light"
     },
     "output_type": "display_data"
    }
   ],
   "source": [
    "plt.figure()\n",
    "plt.plot(x, sin_vals, color = \"#67a9cf\")\n",
    "plt.show()"
   ]
  },
  {
   "cell_type": "markdown",
   "id": "5024b8d1-3daf-4c9d-b5be-a1883488426c",
   "metadata": {},
   "source": [
    "### Scatter plot"
   ]
  },
  {
   "cell_type": "code",
   "execution_count": 20,
   "id": "ed93cd39-d698-4c03-880f-435a20e5db41",
   "metadata": {},
   "outputs": [
    {
     "data": {
      "image/png": "[encoded data removed]",
      "text/plain": [
       "<Figure size 432x288 with 1 Axes>"
      ]
     },
     "metadata": {
      "needs_background": "light"
     },
     "output_type": "display_data"
    }
   ],
   "source": [
    "plt.figure()\n",
    "plt.scatter(x, norm_rvs, color = \"#67a9cf\")\n",
    "plt.show()"
   ]
  },
  {
   "cell_type": "markdown",
   "id": "0561b6fa-bb48-4f9f-9aff-7ffda54bd2a1",
   "metadata": {},
   "source": [
    "### Histogram"
   ]
  },
  {
   "cell_type": "code",
   "execution_count": 21,
   "id": "bd69b774-889b-41ca-8ca2-4df050361f1f",
   "metadata": {},
   "outputs": [
    {
     "data": {
      "image/png": "[encoded data removed]",
      "text/plain": [
       "<Figure size 432x288 with 1 Axes>"
      ]
     },
     "metadata": {
      "needs_background": "light"
     },
     "output_type": "display_data"
    }
   ],
   "source": [
    "plt.figure()\n",
    "plt.hist(norm_rvs, bins = 10, color = \"#67a9cf\")\n",
    "plt.show()"
   ]
  },
  {
   "cell_type": "markdown",
   "id": "b51b3c41-6848-4aee-971f-22351fecad5d",
   "metadata": {},
   "source": [
    "### Multiple layers"
   ]
  },
  {
   "cell_type": "code",
   "execution_count": 22,
   "id": "74f76fb6-7757-4457-a229-fd3d344f209b",
   "metadata": {},
   "outputs": [
    {
     "data": {
      "image/png": "[encoded data removed]",
      "text/plain": [
       "<Figure size 432x288 with 1 Axes>"
      ]
     },
     "metadata": {
      "needs_background": "light"
     },
     "output_type": "display_data"
    }
   ],
   "source": [
    "fig = plt.figure()\n",
    "ax = fig.add_axes([0.1,0.1,0.8,0.8])\n",
    "ax.plot(x, sin_vals, color = \"#ef8a62\", label = \"Sine\")\n",
    "ax.scatter(x, norm_rvs, color = \"#67a9cf\", label = \"Random\")\n",
    "ax.legend(loc = \"upper right\")\n",
    "ax.set_xlabel(\"My x-axis title\")\n",
    "ax.set_ylabel(\"My y-axis title\")\n",
    "plt.show()"
   ]
  },
  {
   "cell_type": "markdown",
   "id": "7d9b99de-590c-4ee2-9b4d-879ca4887b59",
   "metadata": {},
   "source": [
    "### Question\n",
    "\n",
    "Without looking at the answer below, attmpet to create this plot where the histogram is of 1000 exponential random variables, $\\lambda = 1.0$, and we have drawn the density of this distribution on top.\n",
    "\n",
    "<img src=\"./challenge-figure-hist.png\" style=\"width: 500px;\"/>"
   ]
  },
  {
   "cell_type": "markdown",
   "id": "f3f5dfa2-f56a-44ba-beb8-72f5c9548388",
   "metadata": {},
   "source": [
    "#### Answer"
   ]
  },
  {
   "cell_type": "code",
   "execution_count": 23,
   "id": "8b38d7ea-fc83-4e15-86e8-714d35da2982",
   "metadata": {},
   "outputs": [
    {
     "data": {
      "image/png": "[encoded data removed]",
      "text/plain": [
       "<Figure size 432x288 with 1 Axes>"
      ]
     },
     "metadata": {
      "needs_background": "light"
     },
     "output_type": "display_data"
    }
   ],
   "source": [
    "exp_rvs = stats.expon.rvs(scale = 1, size = 1000)\n",
    "exp_x = np.linspace(exp_rvs.min(), exp_rvs.max(), 100)\n",
    "exp_y = stats.expon.pdf(x = exp_x, scale = 1)\n",
    "\n",
    "plt.figure()\n",
    "plt.hist(exp_rvs, density=True, color = \"#67a9cf\", label = \"Empirical\")\n",
    "plt.plot(exp_x, exp_y, color = \"#ef8a62\", label = \"Theoretical\")\n",
    "plt.legend(loc = \"upper right\")\n",
    "plt.xlabel(\"Variable\")\n",
    "plt.ylabel(\"Density\")\n",
    "plt.title(\"Exponential random variables\", loc = \"left\")\n",
    "plt.show()"
   ]
  },
  {
   "cell_type": "markdown",
   "id": "508ab81b-381a-44bb-b007-51e0fe5a4093",
   "metadata": {},
   "source": [
    "### Question\n",
    "\n",
    "A simple way to approximate pi is to inscribe a circle into a square. The area of the circle divided by the area of the square will be pi/4. Create an image like the one below, which uses this approach to approximate the value of pi. Be sure the title updates automatically.\n",
    "\n",
    "<img src=\"./challenge-figure-pi.png\" style=\"width: 500px;\"/>"
   ]
  },
  {
   "cell_type": "markdown",
   "id": "422c1e7c-600f-4b38-af81-0e778fda95c6",
   "metadata": {},
   "source": [
    "#### Answer"
   ]
  },
  {
   "cell_type": "code",
   "execution_count": 24,
   "id": "cfa3d63b-1c73-4a0d-9f15-fd4270fd96a5",
   "metadata": {},
   "outputs": [
    {
     "data": {
      "image/png": "[encoded data removed]",
      "text/plain": [
       "<Figure size 360x360 with 1 Axes>"
      ]
     },
     "metadata": {
      "needs_background": "light"
     },
     "output_type": "display_data"
    }
   ],
   "source": [
    "x = np.random.uniform(-1,1,size = 1000)\n",
    "y = np.random.uniform(-1,1,size = 1000)\n",
    "\n",
    "deg = np.linspace(0,2*np.pi)\n",
    "x_circ = np.cos(deg)\n",
    "y_circ = np.sin(deg)\n",
    "\n",
    "mask = x ** 2 + y ** 2 < 1\n",
    "\n",
    "fig = plt.figure(figsize=(5,5))\n",
    "ax = fig.add_axes([0.1,0.1,0.9,0.9])\n",
    "ax.scatter(x[mask], y[mask], color = \"#ef8a62\")\n",
    "ax.scatter(x[np.logical_not(mask)], y[np.logical_not(mask)], color = \"#67a9cf\")\n",
    "ax.plot(x_circ, y_circ)\n",
    "ax.get_xaxis().set_visible(False)\n",
    "ax.set_xlim(-1,1)\n",
    "ax.get_yaxis().set_visible(False)\n",
    "ax.set_ylim(-1,1)\n",
    "ax.set_title(f'The approximate value of pi is {mask.sum()*4 / mask.size}')\n",
    "plt.savefig('challenge-figure-pi.png',bbox_inches='tight')"
   ]
  },
  {
   "cell_type": "markdown",
   "id": "27578f9b-2428-42d2-aeb7-a39ec9b743f3",
   "metadata": {},
   "source": [
    "### Extra Challenge"
   ]
  },
  {
   "cell_type": "markdown",
   "id": "d95980ab-0bcf-4fa3-bc1d-105b4613abd9",
   "metadata": {},
   "source": [
    "It is possible to compute the standard deviation of the distribution of estimated values for pi using a binomial distribution. In the example above, we take 1000 samples. How many samples would be needed to ensure that the estimate is correct to three digits (3.14) with 99% probability?\n",
    "\n",
    "**Note**: This is beyond the scope of this section, but is something you should be able to work out by the end of the course."
   ]
  },
  {
   "cell_type": "markdown",
   "id": "dc724fb1-c1a0-4513-94d6-fa846496db67",
   "metadata": {},
   "source": [
    "## Pandas\n",
    "\n",
    "Pandas provides functions for a lot of standard data manipulations, and is a very popular Python package in data science for that reason. This includes functions for [reading data from many formats](https://pandas.pydata.org/docs/getting_started/intro_tutorials/02_read_write.html#min-tut-02-read-write). The convention is to import it as `pd`. The `head` method prints the first couple of rows in the dataframe."
   ]
  },
  {
   "cell_type": "code",
   "execution_count": 25,
   "id": "a529530a-b977-4dec-9b91-2b1b4394a9ed",
   "metadata": {},
   "outputs": [],
   "source": [
    "import pandas as pd"
   ]
  },
  {
   "cell_type": "markdown",
   "id": "56f51ef3-932f-4eeb-8b7b-9b5f77878b64",
   "metadata": {},
   "source": [
    "The `read_csv` function will read a CSV into a pandas dataframe. Pandas will first attempt to load the data from a local file, but if it cannot find `iris.csv` it will attempt to download it from the URL given. Here we are loading the `iris` data set, which has some information about flowers of three related species."
   ]
  },
  {
   "cell_type": "code",
   "execution_count": 26,
   "id": "d6188ddc-255b-4ef9-9d73-a6d008119555",
   "metadata": {
    "tags": []
   },
   "outputs": [
    {
     "name": "stdout",
     "output_type": "stream",
     "text": [
      "iris loaded from file\n",
      "\n"
     ]
    },
    {
     "data": {
      "text/html": [
       "<div>\n",
       "<style scoped>\n",
       "    .dataframe tbody tr th:only-of-type {\n",
       "        vertical-align: middle;\n",
       "    }\n",
       "\n",
       "    .dataframe tbody tr th {\n",
       "        vertical-align: top;\n",
       "    }\n",
       "\n",
       "    .dataframe thead th {\n",
       "        text-align: right;\n",
       "    }\n",
       "</style>\n",
       "<table border=\"1\" class=\"dataframe\">\n",
       "  <thead>\n",
       "    <tr style=\"text-align: right;\">\n",
       "      <th></th>\n",
       "      <th>sepal_length</th>\n",
       "      <th>sepal_width</th>\n",
       "      <th>petal_length</th>\n",
       "      <th>petal_width</th>\n",
       "      <th>species</th>\n",
       "    </tr>\n",
       "  </thead>\n",
       "  <tbody>\n",
       "    <tr>\n",
       "      <th>0</th>\n",
       "      <td>5.1</td>\n",
       "      <td>3.5</td>\n",
       "      <td>1.4</td>\n",
       "      <td>0.2</td>\n",
       "      <td>setosa</td>\n",
       "    </tr>\n",
       "    <tr>\n",
       "      <th>1</th>\n",
       "      <td>4.9</td>\n",
       "      <td>3.0</td>\n",
       "      <td>1.4</td>\n",
       "      <td>0.2</td>\n",
       "      <td>setosa</td>\n",
       "    </tr>\n",
       "    <tr>\n",
       "      <th>2</th>\n",
       "      <td>4.7</td>\n",
       "      <td>3.2</td>\n",
       "      <td>1.3</td>\n",
       "      <td>0.2</td>\n",
       "      <td>setosa</td>\n",
       "    </tr>\n",
       "    <tr>\n",
       "      <th>3</th>\n",
       "      <td>4.6</td>\n",
       "      <td>3.1</td>\n",
       "      <td>1.5</td>\n",
       "      <td>0.2</td>\n",
       "      <td>setosa</td>\n",
       "    </tr>\n",
       "    <tr>\n",
       "      <th>4</th>\n",
       "      <td>5.0</td>\n",
       "      <td>3.6</td>\n",
       "      <td>1.4</td>\n",
       "      <td>0.2</td>\n",
       "      <td>setosa</td>\n",
       "    </tr>\n",
       "  </tbody>\n",
       "</table>\n",
       "</div>"
      ],
      "text/plain": [
       "   sepal_length  sepal_width  petal_length  petal_width species\n",
       "0           5.1          3.5           1.4          0.2  setosa\n",
       "1           4.9          3.0           1.4          0.2  setosa\n",
       "2           4.7          3.2           1.3          0.2  setosa\n",
       "3           4.6          3.1           1.5          0.2  setosa\n",
       "4           5.0          3.6           1.4          0.2  setosa"
      ]
     },
     "execution_count": 26,
     "metadata": {},
     "output_type": "execute_result"
    }
   ],
   "source": [
    "iris_url = \"https://raw.githubusercontent.com/aezarebski/aas-extended-examples/main/example-0/iris.csv\"\n",
    "iris_file = \"iris.csv\"\n",
    "\n",
    "try:\n",
    "    iris = pd.read_csv(iris_file)\n",
    "    print(\"iris loaded from file\\n\")\n",
    "except:\n",
    "    print(\"Could not load iris from file, defaulting to URL\")\n",
    "    iris = pd.read_csv(iris_url)\n",
    "    print(\"iris loaded from URL\\n\")\n",
    "        \n",
    "iris.head()"
   ]
  },
  {
   "cell_type": "markdown",
   "id": "c04cc8f3-e138-4680-b8d6-a81d04da7e59",
   "metadata": {},
   "source": [
    "The following cell demonstrates how we can use the `query` method to select a subset of the data and then plot it."
   ]
  },
  {
   "cell_type": "code",
   "execution_count": 27,
   "id": "651bb78e-bf70-440d-8ddc-7b5bbae9db33",
   "metadata": {},
   "outputs": [
    {
     "data": {
      "image/png": "[encoded data removed]",
      "text/plain": [
       "<Figure size 432x288 with 1 Axes>"
      ]
     },
     "metadata": {
      "needs_background": "light"
     },
     "output_type": "display_data"
    }
   ],
   "source": [
    "plt.figure()\n",
    "for species in iris.species.unique():\n",
    "    tmp = iris.query(\"species == '{s}'\".format(s = species))\n",
    "    plt.scatter(tmp.sepal_length, tmp.sepal_width, label = species)\n",
    "plt.xlabel(\"Sepal Length\")\n",
    "plt.ylabel(\"Sepal Width\")\n",
    "plt.legend(title = \"Species\", loc = \"upper right\")\n",
    "plt.show()"
   ]
  },
  {
   "cell_type": "markdown",
   "id": "fb118225-09fe-412f-9057-70cb26a93b43",
   "metadata": {},
   "source": [
    "Pandas provides many tools to wrangle data. The following example summarises the sepal length of each species. It starts by grouping the data by species, then it extracts the sepal length variable, finally it computes the mean and standard deviation of these values"
   ]
  },
  {
   "cell_type": "code",
   "execution_count": 28,
   "id": "7cb61f4f-7df0-4e88-beab-54133b8c1e77",
   "metadata": {},
   "outputs": [
    {
     "name": "stdout",
     "output_type": "stream",
     "text": [
      "           sepal_length       \n",
      "                    std   mean\n",
      "species                       \n",
      "setosa         0.352490  5.006\n",
      "versicolor     0.516171  5.936\n",
      "virginica      0.635880  6.588\n"
     ]
    }
   ],
   "source": [
    "iris_summary = iris.groupby(\"species\")[[\"sepal_length\"]].agg({\"sepal_length\": [\"std\", \"mean\"]})\n",
    "print(iris_summary)"
   ]
  },
  {
   "cell_type": "markdown",
   "id": "69601698-08c3-4c37-a65c-8db121b4b8d1",
   "metadata": {},
   "source": [
    "Depending upon the version of pandas the previous code may throw an error. If that is the case, try replacing it with the following\n",
    "\n",
    "```\n",
    "iris_summary = iris.groupby(\"species\").agg({\"sepal_length\": [\"std\", \"mean\"]})\n",
    "```"
   ]
  },
  {
   "cell_type": "markdown",
   "id": "022dda49-9b5d-4b91-a83a-999be4184874",
   "metadata": {},
   "source": [
    "This data can then be represented as a bar chart with error bars to indicate two standard deviations about the mean. This is a popular way to visualise this sort of data. It is not the optimal way to represent this data, can you think of a better way? Why do you think we have used two standard deviations in the error bars?"
   ]
  },
  {
   "cell_type": "code",
   "execution_count": 29,
   "id": "8de192f6-b2fc-4aaa-982b-88b00637f996",
   "metadata": {},
   "outputs": [
    {
     "data": {
      "image/png": "[encoded data removed]",
      "text/plain": [
       "<Figure size 432x288 with 1 Axes>"
      ]
     },
     "metadata": {
      "needs_background": "light"
     },
     "output_type": "display_data"
    }
   ],
   "source": [
    "plt.figure()\n",
    "plt.bar(iris_summary.index, \n",
    "        iris_summary.sepal_length[\"mean\"], \n",
    "        yerr=2*iris_summary.sepal_length[\"std\"],\n",
    "        color = \"#67a9cf\")\n",
    "plt.xlabel(\"Species\")\n",
    "plt.ylabel(\"Sepal Length\")\n",
    "plt.show()"
   ]
  },
  {
   "cell_type": "markdown",
   "id": "c73da5f8-c7e2-46f0-9508-cdf535943432",
   "metadata": {},
   "source": [
    "### Question\n",
    "\n",
    "Find a better (in your opinion) way to display these data and explain why you think it is better.\n",
    "\n",
    "#### Answer\n",
    "\n",
    "Here is a subjective list:\n",
    "\n",
    "1. _swarm plot_\n",
    "2. _jittered scatter plot_\n",
    "3. _box plot_\n",
    "4. _violin plot_\n",
    "\n",
    "Plots that display the data in a clean way with minimal loss of information are preferable."
   ]
  },
  {
   "cell_type": "markdown",
   "id": "03b57eaf-bcee-4041-85df-dae469aa6f91",
   "metadata": {},
   "source": [
    "### Question\n",
    "\n",
    "What do you notice about the correlation between the sepal length and width? Is there a positive or negative correlation?\n",
    "\n",
    "* _Hint 1_ [hmmm](https://en.wikipedia.org/wiki/Simpson%27s_paradox)\n",
    "* _Hint 2_ [it should only take two lines of code](https://pandas.pydata.org/pandas-docs/stable/reference/api/pandas.core.groupby.DataFrameGroupBy.corr.html?highlight=corr#) \n"
   ]
  },
  {
   "cell_type": "markdown",
   "id": "7aad061d-841b-48cb-9b7f-48e544eadd5f",
   "metadata": {},
   "source": [
    "#### Answer\n",
    "\n",
    "This is a classic example of Simpson's paradox. If you just look at the correlation without considering that they are drawn from different species, you will get a surprising answer. If you look at the correlations after grouping the data by species you get a far more reasonable result.\n",
    "\n",
    "The two lines of code to see this are shown below.\n"
   ]
  },
  {
   "cell_type": "code",
   "execution_count": 30,
   "id": "89f1fcd6-98a1-4f7e-bb58-b4c8e6d57b6d",
   "metadata": {},
   "outputs": [
    {
     "data": {
      "text/html": [
       "<div>\n",
       "<style scoped>\n",
       "    .dataframe tbody tr th:only-of-type {\n",
       "        vertical-align: middle;\n",
       "    }\n",
       "\n",
       "    .dataframe tbody tr th {\n",
       "        vertical-align: top;\n",
       "    }\n",
       "\n",
       "    .dataframe thead th {\n",
       "        text-align: right;\n",
       "    }\n",
       "</style>\n",
       "<table border=\"1\" class=\"dataframe\">\n",
       "  <thead>\n",
       "    <tr style=\"text-align: right;\">\n",
       "      <th></th>\n",
       "      <th>sepal_length</th>\n",
       "      <th>sepal_width</th>\n",
       "    </tr>\n",
       "  </thead>\n",
       "  <tbody>\n",
       "    <tr>\n",
       "      <th>sepal_length</th>\n",
       "      <td>1.00000</td>\n",
       "      <td>-0.11757</td>\n",
       "    </tr>\n",
       "    <tr>\n",
       "      <th>sepal_width</th>\n",
       "      <td>-0.11757</td>\n",
       "      <td>1.00000</td>\n",
       "    </tr>\n",
       "  </tbody>\n",
       "</table>\n",
       "</div>"
      ],
      "text/plain": [
       "              sepal_length  sepal_width\n",
       "sepal_length       1.00000     -0.11757\n",
       "sepal_width       -0.11757      1.00000"
      ]
     },
     "execution_count": 30,
     "metadata": {},
     "output_type": "execute_result"
    }
   ],
   "source": [
    "iris.filter(items = [\"sepal_length\", \"sepal_width\", \"species\"]).corr()"
   ]
  },
  {
   "cell_type": "code",
   "execution_count": 31,
   "id": "d24e9601-8fc1-43c0-b3af-dbd34cfbb690",
   "metadata": {},
   "outputs": [
    {
     "data": {
      "text/html": [
       "<div>\n",
       "<style scoped>\n",
       "    .dataframe tbody tr th:only-of-type {\n",
       "        vertical-align: middle;\n",
       "    }\n",
       "\n",
       "    .dataframe tbody tr th {\n",
       "        vertical-align: top;\n",
       "    }\n",
       "\n",
       "    .dataframe thead th {\n",
       "        text-align: right;\n",
       "    }\n",
       "</style>\n",
       "<table border=\"1\" class=\"dataframe\">\n",
       "  <thead>\n",
       "    <tr style=\"text-align: right;\">\n",
       "      <th></th>\n",
       "      <th></th>\n",
       "      <th>sepal_length</th>\n",
       "      <th>sepal_width</th>\n",
       "    </tr>\n",
       "    <tr>\n",
       "      <th>species</th>\n",
       "      <th></th>\n",
       "      <th></th>\n",
       "      <th></th>\n",
       "    </tr>\n",
       "  </thead>\n",
       "  <tbody>\n",
       "    <tr>\n",
       "      <th rowspan=\"2\" valign=\"top\">setosa</th>\n",
       "      <th>sepal_length</th>\n",
       "      <td>1.000000</td>\n",
       "      <td>0.742547</td>\n",
       "    </tr>\n",
       "    <tr>\n",
       "      <th>sepal_width</th>\n",
       "      <td>0.742547</td>\n",
       "      <td>1.000000</td>\n",
       "    </tr>\n",
       "    <tr>\n",
       "      <th rowspan=\"2\" valign=\"top\">versicolor</th>\n",
       "      <th>sepal_length</th>\n",
       "      <td>1.000000</td>\n",
       "      <td>0.525911</td>\n",
       "    </tr>\n",
       "    <tr>\n",
       "      <th>sepal_width</th>\n",
       "      <td>0.525911</td>\n",
       "      <td>1.000000</td>\n",
       "    </tr>\n",
       "    <tr>\n",
       "      <th rowspan=\"2\" valign=\"top\">virginica</th>\n",
       "      <th>sepal_length</th>\n",
       "      <td>1.000000</td>\n",
       "      <td>0.457228</td>\n",
       "    </tr>\n",
       "    <tr>\n",
       "      <th>sepal_width</th>\n",
       "      <td>0.457228</td>\n",
       "      <td>1.000000</td>\n",
       "    </tr>\n",
       "  </tbody>\n",
       "</table>\n",
       "</div>"
      ],
      "text/plain": [
       "                         sepal_length  sepal_width\n",
       "species                                           \n",
       "setosa     sepal_length      1.000000     0.742547\n",
       "           sepal_width       0.742547     1.000000\n",
       "versicolor sepal_length      1.000000     0.525911\n",
       "           sepal_width       0.525911     1.000000\n",
       "virginica  sepal_length      1.000000     0.457228\n",
       "           sepal_width       0.457228     1.000000"
      ]
     },
     "execution_count": 31,
     "metadata": {},
     "output_type": "execute_result"
    }
   ],
   "source": [
    "iris.groupby(\"species\")[[\"sepal_length\", \"sepal_width\"]].corr()"
   ]
  },
  {
   "cell_type": "markdown",
   "id": "217ef3d0-99d5-402b-b457-d6ce7d2461b4",
   "metadata": {},
   "source": [
    "## Statsmodels\n",
    "\n",
    "We will cover this in subsequent tutorials when we begin to deal with models and regression."
   ]
  },
  {
   "cell_type": "markdown",
   "id": "7198fba3-48ca-4c84-850c-2ecb085e3f7e",
   "metadata": {
    "tags": []
   },
   "source": [
    "## US census data\n",
    "\n",
    "For the rest of this notebook, we will apply the things we've learned to actual data. There are lots of great datasets freely available online. The dataset we will use comes from the 1994 US census and is available as part of the [UCI Machine Learning Repository](http://archive.ics.uci.edu/ml/datasets/Adult). We will start by reading in the data and ensuring that the column names have been specified correctly. In this case the data is in the `adult.data` file, which is a CSV, and the meta-data, the column names, is in `adult.header`. Sometimes these data are combined in a single file, sometimes they are separate.\n",
    "\n",
    "An important takeaway from this section is the value of visual presentation. In many cases, a good chart tells you more about the data than just the descriptive statistics."
   ]
  },
  {
   "cell_type": "code",
   "execution_count": 32,
   "id": "5ba97f3b-de7c-453f-837f-0ff16c340589",
   "metadata": {},
   "outputs": [],
   "source": [
    "header_url = \"https://raw.githubusercontent.com/aezarebski/aas-extended-examples/main/example-0/adult.header\"\n",
    "data_url = \"https://raw.githubusercontent.com/aezarebski/aas-extended-examples/main/example-0/adult.data\"\n",
    "\n",
    "header_file = \"adult.header\"\n",
    "data_file = \"adult.data\"\n",
    "\n",
    "try:\n",
    "    with open(header_file) as f:\n",
    "        header = f.readlines()[0].split(',')\n",
    "    df = pd.read_table(data_file, delimiter = \",\", names=header)\n",
    "except:\n",
    "    print(\"Could not load census from file, defaulting to URL\")\n",
    "    header = list(pd.read_csv(header_url))\n",
    "    df = pd.read_table(data_url, delimiter = \",\", names=header)\n",
    "    print(\"iris loaded from URL\\n\")"
   ]
  },
  {
   "cell_type": "markdown",
   "id": "0fbcc4d2-236c-4485-b8e7-456a3dd85ab3",
   "metadata": {},
   "source": [
    "### Tables"
   ]
  },
  {
   "cell_type": "markdown",
   "id": "dd964766-8fc3-4051-8d50-e492ef53e551",
   "metadata": {},
   "source": [
    "Word processor software will typically have functionality for creating tables. Often when working with code it is useful to be able to construct a table in plain text. An excellent tool for creating tables for LaTeX, HTML or Markdown is [Tables Generator](https://www.tablesgenerator.com/)."
   ]
  },
  {
   "cell_type": "markdown",
   "id": "887517e2-43b3-42d9-95cd-1010ca98399d",
   "metadata": {},
   "source": [
    "### Question\n",
    "\n",
    "Fill in the values in the following table\n",
    "\n",
    "| Variable                            | Value |\n",
    "|-------------------------------------|:-----:|\n",
    "| Number, _N_                         |   ?   |\n",
    "| Sex, female, _N_ (%)                | ? (?) |\n",
    "| Age [years], mean (SD)              | ? (?) |\n",
    "| Hours worked per week, median (IQR) | ? (?) |\n",
    "\n",
    "If this seems too easy, why not try generate the text for a markdown table too!\n",
    "\n",
    "- [hint](https://pandas.pydata.org/pandas-docs/stable/reference/api/pandas.Series.value_counts.html)\n",
    "- [hint](https://pandas.pydata.org/pandas-docs/stable/reference/api/pandas.Series.quantile.html)"
   ]
  },
  {
   "cell_type": "markdown",
   "id": "27d2f000-3057-485f-92cc-a4956a0f4d4c",
   "metadata": {},
   "source": [
    "#### Answer\n",
    "\n",
    "| Variable                            | Value |\n",
    "|-------------------------------------|:-----:|\n",
    "| Number, _N_                         |   32561   |\n",
    "| Sex, female, _N_ (%)                | 10771 (33.1) |\n",
    "| Age [years], mean (SD)              | 38.6 (13.6) |\n",
    "| Hours worked per week, median (IQR) | 40 (5) |"
   ]
  },
  {
   "cell_type": "code",
   "execution_count": 33,
   "id": "eaeb4747-eb93-4d94-b960-3a960cc1fbb7",
   "metadata": {},
   "outputs": [
    {
     "name": "stdout",
     "output_type": "stream",
     "text": [
      "The number of records is 32561\n",
      "The number of records with sex as female is 10771 (33.1%)\n",
      "The mean age is 38.6 with a standard deviation of 13.6\n",
      "The median hours per week worked is 40.0 with an IQR of 5.0\n"
     ]
    }
   ],
   "source": [
    "print(f\"The number of records is {df.shape[0]}\")\n",
    "print(f\"The number of records with sex as female is {df.sex.value_counts()[' Female']} ({df.sex.value_counts()[' Female'] / df.shape[0]:.1%})\")\n",
    "print(f\"The mean age is {df.age.mean():.1f} with a standard deviation of {df.age.std():.1f}\")\n",
    "\n",
    "hpw_quantiles = dict(df['hours-per-week'].quantile([0.25,0.5,0.75]))\n",
    "hpw_iqr = hpw_quantiles[0.75] - hpw_quantiles[0.25]\n",
    "print(f\"The median hours per week worked is {hpw_quantiles[0.5]} with an IQR of {hpw_iqr}\")"
   ]
  },
  {
   "cell_type": "markdown",
   "id": "66883a7a-5147-4d6f-95d5-78e0d04c17b2",
   "metadata": {},
   "source": [
    "### Question\n",
    "\n",
    "Create a histogram of the ages with 70 bins. What do you notice?\n",
    "\n",
    "- [hint](https://matplotlib.org/stable/api/_as_gen/matplotlib.pyplot.hist.html)"
   ]
  },
  {
   "cell_type": "markdown",
   "id": "10d8f2a2-8a7a-4e48-aa50-5c8baf25705a",
   "metadata": {},
   "source": [
    "#### Answer\n",
    "\n",
    "Using 70 bins leads to several bins containing two ages while the others contain only one. This obscures the true distribution. Whenever you are using histograms you need to be careful with the number of bins used."
   ]
  },
  {
   "cell_type": "code",
   "execution_count": 34,
   "id": "212ef33c-45d0-4edb-9ea1-ea8bfb85d1b5",
   "metadata": {},
   "outputs": [
    {
     "data": {
      "image/png": "[encoded data removed]",
      "text/plain": [
       "<Figure size 432x288 with 1 Axes>"
      ]
     },
     "metadata": {
      "needs_background": "light"
     },
     "output_type": "display_data"
    }
   ],
   "source": [
    "plt.figure()\n",
    "plt.hist(df.age, bins = 70)\n",
    "plt.xlabel(\"Age\")\n",
    "plt.ylabel(\"Frequency\")\n",
    "plt.show()"
   ]
  },
  {
   "cell_type": "markdown",
   "id": "6df0fee4-3869-425d-8b16-f9827c0b4a83",
   "metadata": {},
   "source": [
    "### Question\n",
    "\n",
    "Create another histogram, this time ensure that there is only a single age per column. On top of the histogram draw vertical lines representing the mean and plus/minus two standard deviations. What do you notice?"
   ]
  },
  {
   "cell_type": "markdown",
   "id": "8f79545f-5037-45fd-8daf-dc4cb10bcf11",
   "metadata": {},
   "source": [
    "#### Answer\n",
    "\n",
    "We can provide the bins manually as in the example below. Looking at the mean and two standard emphasises that the data is not normally distributed despite having a vague bell shape."
   ]
  },
  {
   "cell_type": "code",
   "execution_count": 35,
   "id": "15f13e84-44f8-4980-b2da-773fea215c20",
   "metadata": {},
   "outputs": [
    {
     "data": {
      "image/png": "[encoded data removed]",
      "text/plain": [
       "<Figure size 432x288 with 1 Axes>"
      ]
     },
     "metadata": {
      "needs_background": "light"
     },
     "output_type": "display_data"
    }
   ],
   "source": [
    "bin_breaks = np.linspace(start = df.age.min() - 0.5,\n",
    "                         stop = df.age.max() + 0.5,\n",
    "                         num = df.age.max() - df.age.min() + 2)\n",
    "\n",
    "plt.figure()\n",
    "plt.hist(df.age, bins = bin_breaks, density = False)\n",
    "plt.vlines(df.age.mean(), 0, 1000, color = 'r')\n",
    "plt.vlines([df.age.mean() - 2 * df.age.std(), df.age.mean() + 2 * df.age.std()], 0, 1000, color = 'r', linestyle='dashed')\n",
    "plt.xlabel(\"Age\")\n",
    "plt.ylabel(\"Frequency\")\n",
    "plt.show()"
   ]
  },
  {
   "cell_type": "markdown",
   "id": "885ae030-e26e-40b7-b817-cc4afed13496",
   "metadata": {},
   "source": [
    "### Question\n",
    "\n",
    "Create a boxplot of the ages for females and males. What statistics are used to compute the size of the box, the midline, and the whiskers and points? Given the histogram above, can you predict what it will look like?"
   ]
  },
  {
   "cell_type": "markdown",
   "id": "4ae2d364-660c-4d7f-bb8c-f78744c07dcc",
   "metadata": {},
   "source": [
    "#### Answer\n",
    "\n",
    "The midline is the median, the box extends to the first and third quantiles and the whiskers extend to the furthest datapoint within 1.5 IQR of the box. Points beyond the whiskers are represented by points. Given the long tail in the histogram it is not surprising that there are \"outliers\" at the high age end."
   ]
  },
  {
   "cell_type": "code",
   "execution_count": 36,
   "id": "7f1dd729-00dd-4525-8649-0bd9c7684ab2",
   "metadata": {},
   "outputs": [
    {
     "data": {
      "image/png": "[encoded data removed]",
      "text/plain": [
       "<Figure size 432x288 with 1 Axes>"
      ]
     },
     "metadata": {
      "needs_background": "light"
     },
     "output_type": "display_data"
    }
   ],
   "source": [
    "unique_sex = df.sex.unique()\n",
    "age_grouped = [df[df.sex == sex]['age'] for sex in unique_sex]\n",
    "\n",
    "plt.figure()\n",
    "plt.boxplot(x = age_grouped, labels = unique_sex)\n",
    "plt.ylabel(\"Age\")\n",
    "plt.show()"
   ]
  },
  {
   "cell_type": "markdown",
   "id": "5632759a-a6f5-4eae-8ce1-1814ad32e61b",
   "metadata": {},
   "source": [
    "### Question\n",
    "\n",
    "Draw a Tufte style boxplot of the same data. For example, in one variation (of many) the midline is replaced by a point, the box is omitted and the whiskers extend to the most extreme points.\n",
    "\n",
    "- [hint](https://jrnold.github.io/ggthemes/reference/geom_tufteboxplot.html)"
   ]
  },
  {
   "cell_type": "markdown",
   "id": "1e6b676c-9859-42e3-8e17-e483d5a76250",
   "metadata": {},
   "source": [
    "#### Answer"
   ]
  },
  {
   "cell_type": "code",
   "execution_count": 37,
   "id": "7dc743e9-9b8a-471a-8acc-e637a57176e1",
   "metadata": {},
   "outputs": [
    {
     "data": {
      "image/png": "[encoded data removed]",
      "text/plain": [
       "<Figure size 432x288 with 1 Axes>"
      ]
     },
     "metadata": {
      "needs_background": "light"
     },
     "output_type": "display_data"
    }
   ],
   "source": [
    "plt.figure()\n",
    "plt.scatter(x = unique_sex, y = [d.median() for d in age_grouped], color = 'k')\n",
    "for sex, data in zip(unique_sex, age_grouped):\n",
    "    plt.plot([sex,sex], [data.min(), data.quantile(0.25)], color = 'k')\n",
    "    plt.plot([sex,sex], [data.max(), data.quantile(0.75)], color = 'k')\n",
    "plt.ylabel(\"Age\")\n",
    "plt.show()"
   ]
  }
 ],
 "metadata": {
  "jupytext": {
   "formats": "ipynb,md"
  },
  "kernelspec": {
   "display_name": "Python 3 (ipykernel)",
   "language": "python",
   "name": "python3"
  },
  "language_info": {
   "codemirror_mode": {
    "name": "ipython",
    "version": 3
   },
   "file_extension": ".py",
   "mimetype": "text/x-python",
   "name": "python",
   "nbconvert_exporter": "python",
   "pygments_lexer": "ipython3",
   "version": "3.8.10"
  },
  "toc-autonumbering": false
 },
 "nbformat": 4,
 "nbformat_minor": 5
}
