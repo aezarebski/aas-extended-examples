{
 "cells": [
  {
   "cell_type": "markdown",
   "metadata": {},
   "source": [
    "# Flipping coins with Professor Mittens"
   ]
  },
  {
   "cell_type": "markdown",
   "metadata": {},
   "source": [
    "## Outline and housekeeping\n",
    "\n",
    "The material in this notebook covers four topics: binomial distributions, the central limit theorem, outliers in data and invalid model assumptions. _You will have approximately 15 minutes to work through each part, after which we will go through the answers together._ Exercises marked as \"extension\" may be more challenging, so you can skip them on a first reading if you feel they will take too much time.\n",
    "\n",
    "This notebook is available on github [here](https://github.com/aezarebski/aas-extended-examples). If you find errors or would like to suggest an improvement, feel free to create an issue."
   ]
  },
  {
   "cell_type": "markdown",
   "metadata": {},
   "source": [
    "## Introduction\n",
    "\n",
    "In this lab we will look at the binomial distribution, central limit theorem, and analyse two data sets collected by [Professor Mittens](https://en.wikipedia.org/wiki/Mittens_(cat)) helping him interrogate the bais in the results of coin flips. Some of the questions are open-ended by design. Partial solutions will be distributed at the end of the session. The imports below are used in the provided solutions, consider these suggestions, not constraints."
   ]
  },
  {
   "cell_type": "code",
   "execution_count": 1,
   "metadata": {},
   "outputs": [],
   "source": [
    "import pandas as pd\n",
    "import numpy as np\n",
    "import scipy.stats as stats\n",
    "import matplotlib.pyplot as plt\n",
    "from functools import reduce\n",
    "from itertools import repeat\n",
    "\n",
    "colours = {\n",
    "    \"green\": \"#7fc97f\",\n",
    "    \"purple\": \"#beaed4\",\n",
    "    \"orange\": \"#fdc086\",\n",
    "    \"red\": \"#ef8a62\",\n",
    "    \"blue\": \"#67a9cf\"\n",
    "}"
   ]
  },
  {
   "cell_type": "markdown",
   "metadata": {},
   "source": [
    "## Parameter estimation of the binomial distribution\n",
    "\n",
    "Bernoulli and binomial random variables are the typical way to represent the outcome of coin flips. Below we consider estimates of the probability of heads based on a known number of successes in a given number of trials and also a confidence interval (CI) for this based on the Wald method will be given.\n",
    "\n",
    "Let $X$ be a binomial random variable (RV) which results from the number of heads when a coin is flipped $n$ times and the probability of coming up heads is $p$. For the time being we will assume that $n$ is know. The expected value of $X$ is $np$. So a simple way to estimate $p$ is to divide the number of heads, $X$, by the number of flips, $n$. This gives the estimate \n",
    "\n",
    "$$\n",
    "\\hat{p} = X / n.\n",
    "$$\n",
    "\n",
    "It turns out that this is a very sensible thing to do. The resulting estimate is called the maximum likelihood estimate (MLE) of $p$. It is also the result that one obtains via [the method of moments](https://en.wikipedia.org/wiki/Method_of_moments_(statistics)).\n",
    "\n",
    "Given an estimator though, we want to know how confident we are in the estimate it produces. Here we will use the Wald method to get the $95\\%$ CI. It is a very simple method but is acceptable when we have a fair bit of data. The estimated standard error of $\\hat{p}$ is $\\sqrt{\\hat{p}(1-\\hat{p})/n}$, so the Wald CI is given by\n",
    "\n",
    "$$\n",
    "\\hat{p} \\pm z \\sqrt{\\frac{\\hat{p}(1-\\hat{p})}{n}}\n",
    "$$\n",
    "\n",
    "where $z$ is the appropriate quantile of the standard normal distribution. In the case of a $95\\%$ distribution this is just $1.96$.\n",
    "\n",
    "This is stated on the [wikipedia](https://en.wikipedia.org/wiki/Binomial_distribution#Estimation_of_parameters) but there is also a reasonably clear description in [All of Statistics](https://link.springer.com/book/10.1007/978-0-387-21736-9) which you can get via SOLO. You can also find reasonable treatments of Wald CIs in both of those resources."
   ]
  },
  {
   "cell_type": "markdown",
   "metadata": {},
   "source": [
    "### Exercise 1 part I (Extension)\n",
    "\n",
    "Professor Mittens is not very familiar with the binomial distribution and wants you to justify the estimator used above. Convince yourself that the estimate given above, $X/n$, is a sensible choice. Prove that it is either the MLE or the method of moments estimator for $p$. State the limitations on the estimator we are using for the CI."
   ]
  },
  {
   "cell_type": "markdown",
   "metadata": {},
   "source": [
    "### Partial answer\n",
    "\n",
    "- Observe that the expected number of heads is $pn$ and solve for $p$.\n",
    "- Consider each flip as a Bernoulli trial and optimise the resulting log-likelihood function\n",
    "- The Wald estimate assumes you have enough data to justify an asymptotic solution so is unlikely to be accurate for small datasets."
   ]
  },
  {
   "cell_type": "markdown",
   "metadata": {},
   "source": [
    "### Exercise 1 part II\n",
    "\n",
    "Implement a function called `wald_estimate_and_ci` which takes two arguments: `num_trials` which is $n$ in the description above, and `num_success` which is $X$ above. The function should return `(p_hat,(wald_lower,wald_upper))` where `p_hat` is $\\hat{p}$ and `wald_x` are the limits on the $95\\%$ CI using the Wald method."
   ]
  },
  {
   "cell_type": "code",
   "execution_count": 2,
   "metadata": {},
   "outputs": [],
   "source": [
    "def wald_estimate_and_ci(num_trials, num_success):\n",
    "    p_hat = num_success / num_trials\n",
    "    z = 1.96\n",
    "    delta = z * np.sqrt(p_hat * (1 - p_hat) / num_trials)\n",
    "    return (p_hat,(p_hat - delta, p_hat + delta))"
   ]
  },
  {
   "cell_type": "markdown",
   "metadata": {},
   "source": [
    "### Exercise 2 part I\n",
    "\n",
    "Look up how to simulate a random variable from a binomial distribution (it tells you [here](https://docs.scipy.org/doc/scipy/reference/generated/scipy.stats.binom.html#scipy.stats.binom) if you want to use `scipy`). Then simulate a binomial random variable with $n=100$ and $p=0.6$. Then use the value and the `wald_estimate_and_ci` function to see how well you can estimate $p$. Write a couple of sentences to explain this.\n",
    "\n",
    "### Exercise 2 part II\n",
    "\n",
    "Repeat the process about 100000 times and see what proportion of the CIs capture the true value of $p$. Is it what you expect? Write a couple of sentences to explain what you found."
   ]
  },
  {
   "cell_type": "code",
   "execution_count": 3,
   "metadata": {},
   "outputs": [
    {
     "data": {
      "text/plain": [
       "0.94686"
      ]
     },
     "execution_count": 3,
     "metadata": {},
     "output_type": "execute_result"
    }
   ],
   "source": [
    "rand_xs = stats.binom.rvs(n = 100, p = 0.6, size = 100000)\n",
    "\n",
    "def ci_contains_value(ci, p):\n",
    "    lower,upper = ci\n",
    "    return lower < p and p < upper\n",
    "\n",
    "p_in_ci_bools = [ci_contains_value(wald_estimate_and_ci(100, x)[1], 0.6) for x in rand_xs]\n",
    "\n",
    "reduce(lambda a, b: a + 1 if b else a, p_in_ci_bools, 0) / 100000"
   ]
  },
  {
   "cell_type": "markdown",
   "metadata": {},
   "source": [
    "### Exercise 2 part III\n",
    "\n",
    "Are credible intervals and confidence intervals the same thing?"
   ]
  },
  {
   "cell_type": "markdown",
   "metadata": {},
   "source": [
    "### Partial answer\n",
    "\n",
    "No confidence intervals are talk about repeated experiments in frequentist statistics while credible intervals talk about posterior probability in Bayesian statistics."
   ]
  },
  {
   "cell_type": "markdown",
   "metadata": {},
   "source": [
    "## Central limit theorem\n",
    "\n",
    "The central limit theorem (CLT) tells us about the limiting distribution of the sample mean for distribution for an independent and identically distributed (IID) sample with a finite variance. It underpins many results in statistics and is important for reasoning about stochastic processes.\n",
    "\n",
    "### Exercise 3 part I (Extension)\n",
    "\n",
    "Professor Mittens *really* likes to sound fancy and use the name of important theorems. Write down a statement of the law of large numbers (LLN). Write down a statement of the central limit theorem. Make sure you understand what each of them tells you."
   ]
  },
  {
   "cell_type": "markdown",
   "metadata": {},
   "source": [
    "### Partial answer\n",
    "\n",
    "- $\\hat{X}$ converges to $\\mu$.\n",
    "- $\\sqrt{n}(\\hat{X} - \\mu) / \\sigma$ converges in distribution to the standard normal distribution as the sample size increases.\n",
    "- The LLN tells you what the limiting value is, the CLT tells you about how about the fluctuations."
   ]
  },
  {
   "cell_type": "markdown",
   "metadata": {},
   "source": [
    "### Exercise 3 part II\n",
    "\n",
    "To see that the distribution of the sample mean converges to a normal distribution we will do a simulation study and compare the results with a Q-Q plot to see if it looks normally distributed. This will also demonstrate how to construct a Q-Q plot from first principles, not that you really want to do that. Carry out the following steps:\n",
    "\n",
    "1. Write down the distribution of the sample mean given an IID sample of exponential random variables with rate $1/5$.\n",
    "2. Generate 500 sample means each based on a sample of 100 exponential random variables\n",
    "3. Make a visualisation of the distribution of the data (e.g., a KDE or histogram) and overlay the CLT approximation.\n",
    "4. Make a Q-Q plot to see if the sample means do appear to follow a normal distribution"
   ]
  },
  {
   "cell_type": "markdown",
   "metadata": {},
   "source": [
    "### Partial answer\n",
    "\n",
    "- The mean of the exponential distribution is 5. \n",
    "- The standard deviation of the exponential distribution is 5\n",
    "- The CLT tells us the limiting distribution for the sample mean is $N\\left(5,\\frac{5^2}{n}\\right)$"
   ]
  },
  {
   "cell_type": "code",
   "execution_count": 4,
   "metadata": {},
   "outputs": [],
   "source": [
    "sample_size = 200\n",
    "num_replicates = 500\n",
    "\n",
    "sample_means = [stats.expon.rvs(scale = 5, size = sample_size).mean() \n",
    "                for _ in range(num_replicates)]\n",
    "\n",
    "plot_df = pd.DataFrame({\"sample_mean\": sample_means})\n",
    "\n",
    "mesh_size = 200\n",
    "x_vals = [0.02 * ix + 3 for ix in range(0,mesh_size)]\n",
    "\n",
    "clt_scale = 5 / np.sqrt(sample_size)\n",
    "\n",
    "clt_pdf = [stats.norm.pdf(x, loc = 5, scale = clt_scale)\n",
    "           for x in x_vals]\n",
    "clt_df = pd.DataFrame({\"x\": x_vals, \"pdf\": clt_pdf})"
   ]
  },
  {
   "cell_type": "code",
   "execution_count": 5,
   "metadata": {},
   "outputs": [
    {
     "data": {
      "image/png": "[encoded data removed]",
      "text/plain": [
       "<Figure size 432x288 with 1 Axes>"
      ]
     },
     "metadata": {
      "needs_background": "light"
     },
     "output_type": "display_data"
    }
   ],
   "source": [
    "plt.figure()\n",
    "plt.hist(plot_df.sample_mean, density=True,  color=colours[\"blue\"])\n",
    "plt.plot(clt_df.x, clt_df.pdf, color=colours[\"red\"], linewidth=5)\n",
    "plt.xlabel(\"Sample mean\")\n",
    "plt.ylabel(\"Density\")\n",
    "plt.show()"
   ]
  },
  {
   "cell_type": "code",
   "execution_count": 6,
   "metadata": {},
   "outputs": [],
   "source": [
    "unit_mesh = [1 - (1 / len(sample_means)) * ix - (0.5 / len(sample_means)) for ix in range(0,len(sample_means))]\n",
    "quantile_vals = [stats.norm.isf(u, loc = 5, scale = clt_scale) for u in unit_mesh]\n",
    "sample_means.sort()\n",
    "quant_df = pd.DataFrame({\n",
    "    \"sample_means\": sample_means,\n",
    "    \"quantiles\": quantile_vals})\n",
    "\n",
    "ab_lims = [min(sample_means)-0.1, max(sample_means)+0.1]\n",
    "abline_df = pd.DataFrame({\"x\": ab_lims, \"y\": ab_lims})"
   ]
  },
  {
   "cell_type": "code",
   "execution_count": 7,
   "metadata": {},
   "outputs": [
    {
     "data": {
      "image/png": "[encoded data removed]",
      "text/plain": [
       "<Figure size 432x288 with 1 Axes>"
      ]
     },
     "metadata": {
      "needs_background": "light"
     },
     "output_type": "display_data"
    }
   ],
   "source": [
    "plt.figure()\n",
    "plt.scatter(quant_df.sample_means, quant_df.quantiles, color=colours[\"blue\"])\n",
    "plt.plot(abline_df.x, abline_df.y, color=colours[\"red\"])\n",
    "plt.xlabel(\"Sample mean quantile\")\n",
    "plt.ylabel(\"Normal quantile\")\n",
    "plt.show()"
   ]
  },
  {
   "cell_type": "markdown",
   "metadata": {},
   "source": [
    "## Experimental results: flipping coins in series\n",
    "\n",
    "Professor Mittens asked 15 of his students to each take turns flipping a coin 30 times and recording how many heads they got. He has a sneaking suspicion that some of the students did not actually do this properly, that they just wrote down some garbage and went to lunch early. We will help Mittens work out whether the coin that was used was fair, i.e. has an equal chance of showing heads or tails.\n",
    "\n",
    "### Exercise 3 part I\n",
    "\n",
    "Read the data in `experiement1.csv` into a `DataFrame`. Use some of the commands you've seen in lectures to inspect the data, noting that it may not be in the optimal format for analysis."
   ]
  },
  {
   "cell_type": "code",
   "execution_count": 8,
   "metadata": {},
   "outputs": [],
   "source": [
    "exp1 = pd.read_csv(\"experiment1.csv\")"
   ]
  },
  {
   "cell_type": "markdown",
   "metadata": {},
   "source": [
    "### Exercise 3 part II\n",
    "\n",
    "Compute the point estimate and CI using the function you wrote above. Write a sentence explaining whether you think the coin is a _fair_ coin given the results you have just obtained."
   ]
  },
  {
   "cell_type": "code",
   "execution_count": 9,
   "metadata": {},
   "outputs": [
    {
     "name": "stdout",
     "output_type": "stream",
     "text": [
      "(0.49333333333333335, (0.44713979693549655, 0.5395268697311701))\n"
     ]
    }
   ],
   "source": [
    "head_counts = exp1.drop(columns=\"flip_number\").groupby(\"name\").sum()\n",
    "head_counts[\"name\"] = head_counts.index.copy()\n",
    "\n",
    "total_heads = int(head_counts[\"outcome\"].sum())\n",
    "num_people = int(head_counts[\"name\"].unique().size)\n",
    "num_flips = int(exp1[\"name\"].value_counts().unique())\n",
    "\n",
    "est_and_ci = wald_estimate_and_ci(num_success=total_heads, \n",
    "                                  num_trials=num_people * num_flips)\n",
    "\n",
    "print(est_and_ci)"
   ]
  },
  {
   "cell_type": "markdown",
   "metadata": {},
   "source": [
    "### Partial answer\n",
    "\n",
    "We estimate the probability of heads as 0.49 with a $95\\%$ CI of (0.45,0.54). We are not able to reject the null hypothesis that the coin is fair."
   ]
  },
  {
   "cell_type": "markdown",
   "metadata": {},
   "source": [
    "### Exercise 3 part III\n",
    "\n",
    "Generate a histogram of the number of heads from each student. As an extension, include the binomial distribution supported by your estimate that is most amenable to large value outcomes."
   ]
  },
  {
   "cell_type": "code",
   "execution_count": 10,
   "metadata": {},
   "outputs": [],
   "source": [
    "k_vals = range(0,30+1)\n",
    "k_probs = [stats.binom.pmf(k = k, n = num_flips, p = 0.540) for k in k_vals]\n",
    "binom_dist_df = pd.DataFrame({\"value\": k_vals,\n",
    "                              \"prob\": k_probs})"
   ]
  },
  {
   "cell_type": "code",
   "execution_count": 11,
   "metadata": {},
   "outputs": [
    {
     "data": {
      "image/png": "[encoded data removed]",
      "text/plain": [
       "<Figure size 432x288 with 1 Axes>"
      ]
     },
     "metadata": {
      "needs_background": "light"
     },
     "output_type": "display_data"
    }
   ],
   "source": [
    "plt.figure()\n",
    "plt.hist(head_counts.outcome, color=colours[\"blue\"], density=True)\n",
    "plt.plot(binom_dist_df.value, binom_dist_df.prob, color=colours[\"red\"])\n",
    "plt.xlabel(\"Number of heads\")\n",
    "plt.ylabel(\"Density\")\n",
    "plt.show()"
   ]
  },
  {
   "cell_type": "markdown",
   "metadata": {},
   "source": [
    "### Exercise 4 part I\n",
    "\n",
    "It looks like there might be a couple of strange points in this dataset as Mittens suspected. Using the upper bound on $p$ calculate the probability of someone getting all heads. Write a couple of sentences explaining whether you think it is reasonable to remove those data points."
   ]
  },
  {
   "cell_type": "code",
   "execution_count": 12,
   "metadata": {},
   "outputs": [
    {
     "data": {
      "text/plain": [
       "9.371579521404065e-09"
      ]
     },
     "execution_count": 12,
     "metadata": {},
     "output_type": "execute_result"
    }
   ],
   "source": [
    "stats.binom.pmf(k = 30, n = 30, p = 0.54)"
   ]
  },
  {
   "cell_type": "markdown",
   "metadata": {},
   "source": [
    "### Partial answer\n",
    "\n",
    "- Even allowing for a high estimate of the probability of heads it seems exceedingly probable that the 30 heads are due to data input errors, hence we removed them from the data set prior to further analysis."
   ]
  },
  {
   "cell_type": "markdown",
   "metadata": {},
   "source": [
    "### Exercise 4 part II\n",
    "\n",
    "Remove the outliers and repeat the process of plotting the data and estimating the parameters and CI. Once you have done this, plot the distribution of the estimated binomial distribution on top of the histogram. Write a couple of sentences explaining what you think about the coin now."
   ]
  },
  {
   "cell_type": "code",
   "execution_count": 13,
   "metadata": {},
   "outputs": [
    {
     "data": {
      "text/plain": [
       "(0.4153846153846154, (0.3664761437453554, 0.4642930870238754))"
      ]
     },
     "execution_count": 13,
     "metadata": {},
     "output_type": "execute_result"
    }
   ],
   "source": [
    "head_counts_clean = head_counts.loc[head_counts[\"outcome\"] < 30]\n",
    "\n",
    "total_heads_clean = int(head_counts_clean[\"outcome\"].sum())\n",
    "num_people_clean = int(head_counts_clean[\"name\"].unique().size)\n",
    "\n",
    "wald_estimate_and_ci(num_success=total_heads_clean, num_trials=num_people_clean * num_flips)"
   ]
  },
  {
   "cell_type": "code",
   "execution_count": 14,
   "metadata": {},
   "outputs": [],
   "source": [
    "k_vals = range(0,31)\n",
    "k_probs = [stats.binom.pmf(k = k, n = num_flips, p = 0.415) for k in k_vals]\n",
    "binom_dist_df = pd.DataFrame({\"value\": k_vals,\n",
    "                              \"prob\": k_probs})"
   ]
  },
  {
   "cell_type": "code",
   "execution_count": 15,
   "metadata": {},
   "outputs": [
    {
     "data": {
      "image/png": "[encoded data removed]",
      "text/plain": [
       "<Figure size 432x288 with 1 Axes>"
      ]
     },
     "metadata": {
      "needs_background": "light"
     },
     "output_type": "display_data"
    }
   ],
   "source": [
    "plt.figure()\n",
    "plt.hist(head_counts_clean.outcome, color=colours[\"blue\"], density=True)\n",
    "plt.plot(binom_dist_df.value, binom_dist_df.prob, color=colours[\"red\"])\n",
    "plt.xlabel(\"Number of heads\")\n",
    "plt.ylabel(\"Density\")\n",
    "plt.show()"
   ]
  },
  {
   "cell_type": "markdown",
   "metadata": {},
   "source": [
    "### Partial answer\n",
    "\n",
    "- After removing two outliers, we estimate the probability of heads as $0.42$ with a $95\\%$ CI of $(0.37, 0.46)$.\n",
    "- Given the CI does not contain the value 0.5, we can reject the null hypothesis that the coin is fair."
   ]
  },
  {
   "cell_type": "markdown",
   "metadata": {},
   "source": [
    "## Experimental results: flipping coins in parallel\n",
    "\n",
    "After the success of his first experiment, Mittens was lauded as a statistical wizard. The royal mint has become interested and is providing additional funds to obtain an additional 49 coins and repeat the experiment to gather more data about the fascinating topic of coin bias. Now he gives each of 50 students a coin each and asks them to flip the coin 30 times and record the results. We will help Mittens work out whether the coins are fair.\n",
    "\n",
    "### Excercise 5 part I\n",
    "\n",
    "Do we need to change anything about how we analyse this data? If so, why, if not, why not? **Hint:** there are good arguments that can be given for each answer. Once you have answered one way, try to answer the other way. "
   ]
  },
  {
   "cell_type": "markdown",
   "metadata": {},
   "source": [
    "### Partial answer\n",
    "\n",
    "If you assume the coins have the same probability of heads it is fine. If you assume that the coins vary then you would need to adjust the model."
   ]
  },
  {
   "cell_type": "markdown",
   "metadata": {},
   "source": [
    "### Exercise 5 part II\n",
    "\n",
    "Using the data in `experiment2.csv` explore the data set using the methodology devised above and write a couple of sentences to explain what you found."
   ]
  },
  {
   "cell_type": "code",
   "execution_count": 16,
   "metadata": {},
   "outputs": [
    {
     "name": "stdout",
     "output_type": "stream",
     "text": [
      "(0.4013333333333333, (0.37652739859779666, 0.42613926806887))\n"
     ]
    }
   ],
   "source": [
    "exp2 = pd.read_csv(\"experiment2.csv\")\n",
    "\n",
    "head_counts = exp2.drop(columns=\"flip_number\").groupby(\"name\").sum()\n",
    "head_counts[\"name\"] = head_counts.index.copy()\n",
    "\n",
    "total_heads = int(head_counts[\"outcome\"].sum())\n",
    "num_people = int(head_counts[\"name\"].unique().size)\n",
    "num_flips = int(exp2[\"name\"].value_counts().unique())\n",
    "\n",
    "wald_estimate = wald_estimate_and_ci(num_success=total_heads, \n",
    "                                     num_trials=num_people * num_flips)\n",
    "\n",
    "print(wald_estimate)"
   ]
  },
  {
   "cell_type": "markdown",
   "metadata": {},
   "source": [
    "### Exercise 5 part III\n",
    "\n",
    "Visualise the number of heads each student got and compare the variance in this to what is predicted by theory. Revise your answer to part I of this exercise."
   ]
  },
  {
   "cell_type": "code",
   "execution_count": 17,
   "metadata": {},
   "outputs": [
    {
     "name": "stdout",
     "output_type": "stream",
     "text": [
      "18.69224489795919 7.2079466666666665\n"
     ]
    }
   ],
   "source": [
    "emp_var = head_counts[\"outcome\"].var()\n",
    "thry_var = stats.binom.var(n = num_flips, p = wald_estimate[0])\n",
    "print(emp_var,thry_var)\n"
   ]
  },
  {
   "cell_type": "code",
   "execution_count": 18,
   "metadata": {},
   "outputs": [
    {
     "data": {
      "image/png": "[encoded data removed]",
      "text/plain": [
       "<Figure size 432x288 with 1 Axes>"
      ]
     },
     "metadata": {
      "needs_background": "light"
     },
     "output_type": "display_data"
    }
   ],
   "source": [
    "plt.figure()\n",
    "plt.scatter(head_counts.name, head_counts.outcome, color=colours[\"blue\"])\n",
    "plt.show()"
   ]
  },
  {
   "cell_type": "markdown",
   "metadata": {},
   "source": [
    "### Partial answer\n",
    "\n",
    "- There appears to be systematic differences in the number of heads obtained.\n",
    "- The variance is too great.\n",
    "- It seems that we should not consider all the coins as identical.\n",
    "\n"
   ]
  },
  {
   "cell_type": "markdown",
   "metadata": {},
   "source": [
    "### Exercise 5 part IV (Extension)\n",
    "\n",
    "Consider how you might analyse this data. Over the following weeks you will learn a couple of approaches."
   ]
  },
  {
   "cell_type": "markdown",
   "metadata": {},
   "source": [
    "### Partial answer\n",
    "\n",
    "One could use a negative binomial distribution if one were interested in an empirical analysis or a hierarchical model if one were interested in a structural analysis."
   ]
  },
  {
   "cell_type": "markdown",
   "metadata": {},
   "source": [
    "## Epilogue\n",
    "\n",
    "Professor Mittens' work was published in a top tier journal and he was lauded as a statistical wizard. Rumour has it he will soon be elected to the British Acadmey."
   ]
  }
 ],
 "metadata": {
  "kernelspec": {
   "display_name": "Python3 - python",
   "language": "python",
   "name": "ipython_python"
  },
  "language_info": {
   "codemirror_mode": {
    "name": "ipython",
    "version": 3
   },
   "file_extension": ".py",
   "mimetype": "text/x-python",
   "name": "python",
   "nbconvert_exporter": "python",
   "pygments_lexer": "ipython3",
   "version": "3.8.9"
  }
 },
 "nbformat": 4,
 "nbformat_minor": 4
}
