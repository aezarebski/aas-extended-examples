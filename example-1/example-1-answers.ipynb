{
 "cells": [
  {
   "cell_type": "markdown",
   "metadata": {},
   "source": [
    "Example 1\n",
    "========="
   ]
  },
  {
   "cell_type": "markdown",
   "metadata": {},
   "source": [
    "Overview\n",
    "--------\n",
    "\n",
    "The material in this notebook covers four topics: binomial\n",
    "distributions, the central limit theorem, outliers in data and invalid\n",
    "model assumptions. You will have approximately 15 minutes to work\n",
    "through each part, after which we will go through the answers together.\n",
    "Some questions may be challenging, feel free to skip harder questions on\n",
    "a first reading if you feel they will take too much time during the\n",
    "tutorial.\n",
    "\n",
    "This notebook is available on github\n",
    "[here](https://github.com/aezarebski/aas-extended-examples). If you find\n",
    "errors or would like to suggest an improvement, feel free to create an\n",
    "issue."
   ]
  },
  {
   "cell_type": "markdown",
   "metadata": {},
   "source": [
    "Introduction\n",
    "------------\n",
    "\n",
    "In this lab we will look at the binomial distribution, central limit\n",
    "theorem, and analyse two data sets consisting of a number of coin\n",
    "tosses. We will look for a bias in the results of coin flips. Some of\n",
    "the questions are open-ended by design. Partial solutions will be\n",
    "distributed at the end of the session.\n",
    "\n",
    "As usual we will start by importing some useful libraries."
   ]
  },
  {
   "cell_type": "code",
   "execution_count": 1,
   "metadata": {},
   "outputs": [],
   "source": [
    "import pandas as pd\n",
    "import numpy as np\n",
    "import scipy.stats as stats\n",
    "import matplotlib.pyplot as plt"
   ]
  },
  {
   "cell_type": "markdown",
   "metadata": {},
   "source": [
    "Central limit theorem\n",
    "---------------------\n",
    "\n",
    "The central limit theorem (CLT) tells us about the limiting distribution\n",
    "of the sample mean for distribution for an independent and identically\n",
    "distributed (IID) sample with a finite variance. It underpins many\n",
    "results in statistics and is important for reasoning about stochastic\n",
    "processes."
   ]
  },
  {
   "cell_type": "markdown",
   "metadata": {},
   "source": [
    "### Question\n",
    "\n",
    "Write down a statement of the law of large numbers (LLN). Write down a\n",
    "statement of the central limit theorem. Make sure you understand what\n",
    "each of them tells you."
   ]
  },
  {
   "cell_type": "markdown",
   "metadata": {},
   "source": [
    "### Answer\n",
    "\n",
    "-   $\\hat{X}$ converges to $\\mu$.\n",
    "-   $\\sqrt{n}(\\hat{X} - \\mu) / \\sigma$ converges in distribution to the\n",
    "    standard normal distribution as the sample size increases.\n",
    "-   The LLN tells you what the limiting value is, the CLT tells you\n",
    "    about the fluctuations in the estimate."
   ]
  },
  {
   "cell_type": "markdown",
   "metadata": {},
   "source": [
    "Example: CLT\n",
    "------------\n",
    "\n",
    "To see that the distribution of the sample mean converges to a normal\n",
    "distribution we will do a simulation study."
   ]
  },
  {
   "cell_type": "markdown",
   "metadata": {},
   "source": [
    "### Question\n",
    "\n",
    "Write down the distribution of the sample mean given an IID sample of\n",
    "exponential random variables with rate $1/5$."
   ]
  },
  {
   "cell_type": "markdown",
   "metadata": {},
   "source": [
    "### Answer\n",
    "\n",
    "-   The mean of the exponential distribution is 5.\n",
    "-   The standard deviation of the exponential distribution is 5\n",
    "-   The CLT tells us the limiting distribution for the sample mean is\n",
    "    $N\\left(5,\\frac{5^2}{n}\\right)$"
   ]
  },
  {
   "cell_type": "markdown",
   "metadata": {},
   "source": [
    "### Question\n",
    "\n",
    "1.  Generate 500 sample means each based on a sample of 100 exponential\n",
    "    random variables\n",
    "2.  Make a visualisation of the distribution of the data (e.g., a KDE or\n",
    "    histogram) and overlay the CLT approximation."
   ]
  },
  {
   "cell_type": "markdown",
   "metadata": {},
   "source": [
    "### Answer"
   ]
  },
  {
   "cell_type": "code",
   "execution_count": 2,
   "metadata": {},
   "outputs": [
    {
     "data": {
      "image/png": "[encoded data removed]",
      "text/plain": [
       "<Figure size 432x288 with 1 Axes>"
      ]
     },
     "metadata": {
      "needs_background": "light"
     },
     "output_type": "display_data"
    }
   ],
   "source": [
    "sample_size = 200\n",
    "num_replicates = 500\n",
    "\n",
    "sample_means = [stats.expon.rvs(scale = 5, size = sample_size).mean()\n",
    "                for _ in range(num_replicates)]\n",
    "\n",
    "plot_df = pd.DataFrame({\"sample_mean\": sample_means})\n",
    "\n",
    "mesh_size = 200\n",
    "\n",
    "x_vals = np.linspace(3, 7, num=200)\n",
    "\n",
    "clt_scale = 5 / np.sqrt(sample_size)\n",
    "\n",
    "clt_df = pd.DataFrame(\n",
    "    {\n",
    "        \"x\": x_vals,\n",
    "        \"pdf\": stats.norm.pdf(x_vals, loc = 5, scale = clt_scale)\n",
    "    }\n",
    ")\n",
    "\n",
    "plt.figure()\n",
    "plt.hist(plot_df.sample_mean, density=True,  color=\"blue\")\n",
    "plt.plot(clt_df.x, clt_df.pdf, color=\"red\", linewidth=5)\n",
    "plt.xlabel(\"Sample mean\")\n",
    "plt.ylabel(\"Density\")\n",
    "plt.show()"
   ]
  },
  {
   "cell_type": "markdown",
   "metadata": {},
   "source": [
    "Parameter estimation of the binomial distribution\n",
    "-------------------------------------------------\n",
    "\n",
    "We want to make an *estimate* the probability that a coin comes up\n",
    "heads. We also want to understand the level of confidence we have in\n",
    "this estimate; we use a *confidence interval* (CI) to describe the range\n",
    "of values we are confident the \\\"true\\\" probability of heads lies\n",
    "within.\n",
    "\n",
    "Binomial random variables can be used to model the number of times a\n",
    "coin comes up heads when flipped $n$ times. Let $X$ be a binomial random\n",
    "variable (RV) representing the number of heads that are observed when a\n",
    "coin is flipped $n$ times and the probability of coming up heads is $p$.\n",
    "We assume that $n$ is known but $p$ is unknown.\n",
    "\n",
    "The expected value of $X$, ie the average number of times that the coin\n",
    "comes up heads, is $np$. So a simple way to estimate $p$ is to divide\n",
    "the number of heads, $X$, by the number of flips, $n$. This gives the\n",
    "estimate\n",
    "\n",
    "$$\n",
    "\\hat{p} = X / n.\n",
    "$$\n",
    "\n",
    "This estimator is called the [the method of\n",
    "moments](https://en.wikipedia.org/wiki/Method_of_moments_(statistics)). This is\n",
    "also an example of a maximum likelihood estimate (MLE).\n",
    "\n",
    "Given an estimator, such as $\\hat{p}$, we usually want to quantify the\n",
    "uncertainty. One way to construct a CI is to approximate the sampling\n",
    "distribution by a normal distribution. It is a bit crude, but it is acceptable\n",
    "when we have lots of data. The estimated standard error of $\\hat{p}$ is\n",
    "$\\sqrt{\\hat{p}(1-\\hat{p})/n}$, so the CI is given by\n",
    "\n",
    "$$\n",
    "\\hat{p} \\pm z \\sqrt{\\frac{\\hat{p}(1-\\hat{p})}{n}}\n",
    "$$\n",
    "\n",
    "where $z$ is the appropriate quantile of the standard normal distribution. In\n",
    "the case of a $95\\%$ distribution this value is $1.96$."
   ]
  },
  {
   "cell_type": "markdown",
   "metadata": {},
   "source": [
    "### Question\n",
    "\n",
    "State the limitations on the estimator we are using for the CI."
   ]
  },
  {
   "cell_type": "markdown",
   "metadata": {},
   "source": [
    "### Answer\n",
    "\n",
    "The estimate assumes you have enough data to justify an asymptotic\n",
    "solution so is unlikely to be accurate for small datasets."
   ]
  },
  {
   "cell_type": "markdown",
   "metadata": {},
   "source": [
    "### Question\n",
    "\n",
    "Implement a function called `estimate_and_ci` which takes two\n",
    "arguments: `num_trials` which is $n$ in the description above, and\n",
    "`num_success` which is $X$ above. The function should return\n",
    "`(p_hat,(ci_lower,ci_upper))` where `p_hat` is $\\hat{p}$ and\n",
    "`ci_x` are the limits of the $95\\%$ CI."
   ]
  },
  {
   "cell_type": "markdown",
   "metadata": {},
   "source": [
    "### Answer"
   ]
  },
  {
   "cell_type": "code",
   "execution_count": 3,
   "metadata": {},
   "outputs": [],
   "source": [
    "def estimate_and_ci(num_trials, num_success):\n",
    "    p_hat = num_success / num_trials\n",
    "    z = 1.96\n",
    "    delta = z * np.sqrt(p_hat * (1 - p_hat) / num_trials)\n",
    "    return (p_hat,(p_hat - delta, p_hat + delta))"
   ]
  },
  {
   "cell_type": "markdown",
   "metadata": {},
   "source": [
    "### Question\n",
    "\n",
    "Simulate a binomial random variable with $n=100$ and $p=0.6$. Then use\n",
    "the value and the `estimate_and_ci` function to see how well you\n",
    "can estimate $p$. Write a couple of sentences to explain this.\n",
    "\n",
    "Recall that in a previous example we have looked at how to simulate\n",
    "random variables using `scipy.stats`."
   ]
  },
  {
   "cell_type": "markdown",
   "metadata": {},
   "source": [
    "### Question\n",
    "\n",
    "Repeat the process from the previous question 100000 times and see what\n",
    "proportion of the CIs capture the true value of $p$. Is it what you\n",
    "expect? Write a couple of sentences to explain what you found."
   ]
  },
  {
   "cell_type": "markdown",
   "metadata": {},
   "source": [
    "### Answer"
   ]
  },
  {
   "cell_type": "code",
   "execution_count": 4,
   "metadata": {},
   "outputs": [
    {
     "name": "stdout",
     "output_type": "stream",
     "text": [
      "0.94851\n"
     ]
    }
   ],
   "source": [
    "num_trials = 100\n",
    "num_repeats = 100000\n",
    "rand_xs = stats.binom.rvs(n = num_trials, p = 0.6, size = num_repeats)\n",
    "\n",
    "def ci_contains_value(ci, p):\n",
    "    lower,upper = ci\n",
    "    return lower < p and p < upper\n",
    "\n",
    "in_ci_count = 0\n",
    "for x in rand_xs:\n",
    "    _, ci = estimate_and_ci(num_trials, x)\n",
    "    if ci_contains_value(ci, 0.6):\n",
    "        in_ci_count += 1\n",
    "\n",
    "print(in_ci_count / num_repeats)"
   ]
  },
  {
   "cell_type": "markdown",
   "metadata": {},
   "source": [
    "Experimental results: flipping coins in series\n",
    "----------------------------------------------\n",
    "\n",
    "Each of 15 students take turns flipping a coin 30 times and recording\n",
    "how many heads they got. There is a suspicion that some of the students\n",
    "did not actually do this properly. Some people think they just wrote\n",
    "down some garbage and went to lunch early.\n",
    "\n",
    "Read the data in `experiement1.csv` into a `DataFrame`."
   ]
  },
  {
   "cell_type": "code",
   "execution_count": 5,
   "metadata": {},
   "outputs": [],
   "source": [
    "exp1 = pd.read_csv(\"experiment1.csv\")"
   ]
  },
  {
   "cell_type": "markdown",
   "metadata": {},
   "source": [
    "Compute the point estimate and CI using the function you wrote above."
   ]
  },
  {
   "cell_type": "code",
   "execution_count": 6,
   "metadata": {},
   "outputs": [
    {
     "name": "stdout",
     "output_type": "stream",
     "text": [
      "(0.49333333333333335, (0.44713979693549655, 0.5395268697311701))\n"
     ]
    }
   ],
   "source": [
    "head_counts = exp1.drop(columns=\"flip_number\").groupby(\"name\").sum()\n",
    "head_counts[\"name\"] = head_counts.index.copy()\n",
    "\n",
    "total_heads = int(head_counts[\"outcome\"].sum())\n",
    "num_people = int(head_counts[\"name\"].unique().size)\n",
    "num_flips = int(exp1[\"name\"].value_counts().unique())\n",
    "\n",
    "est_and_ci = estimate_and_ci(num_success=total_heads,\n",
    "                             num_trials=num_people * num_flips)\n",
    "\n",
    "print(est_and_ci)"
   ]
  },
  {
   "cell_type": "markdown",
   "metadata": {},
   "source": [
    "We estimate the probability of heads as 0.49 with a $95\\%$ CI of\n",
    "(0.45,0.54). We are not able to reject the null hypothesis that the coin\n",
    "is fair."
   ]
  },
  {
   "cell_type": "markdown",
   "metadata": {},
   "source": [
    "### Question\n",
    "\n",
    "Generate a histogram of the number of heads from each student. As an\n",
    "extension, include the binomial distribution supported by your estimate\n",
    "that is most amenable to large value outcomes."
   ]
  },
  {
   "cell_type": "markdown",
   "metadata": {},
   "source": [
    "### Answer"
   ]
  },
  {
   "cell_type": "code",
   "execution_count": 7,
   "metadata": {},
   "outputs": [
    {
     "data": {
      "image/png": "[encoded data removed]",
      "text/plain": [
       "<Figure size 432x288 with 1 Axes>"
      ]
     },
     "metadata": {
      "needs_background": "light"
     },
     "output_type": "display_data"
    }
   ],
   "source": [
    "k_vals = range(0,30+1)\n",
    "k_probs = stats.binom.pmf(k = k_vals, n = num_flips, p = 0.540)\n",
    "binom_dist_df = pd.DataFrame({\"value\": k_vals,\n",
    "                              \"prob\": k_probs})\n",
    "\n",
    "plt.figure()\n",
    "plt.hist(head_counts.outcome, color=\"blue\", density=True)\n",
    "plt.plot(binom_dist_df.value, binom_dist_df.prob, color=\"red\")\n",
    "plt.xlabel(\"Number of heads\")\n",
    "plt.ylabel(\"Density\")\n",
    "plt.show()"
   ]
  },
  {
   "cell_type": "markdown",
   "metadata": {},
   "source": [
    "### Question\n",
    "\n",
    "It looks like there might be a couple of strange points in this dataset\n",
    "as suspected. Using the upper bound on $p$ calculate the probability of\n",
    "someone getting all heads. Write a couple of sentences explaining\n",
    "whether you think it is reasonable to remove those data points."
   ]
  },
  {
   "cell_type": "markdown",
   "metadata": {},
   "source": [
    "### Answer"
   ]
  },
  {
   "cell_type": "code",
   "execution_count": 8,
   "metadata": {},
   "outputs": [
    {
     "data": {
      "text/plain": [
       "9.371579521404065e-09"
      ]
     },
     "execution_count": 8,
     "metadata": {},
     "output_type": "execute_result"
    }
   ],
   "source": [
    "stats.binom.pmf(k = 30, n = 30, p = 0.54)"
   ]
  },
  {
   "cell_type": "markdown",
   "metadata": {},
   "source": [
    "-   Even allowing for a high estimate of the probability of heads it\n",
    "    seems unlikely that the 30 heads are genuine, hence we removed them\n",
    "    from the data set prior to further analysis."
   ]
  },
  {
   "cell_type": "markdown",
   "metadata": {},
   "source": [
    "### Question\n",
    "\n",
    "Once the questionable data has been removed, plot the distribution of\n",
    "the estimated binomial distribution on top of the histogram. Write a\n",
    "couple of sentences explaining what you think about the coin now."
   ]
  },
  {
   "cell_type": "markdown",
   "metadata": {},
   "source": [
    "### Answer"
   ]
  },
  {
   "cell_type": "code",
   "execution_count": 9,
   "metadata": {},
   "outputs": [
    {
     "name": "stdout",
     "output_type": "stream",
     "text": [
      "(0.4153846153846154, (0.3664761437453554, 0.4642930870238754))\n"
     ]
    },
    {
     "data": {
      "image/png": "[encoded data removed]",
      "text/plain": [
       "<Figure size 432x288 with 1 Axes>"
      ]
     },
     "metadata": {
      "needs_background": "light"
     },
     "output_type": "display_data"
    }
   ],
   "source": [
    "head_counts_clean = head_counts.loc[head_counts[\"outcome\"] < 30]\n",
    "\n",
    "total_heads_clean = int(head_counts_clean[\"outcome\"].sum())\n",
    "num_people_clean = int(head_counts_clean[\"name\"].unique().size)\n",
    "\n",
    "print(estimate_and_ci(num_success=total_heads_clean, num_trials=num_people_clean * num_flips))\n",
    "\n",
    "k_vals = range(0,31)\n",
    "k_probs = [stats.binom.pmf(k = k, n = num_flips, p = 0.415) for k in k_vals]\n",
    "binom_dist_df = pd.DataFrame({\"value\": k_vals,\n",
    "                              \"prob\": k_probs})\n",
    "\n",
    "plt.figure()\n",
    "plt.hist(head_counts_clean.outcome, color=\"blue\", density=True)\n",
    "plt.plot(binom_dist_df.value, binom_dist_df.prob, color=\"red\")\n",
    "plt.xlabel(\"Number of heads\")\n",
    "plt.ylabel(\"Density\")\n",
    "plt.show()"
   ]
  },
  {
   "cell_type": "markdown",
   "metadata": {},
   "source": [
    "-   After removing two outliers, we estimate the probability of heads as\n",
    "    $0.42$ with a $95\\%$ CI of $(0.37, 0.46)$.\n",
    "-   Given the CI does not contain the value 0.5, we can reject the null\n",
    "    hypothesis that the coin is fair."
   ]
  },
  {
   "cell_type": "markdown",
   "metadata": {},
   "source": [
    "Experimental results: flipping coins in parallel\n",
    "------------------------------------------------\n",
    "\n",
    "The royal mint has become interested and wants to study an additional 49\n",
    "coins and repeat the experiment to gather more data about the\n",
    "fascinating topic of coin bias. Now, each of 50 students is given a coin\n",
    "each and asked to flip the coin 30 times and record the results."
   ]
  },
  {
   "cell_type": "markdown",
   "metadata": {},
   "source": [
    "### Question\n",
    "\n",
    "Do we need to change anything about how we analyse this data? If so,\n",
    "why, if not, why not? **Hint:** there are good arguments that can be\n",
    "given for each answer. Once you have answered one way, try to answer the\n",
    "other way."
   ]
  },
  {
   "cell_type": "markdown",
   "metadata": {},
   "source": [
    "### Answer\n",
    "\n",
    "If you assume the coins have the same probability of heads it is fine.\n",
    "If you assume that the coins vary then you would need to adjust the\n",
    "model."
   ]
  },
  {
   "cell_type": "markdown",
   "metadata": {},
   "source": [
    "### Question\n",
    "\n",
    "Using the data in `experiment2.csv` explore the data set using the\n",
    "methodology devised above and write a couple of sentences to explain\n",
    "what you found."
   ]
  },
  {
   "cell_type": "markdown",
   "metadata": {},
   "source": [
    "### Answer"
   ]
  },
  {
   "cell_type": "code",
   "execution_count": 10,
   "metadata": {},
   "outputs": [
    {
     "name": "stdout",
     "output_type": "stream",
     "text": [
      "(0.4013333333333333, (0.37652739859779666, 0.42613926806887))\n"
     ]
    }
   ],
   "source": [
    "exp2 = pd.read_csv(\"experiment2.csv\")\n",
    "\n",
    "head_counts = exp2.drop(columns=\"flip_number\").groupby(\"name\").sum()\n",
    "head_counts[\"name\"] = head_counts.index.copy()\n",
    "\n",
    "total_heads = int(head_counts[\"outcome\"].sum())\n",
    "num_people = int(head_counts[\"name\"].unique().size)\n",
    "num_flips = int(exp2[\"name\"].value_counts().unique())\n",
    "\n",
    "estimate = estimate_and_ci(num_success=total_heads, \n",
    "                           num_trials=num_people * num_flips)\n",
    "\n",
    "print(estimate)"
   ]
  },
  {
   "cell_type": "markdown",
   "metadata": {},
   "source": [
    "### Question\n",
    "\n",
    "Visualise the number of heads each student got and compare the variance\n",
    "in this to what is predicted by theory."
   ]
  },
  {
   "cell_type": "markdown",
   "metadata": {},
   "source": [
    "### Answer"
   ]
  },
  {
   "cell_type": "code",
   "execution_count": 11,
   "metadata": {},
   "outputs": [
    {
     "name": "stdout",
     "output_type": "stream",
     "text": [
      "18.69224489795919 7.2079466666666665\n"
     ]
    },
    {
     "data": {
      "image/png": "[encoded data removed]",
      "text/plain": [
       "<Figure size 432x288 with 1 Axes>"
      ]
     },
     "metadata": {
      "needs_background": "light"
     },
     "output_type": "display_data"
    }
   ],
   "source": [
    "emp_var = head_counts[\"outcome\"].var()\n",
    "thry_var = stats.binom.var(n = num_flips, p = estimate[0])\n",
    "print(emp_var,thry_var)\n",
    "\n",
    "plt.figure()\n",
    "plt.scatter(head_counts.name, head_counts.outcome, color=\"blue\")\n",
    "plt.show()"
   ]
  },
  {
   "cell_type": "markdown",
   "metadata": {},
   "source": [
    "-   There appears to be systematic differences in the number of heads\n",
    "    obtained.\n",
    "-   The variance is too great.\n",
    "-   It seems that we should not consider all the coins as identical."
   ]
  },
  {
   "cell_type": "markdown",
   "metadata": {},
   "source": [
    "### Question\n",
    "\n",
    "Consider how you might analyse this data. Over the following weeks you\n",
    "will learn a couple of approaches."
   ]
  },
  {
   "cell_type": "markdown",
   "metadata": {},
   "source": [
    "### Answer\n",
    "\n",
    "One could use a negative binomial distribution if one were interested in\n",
    "an empirical analysis or a hierarchical model if one were interested in\n",
    "a structural analysis."
   ]
  }
 ],
 "metadata": {
  "kernelspec": {
   "display_name": "Python3 - python",
   "language": "python",
   "name": "ipython_python"
  },
  "language_info": {
   "codemirror_mode": {
    "name": "ipython",
    "version": 3
   },
   "file_extension": ".py",
   "mimetype": "text/x-python",
   "name": "python",
   "nbconvert_exporter": "python",
   "pygments_lexer": "ipython3",
   "version": "3.8.9"
  }
 },
 "nbformat": 4,
 "nbformat_minor": 4
}
