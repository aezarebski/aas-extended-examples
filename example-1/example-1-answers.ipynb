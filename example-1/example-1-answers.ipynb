{
 "cells": [
  {
   "cell_type": "markdown",
   "metadata": {},
   "source": [
    "# Flipping coins with Professor Mittens"
   ]
  },
  {
   "cell_type": "markdown",
   "metadata": {},
   "source": [
    "## Outline and housekeeping\n",
    "\n",
    "The material in this notebook covers four topics: binomial distributions, the central limit theorem, outliers in data and invalid model assumptions. _You will have approximately 15 minutes to work through each part, after which we will go through the answers together._ Exercises marked as \"extension\" may be more challenging, so you can skip them on a first reading if you feel they will take too much time.\n",
    "\n",
    "This notebook is available on github [here](https://github.com/aezarebski/aas-extended-examples). If you find errors or would like to suggest an improvement, feel free to create an issue."
   ]
  },
  {
   "cell_type": "markdown",
   "metadata": {},
   "source": [
    "## Introduction\n",
    "\n",
    "In this lab we will look at the binomial distribution, central limit theorem, and analyse two data sets collected by [Professor Mittens](https://en.wikipedia.org/wiki/Mittens_(cat)) helping him interrogate the bais in the results of coin flips. Some of the questions are open-ended by design. Partial solutions will be distributed at the end of the session. The imports below are used in the provided solutions, consider these suggestions, not constraints. The answers use `altair` but you can use any plotting library you are comfortable with."
   ]
  },
  {
   "cell_type": "code",
   "execution_count": 1,
   "metadata": {},
   "outputs": [],
   "source": [
    "import pandas as pd\n",
    "from scipy import stats\n",
    "import altair as alt\n",
    "from typing import List, Any, Tuple\n",
    "from functools import reduce\n",
    "from itertools import repeat\n",
    "import math as math"
   ]
  },
  {
   "cell_type": "markdown",
   "metadata": {},
   "source": [
    "## Parameter estimation of the binomial distribution\n",
    "\n",
    "Bernoulli and binomial random variables are the typical way to represent the outcome of coin flips. Below we consider estimates of the probability of heads based on a known number of successes in a given number of trials and also a confidence interval (CI) for this based on the Wald method will be given.\n",
    "\n",
    "Let $X$ be a binomial random variable (RV) which results from the number of heads when a coin is flipped $n$ times and the probability of coming up heads is $p$. For the time being we will assume that $n$ is know. The expected value of $X$ is $np$. So a simple way to estimate $p$ is to divide the number of heads, $X$, by the number of flips, $n$. This gives the estimate \n",
    "\n",
    "$$\n",
    "\\hat{p} = X / n.\n",
    "$$\n",
    "\n",
    "It turns out that this is a very sensible thing to do. The resulting estimate is called the maximum likelihood estimate (MLE) of $p$. It is also the result that one obtains via [the method of moments](https://en.wikipedia.org/wiki/Method_of_moments_(statistics)).\n",
    "\n",
    "Given an estimator though, we want to know how confident we are in the estimate it produces. Here we will use the Wald method to get the $95\\%$ CI. It is a very simple method but is acceptable when we have a fair bit of data. The estimated standard error of $\\hat{p}$ is $\\sqrt{\\hat{p}(1-\\hat{p})/n}$, so the Wald CI is given by\n",
    "\n",
    "$$\n",
    "\\hat{p} \\pm z \\sqrt{\\frac{\\hat{p}(1-\\hat{p})}{n}}\n",
    "$$\n",
    "\n",
    "where $z$ is the appropriate quantile of the standard normal distribution. In the case of a $95\\%$ distribution this is just $1.96$.\n",
    "\n",
    "This is stated on the [wikipedia](https://en.wikipedia.org/wiki/Binomial_distribution#Estimation_of_parameters) but there is also a reasonably clear description in [All of Statistics](https://link.springer.com/book/10.1007/978-0-387-21736-9) which you can get via SOLO. You can also find reasonable treatments of Wald CIs in both of those resources."
   ]
  },
  {
   "cell_type": "markdown",
   "metadata": {},
   "source": [
    "### Exercise 1 part I (Extension)\n",
    "\n",
    "Professor Mittens is not very familiar with the binomial distribution and wants you to justify the estimator used above. Convince yourself that the estimate given above, $X/n$, is a sensible choice. Prove that it is either the MLE or the method of moments estimator for $p$. State the limitations on the estimator we are using for the CI."
   ]
  },
  {
   "cell_type": "markdown",
   "metadata": {},
   "source": [
    "### Partial answer\n",
    "\n",
    "- Observe that the expected number of heads is $pn$ and solve for $p$.\n",
    "- Consider each flip as a Bernoulli trial and optimise the resulting log-likelihood function\n",
    "- The Wald estimate assumes you have enough data to justify an asymptotic solution so is unlikely to be accurate for small datasets."
   ]
  },
  {
   "cell_type": "markdown",
   "metadata": {},
   "source": [
    "### Exercise 1 part II\n",
    "\n",
    "Implement a function called `wald_estimate_and_ci` which takes two arguments: `num_trials` which is $n$ in the description above, and `num_success` which is $X$ above. The function should return `(p_hat,(wald_lower,wald_upper))` where `p_hat` is $\\hat{p}$ and `wald_x` are the limits on the $95\\%$ CI using the Wald method."
   ]
  },
  {
   "cell_type": "code",
   "execution_count": 2,
   "metadata": {},
   "outputs": [],
   "source": [
    "CI = Tuple[float,float]\n",
    "EstimateAndCI = Tuple[float,CI]\n",
    "\n",
    "def wald_estimate_and_ci(num_trials: int, num_success: int) -> EstimateAndCI:\n",
    "    p_hat = num_success / num_trials\n",
    "    z = 1.96\n",
    "    delta = z * math.sqrt(p_hat * (1 - p_hat) / num_trials)\n",
    "    return (p_hat,(p_hat - delta, p_hat + delta))"
   ]
  },
  {
   "cell_type": "markdown",
   "metadata": {},
   "source": [
    "### Exercise 2 part I\n",
    "\n",
    "Look up how to simulate a random variable from a binomial distribution (it tells you [here](https://docs.scipy.org/doc/scipy/reference/generated/scipy.stats.binom.html#scipy.stats.binom) if you want to use `scipy`). Then simulate a binomial random variable with $n=100$ and $p=0.6$. Then use the value and the `wald_estimate_and_ci` function to see how well you can estimate $p$. Write a couple of sentences to explain this.\n",
    "\n",
    "### Exercise 2 part II\n",
    "\n",
    "Repeat the process about 100000 times and see what proportion of the CIs capture the true value of $p$. Is it what you expect? Write a couple of sentences to explain what you found."
   ]
  },
  {
   "cell_type": "code",
   "execution_count": 3,
   "metadata": {},
   "outputs": [
    {
     "data": {
      "text/plain": [
       "0.94798"
      ]
     },
     "execution_count": 3,
     "metadata": {},
     "output_type": "execute_result"
    }
   ],
   "source": [
    "rand_xs = stats.binom.rvs(n = 100, p = 0.6, size = 100000)\n",
    "\n",
    "def ci_contains_value(ci: CI, p: float) -> bool:\n",
    "    lower,upper = ci\n",
    "    return lower < p and p < upper\n",
    "\n",
    "p_in_ci_bools = [ci_contains_value(wald_estimate_and_ci(100, x)[1], 0.6) for x in rand_xs]\n",
    "\n",
    "reduce(lambda a, b: a + 1 if b else a, p_in_ci_bools, 0) / 100000"
   ]
  },
  {
   "cell_type": "markdown",
   "metadata": {},
   "source": [
    "### Exercise 2 part III\n",
    "\n",
    "Are credible intervals and confidence intervals the same thing?"
   ]
  },
  {
   "cell_type": "markdown",
   "metadata": {},
   "source": [
    "### Partial answer\n",
    "\n",
    "No confidence intervals are talk about repeated experiments in frequentist statistics while credible intervals talk about posterior probability in Bayesian statistics."
   ]
  },
  {
   "cell_type": "markdown",
   "metadata": {},
   "source": [
    "## Central limit theorem\n",
    "\n",
    "The central limit theorem (CLT) tells us about the limiting distribution of the sample mean for distribution for an independent and identically distributed (IID) sample with a finite variance. It underpins many results in statistics and is important for reasoning about stochastic processes.\n",
    "\n",
    "### Exercise 3 part I (Extension)\n",
    "\n",
    "Professor Mittens *really* likes to sound fancy and use the name of important theorems. Write down a statement of the law of large numbers (LLN). Write down a statement of the central limit theorem. Make sure you understand what each of them tells you."
   ]
  },
  {
   "cell_type": "markdown",
   "metadata": {},
   "source": [
    "### Partial answer\n",
    "\n",
    "- $\\hat{X}$ converges to $\\mu$.\n",
    "- $\\sqrt{n}(\\hat{X} - \\mu) / \\sigma$ converges in distribution to the standard normal distribution as the sample size increases.\n",
    "- The LLN tells you what the limiting value is, the CLT tells you about how about the fluctuations."
   ]
  },
  {
   "cell_type": "markdown",
   "metadata": {},
   "source": [
    "### Exercise 3 part II\n",
    "\n",
    "To see that the distribution of the sample mean converges to a normal distribution we will do a simulation study and compare the results with a Q-Q plot to see if it looks normally distributed. This will also demonstrate how to construct a Q-Q plot from first principles, not that you really want to do that. Carry out the following steps:\n",
    "\n",
    "1. Write down the distribution of the sample mean given an IID sample of exponential random variables with rate $1/5$.\n",
    "2. Generate 500 sample means each based on a sample of 100 exponential random variables\n",
    "3. Make a visualisation of the distribution of the data (e.g., a KDE or histogram) and overlay the CLT approximation.\n",
    "4. Make a Q-Q plot to see if the sample means do appear to follow a normal distribution"
   ]
  },
  {
   "cell_type": "markdown",
   "metadata": {},
   "source": [
    "### Partial answer\n",
    "\n",
    "- The mean of the exponential distribution is 5. \n",
    "- The standard deviation of the exponential distribution is 5\n",
    "- The CLT tells us the limiting distribution for the sample mean is $N\\left(5,\\frac{5^2}{n}\\right)$"
   ]
  },
  {
   "cell_type": "code",
   "execution_count": 4,
   "metadata": {},
   "outputs": [],
   "source": [
    "sample_size = 200\n",
    "num_replicates = 500\n",
    "\n",
    "sample_means = [stats.expon.rvs(scale = 5, size = sample_size).mean() for _ in range(num_replicates)]\n",
    "\n",
    "plot_df = pd.DataFrame({\"sample_mean\": sample_means})\n",
    "\n",
    "mesh_size = 200\n",
    "x_vals = [0.02 * ix + 3 for ix in range(0,mesh_size)]\n",
    "\n",
    "clt_scale = 5 / math.sqrt(sample_size)\n",
    "\n",
    "clt_pdf = [stats.norm.pdf(x, loc = 5, scale = clt_scale) for x in x_vals]\n",
    "clt_df = pd.DataFrame({\"x\": x_vals, \"pdf\": clt_pdf})"
   ]
  },
  {
   "cell_type": "code",
   "execution_count": 5,
   "metadata": {},
   "outputs": [
    {
     "data": {
      "text/html": [
       "\n",
       "<div id=\"altair-viz-9f2a3ad065fa49bd8b18855c4fd61b9d\"></div>\n",
       "<script type=\"text/javascript\">\n",
       "  (function(spec, embedOpt){\n",
       "    let outputDiv = document.currentScript.previousElementSibling;\n",
       "    if (outputDiv.id !== \"altair-viz-9f2a3ad065fa49bd8b18855c4fd61b9d\") {\n",
       "      outputDiv = document.getElementById(\"altair-viz-9f2a3ad065fa49bd8b18855c4fd61b9d\");\n",
       "    }\n",
       "    const paths = {\n",
       "      \"vega\": \"https://cdn.jsdelivr.net/npm//vega@5?noext\",\n",
       "      \"vega-lib\": \"https://cdn.jsdelivr.net/npm//vega-lib?noext\",\n",
       "      \"vega-lite\": \"https://cdn.jsdelivr.net/npm//vega-lite@4.8.1?noext\",\n",
       "      \"vega-embed\": \"https://cdn.jsdelivr.net/npm//vega-embed@6?noext\",\n",
       "    };\n",
       "\n",
       "    function loadScript(lib) {\n",
       "      return new Promise(function(resolve, reject) {\n",
       "        var s = document.createElement('script');\n",
       "        s.src = paths[lib];\n",
       "        s.async = true;\n",
       "        s.onload = () => resolve(paths[lib]);\n",
       "        s.onerror = () => reject(`Error loading script: ${paths[lib]}`);\n",
       "        document.getElementsByTagName(\"head\")[0].appendChild(s);\n",
       "      });\n",
       "    }\n",
       "\n",
       "    function showError(err) {\n",
       "      outputDiv.innerHTML = `<div class=\"error\" style=\"color:red;\">${err}</div>`;\n",
       "      throw err;\n",
       "    }\n",
       "\n",
       "    function displayChart(vegaEmbed) {\n",
       "      vegaEmbed(outputDiv, spec, embedOpt)\n",
       "        .catch(err => showError(`Javascript Error: ${err.message}<br>This usually means there's a typo in your chart specification. See the javascript console for the full traceback.`));\n",
       "    }\n",
       "\n",
       "    if(typeof define === \"function\" && define.amd) {\n",
       "      requirejs.config({paths});\n",
       "      require([\"vega-embed\"], displayChart, err => showError(`Error loading script: ${err.message}`));\n",
       "    } else if (typeof vegaEmbed === \"function\") {\n",
       "      displayChart(vegaEmbed);\n",
       "    } else {\n",
       "      loadScript(\"vega\")\n",
       "        .then(() => loadScript(\"vega-lite\"))\n",
       "        .then(() => loadScript(\"vega-embed\"))\n",
       "        .catch(showError)\n",
       "        .then(() => displayChart(vegaEmbed));\n",
       "    }\n",
       "  })({\"config\": {\"view\": {\"continuousWidth\": 400, \"continuousHeight\": 300}}, \"layer\": [{\"data\": {\"name\": \"data-b005a98f3693123574fe8a49f1c42bc7\"}, \"mark\": \"area\", \"encoding\": {\"x\": {\"type\": \"quantitative\", \"field\": \"sample_mean\", \"title\": \"Sample mean\"}, \"y\": {\"type\": \"quantitative\", \"field\": \"density\"}}, \"transform\": [{\"density\": \"sample_mean\", \"extent\": [3, 7], \"as\": [\"sample_mean\", \"density\"]}]}, {\"data\": {\"name\": \"data-7efce130a2d22c3176072cc84f76b386\"}, \"mark\": {\"type\": \"line\", \"color\": \"red\"}, \"encoding\": {\"x\": {\"type\": \"quantitative\", \"field\": \"x\"}, \"y\": {\"type\": \"quantitative\", \"field\": \"pdf\"}}}], \"$schema\": \"https://vega.github.io/schema/vega-lite/v4.8.1.json\", \"datasets\": {\"data-b005a98f3693123574fe8a49f1c42bc7\": [{\"sample_mean\": 4.693452143594659}, {\"sample_mean\": 5.19046811166897}, {\"sample_mean\": 5.024920240798114}, {\"sample_mean\": 5.1083930475294235}, {\"sample_mean\": 5.0448786548325755}, {\"sample_mean\": 5.051827174854303}, {\"sample_mean\": 4.615839431395635}, {\"sample_mean\": 5.110021596811033}, {\"sample_mean\": 4.900026590868774}, {\"sample_mean\": 5.354863299544924}, {\"sample_mean\": 4.896671215409078}, {\"sample_mean\": 5.173816111813391}, {\"sample_mean\": 5.01564944244585}, {\"sample_mean\": 5.277705611268982}, {\"sample_mean\": 5.262564652123181}, {\"sample_mean\": 4.628688091210576}, {\"sample_mean\": 4.756635670093231}, {\"sample_mean\": 4.931715878518023}, {\"sample_mean\": 4.4847011487734365}, {\"sample_mean\": 4.59337843198291}, {\"sample_mean\": 5.128946870681297}, {\"sample_mean\": 4.711996143020767}, {\"sample_mean\": 5.099933226689867}, {\"sample_mean\": 5.278443075489564}, {\"sample_mean\": 5.088136204207123}, {\"sample_mean\": 4.989994913223082}, {\"sample_mean\": 5.079338333964438}, {\"sample_mean\": 4.459823305673929}, {\"sample_mean\": 4.887118714269378}, {\"sample_mean\": 4.642803539840846}, {\"sample_mean\": 5.3256855486024515}, {\"sample_mean\": 4.971370763500008}, {\"sample_mean\": 4.806528294783418}, {\"sample_mean\": 4.709314974647092}, {\"sample_mean\": 5.142582475067793}, {\"sample_mean\": 4.740950777373277}, {\"sample_mean\": 6.008095160504036}, {\"sample_mean\": 5.474377543539422}, {\"sample_mean\": 4.956158244098422}, {\"sample_mean\": 4.92996491668365}, {\"sample_mean\": 4.953832474410962}, {\"sample_mean\": 4.922459716381249}, {\"sample_mean\": 5.072755902632317}, {\"sample_mean\": 4.711175999055757}, {\"sample_mean\": 4.710841470156764}, {\"sample_mean\": 4.198818508178597}, {\"sample_mean\": 5.172001187351525}, {\"sample_mean\": 5.093545215223329}, {\"sample_mean\": 5.473516906422893}, {\"sample_mean\": 4.7994195529963735}, {\"sample_mean\": 5.054580071882876}, {\"sample_mean\": 4.378777513018834}, {\"sample_mean\": 5.197283553292832}, {\"sample_mean\": 5.0343302855517535}, {\"sample_mean\": 5.427066133248332}, {\"sample_mean\": 5.453999756469759}, {\"sample_mean\": 5.143925357571288}, {\"sample_mean\": 5.027184045975361}, {\"sample_mean\": 5.019150662525234}, {\"sample_mean\": 4.421547245057339}, {\"sample_mean\": 5.321295628089315}, {\"sample_mean\": 4.777353369544504}, {\"sample_mean\": 4.855264366963304}, {\"sample_mean\": 5.3668422158439615}, {\"sample_mean\": 5.616329953229024}, {\"sample_mean\": 4.709871545457149}, {\"sample_mean\": 4.828792063683949}, {\"sample_mean\": 5.104619913222645}, {\"sample_mean\": 4.673475768557914}, {\"sample_mean\": 5.185999548298144}, {\"sample_mean\": 4.571677881177443}, {\"sample_mean\": 5.508364875276204}, {\"sample_mean\": 5.40053654190913}, {\"sample_mean\": 6.048815523544197}, {\"sample_mean\": 4.937007178596044}, {\"sample_mean\": 5.150193384873335}, {\"sample_mean\": 4.835522752286433}, {\"sample_mean\": 4.718842923798184}, {\"sample_mean\": 5.290332365056617}, {\"sample_mean\": 5.002480934977357}, {\"sample_mean\": 4.872870445625571}, {\"sample_mean\": 5.323111736194367}, {\"sample_mean\": 6.374619929873563}, {\"sample_mean\": 4.865636257606657}, {\"sample_mean\": 4.86967582942948}, {\"sample_mean\": 4.5831855756453095}, {\"sample_mean\": 5.249028084535289}, {\"sample_mean\": 5.125268807519019}, {\"sample_mean\": 4.806465271958161}, {\"sample_mean\": 5.308701409226387}, {\"sample_mean\": 4.159832554621273}, {\"sample_mean\": 4.431329352104995}, {\"sample_mean\": 5.667014368468757}, {\"sample_mean\": 4.710219531597971}, {\"sample_mean\": 5.327868232019182}, {\"sample_mean\": 5.00930293173491}, {\"sample_mean\": 4.807641439296347}, {\"sample_mean\": 4.929620150748071}, {\"sample_mean\": 5.135863223101867}, {\"sample_mean\": 5.948388095368247}, {\"sample_mean\": 5.762471886183605}, {\"sample_mean\": 4.61941358576437}, {\"sample_mean\": 4.946930919176772}, {\"sample_mean\": 5.155822021251177}, {\"sample_mean\": 5.063455789751979}, {\"sample_mean\": 4.933437970208585}, {\"sample_mean\": 5.016671788040088}, {\"sample_mean\": 4.879367755400511}, {\"sample_mean\": 5.141378906449615}, {\"sample_mean\": 4.662518620868887}, {\"sample_mean\": 4.266541104105797}, {\"sample_mean\": 5.357010468744356}, {\"sample_mean\": 5.249172118275026}, {\"sample_mean\": 5.318345727179783}, {\"sample_mean\": 4.648162206597966}, {\"sample_mean\": 5.759967299639909}, {\"sample_mean\": 4.82415824274849}, {\"sample_mean\": 5.102878293622994}, {\"sample_mean\": 5.159284075198968}, {\"sample_mean\": 5.183641174414692}, {\"sample_mean\": 4.854869914941762}, {\"sample_mean\": 5.216887717927314}, {\"sample_mean\": 4.557846052501447}, {\"sample_mean\": 5.339820524197332}, {\"sample_mean\": 4.55405641657668}, {\"sample_mean\": 5.079121946103106}, {\"sample_mean\": 4.692289934508818}, {\"sample_mean\": 5.036364781786648}, {\"sample_mean\": 5.23510906413584}, {\"sample_mean\": 4.973256297080946}, {\"sample_mean\": 4.898324406774093}, {\"sample_mean\": 4.573939585595366}, {\"sample_mean\": 4.923960133383112}, {\"sample_mean\": 4.966127243878632}, {\"sample_mean\": 5.191597841270809}, {\"sample_mean\": 4.737501796827263}, {\"sample_mean\": 4.835976218748644}, {\"sample_mean\": 5.396212037980454}, {\"sample_mean\": 5.624605870937895}, {\"sample_mean\": 4.517320041670382}, {\"sample_mean\": 4.451475243404392}, {\"sample_mean\": 4.819314592418468}, {\"sample_mean\": 5.248288230545882}, {\"sample_mean\": 5.100563741302226}, {\"sample_mean\": 4.770620028592097}, {\"sample_mean\": 5.039644268718086}, {\"sample_mean\": 4.880665003075209}, {\"sample_mean\": 5.618138498637008}, {\"sample_mean\": 5.261614683517076}, {\"sample_mean\": 4.74178837050024}, {\"sample_mean\": 4.860154952537377}, {\"sample_mean\": 5.191568494776483}, {\"sample_mean\": 5.48284556488094}, {\"sample_mean\": 4.905515803780993}, {\"sample_mean\": 5.200763435534083}, {\"sample_mean\": 4.799676061965277}, {\"sample_mean\": 4.9313496828955685}, {\"sample_mean\": 4.440507444307961}, {\"sample_mean\": 4.658642035056122}, {\"sample_mean\": 4.398895392472872}, {\"sample_mean\": 5.173240677400044}, {\"sample_mean\": 5.215051414138515}, {\"sample_mean\": 4.841827661112509}, {\"sample_mean\": 4.9931541419365075}, {\"sample_mean\": 4.609366934439877}, {\"sample_mean\": 5.093375626340991}, {\"sample_mean\": 4.837992460671841}, {\"sample_mean\": 5.020573313132915}, {\"sample_mean\": 4.546622640471449}, {\"sample_mean\": 4.3266557858114325}, {\"sample_mean\": 4.378708551960748}, {\"sample_mean\": 4.604883480327417}, {\"sample_mean\": 4.7732306638549}, {\"sample_mean\": 5.023147386760496}, {\"sample_mean\": 4.790126602262211}, {\"sample_mean\": 5.416955762525785}, {\"sample_mean\": 4.919235933019276}, {\"sample_mean\": 4.988885414843012}, {\"sample_mean\": 5.167254023997944}, {\"sample_mean\": 4.903718160455141}, {\"sample_mean\": 5.134179550507488}, {\"sample_mean\": 4.6629668278467}, {\"sample_mean\": 5.594825435237218}, {\"sample_mean\": 4.938044348495691}, {\"sample_mean\": 5.325211598207784}, {\"sample_mean\": 5.458922374889077}, {\"sample_mean\": 4.772362386307086}, {\"sample_mean\": 5.14246508926962}, {\"sample_mean\": 5.226564654070668}, {\"sample_mean\": 5.336240513088595}, {\"sample_mean\": 5.2679577931046815}, {\"sample_mean\": 5.220731879672098}, {\"sample_mean\": 4.845498249306291}, {\"sample_mean\": 5.105864956645555}, {\"sample_mean\": 4.411220609741017}, {\"sample_mean\": 4.908372908313776}, {\"sample_mean\": 5.330938112437426}, {\"sample_mean\": 4.798402467027111}, {\"sample_mean\": 5.062838773250957}, {\"sample_mean\": 4.671588048883206}, {\"sample_mean\": 4.951628818546319}, {\"sample_mean\": 4.86190198124101}, {\"sample_mean\": 5.41862827330142}, {\"sample_mean\": 5.337428692810208}, {\"sample_mean\": 5.556007634157786}, {\"sample_mean\": 4.904643173778382}, {\"sample_mean\": 5.50707960951665}, {\"sample_mean\": 5.213965181709829}, {\"sample_mean\": 4.788127908778029}, {\"sample_mean\": 4.7676348295910245}, {\"sample_mean\": 4.420955851302357}, {\"sample_mean\": 4.737231508678873}, {\"sample_mean\": 5.00797503664149}, {\"sample_mean\": 5.217561560786482}, {\"sample_mean\": 4.705952585586213}, {\"sample_mean\": 4.9146145669388215}, {\"sample_mean\": 4.696907776693042}, {\"sample_mean\": 4.838233884270279}, {\"sample_mean\": 4.387399775847156}, {\"sample_mean\": 4.796437199796375}, {\"sample_mean\": 4.546327340975784}, {\"sample_mean\": 4.8402097285651795}, {\"sample_mean\": 4.510940504961247}, {\"sample_mean\": 4.821101487319444}, {\"sample_mean\": 5.169496922352196}, {\"sample_mean\": 4.467200466838526}, {\"sample_mean\": 4.07855345394878}, {\"sample_mean\": 4.80394671201731}, {\"sample_mean\": 5.052389051701367}, {\"sample_mean\": 4.5643523931879955}, {\"sample_mean\": 5.100888310410632}, {\"sample_mean\": 4.78723476148084}, {\"sample_mean\": 5.6303023557232335}, {\"sample_mean\": 5.015327127644059}, {\"sample_mean\": 4.546711406643802}, {\"sample_mean\": 5.575400914461498}, {\"sample_mean\": 5.4188473439875295}, {\"sample_mean\": 5.224022686266262}, {\"sample_mean\": 4.7434071347683195}, {\"sample_mean\": 4.533422677124402}, {\"sample_mean\": 4.088472570441657}, {\"sample_mean\": 5.203660058493691}, {\"sample_mean\": 5.444691217887255}, {\"sample_mean\": 4.948461299082494}, {\"sample_mean\": 4.950440035079423}, {\"sample_mean\": 4.805717212996086}, {\"sample_mean\": 4.979255799604885}, {\"sample_mean\": 5.056004094577622}, {\"sample_mean\": 5.571706841229232}, {\"sample_mean\": 5.298315095962969}, {\"sample_mean\": 5.0898701333093035}, {\"sample_mean\": 5.034718612634296}, {\"sample_mean\": 5.150576144568199}, {\"sample_mean\": 4.897908492604533}, {\"sample_mean\": 5.066524715014267}, {\"sample_mean\": 5.426092292355507}, {\"sample_mean\": 4.943031471316735}, {\"sample_mean\": 5.027966253135125}, {\"sample_mean\": 5.661127741680868}, {\"sample_mean\": 4.895439802289807}, {\"sample_mean\": 5.186813197848567}, {\"sample_mean\": 5.201842860751131}, {\"sample_mean\": 5.496908500213822}, {\"sample_mean\": 4.9304604986992695}, {\"sample_mean\": 5.951116935414384}, {\"sample_mean\": 5.9734545040040254}, {\"sample_mean\": 4.857136782574292}, {\"sample_mean\": 5.018227334924351}, {\"sample_mean\": 5.057882502976772}, {\"sample_mean\": 5.079354384410959}, {\"sample_mean\": 4.746782688461642}, {\"sample_mean\": 5.076663753514168}, {\"sample_mean\": 4.9278307423802366}, {\"sample_mean\": 5.209304875336305}, {\"sample_mean\": 4.816732005381128}, {\"sample_mean\": 5.525219558230511}, {\"sample_mean\": 4.385746952368351}, {\"sample_mean\": 4.31693364198951}, {\"sample_mean\": 4.903653617958096}, {\"sample_mean\": 5.341981486734883}, {\"sample_mean\": 5.695244936666347}, {\"sample_mean\": 4.238970437300761}, {\"sample_mean\": 4.826234598268826}, {\"sample_mean\": 4.474600161534371}, {\"sample_mean\": 4.835287753395456}, {\"sample_mean\": 4.998517467885668}, {\"sample_mean\": 5.166786484440531}, {\"sample_mean\": 5.264768912613195}, {\"sample_mean\": 4.899553453708577}, {\"sample_mean\": 5.324686539535732}, {\"sample_mean\": 5.066151949250776}, {\"sample_mean\": 4.817151853345751}, {\"sample_mean\": 4.623343232225506}, {\"sample_mean\": 5.441004064891057}, {\"sample_mean\": 5.286369939886936}, {\"sample_mean\": 4.50875437395175}, {\"sample_mean\": 4.763225259012375}, {\"sample_mean\": 5.035345220095447}, {\"sample_mean\": 4.761015847895622}, {\"sample_mean\": 4.95467155897467}, {\"sample_mean\": 5.029191089215652}, {\"sample_mean\": 4.683803104652494}, {\"sample_mean\": 4.760241272418247}, {\"sample_mean\": 5.176800499243115}, {\"sample_mean\": 5.76492243524456}, {\"sample_mean\": 4.3952054276110655}, {\"sample_mean\": 5.036494856256644}, {\"sample_mean\": 5.273242770036165}, {\"sample_mean\": 5.0033636201351515}, {\"sample_mean\": 5.466482752238636}, {\"sample_mean\": 4.938813859192577}, {\"sample_mean\": 5.285214172659351}, {\"sample_mean\": 5.472158409674532}, {\"sample_mean\": 5.1624720655642795}, {\"sample_mean\": 5.106684282278305}, {\"sample_mean\": 5.6437618611638865}, {\"sample_mean\": 4.893427632652115}, {\"sample_mean\": 4.811274992783193}, {\"sample_mean\": 5.518126665817386}, {\"sample_mean\": 5.309052489836489}, {\"sample_mean\": 4.47647915132706}, {\"sample_mean\": 4.83719690416419}, {\"sample_mean\": 4.965811309602364}, {\"sample_mean\": 4.777298202859544}, {\"sample_mean\": 5.2007555688895994}, {\"sample_mean\": 5.000309800067892}, {\"sample_mean\": 5.347413147843769}, {\"sample_mean\": 5.038421747503949}, {\"sample_mean\": 4.762944841320015}, {\"sample_mean\": 5.2279207848751295}, {\"sample_mean\": 4.2110191100804295}, {\"sample_mean\": 4.931942831631475}, {\"sample_mean\": 5.042192312608862}, {\"sample_mean\": 4.907501705575458}, {\"sample_mean\": 4.61542854177167}, {\"sample_mean\": 5.493587465931824}, {\"sample_mean\": 4.760892616689602}, {\"sample_mean\": 4.55027476566609}, {\"sample_mean\": 4.666034189220209}, {\"sample_mean\": 4.782966783788002}, {\"sample_mean\": 4.84910712642544}, {\"sample_mean\": 5.160538031584852}, {\"sample_mean\": 5.359069596826962}, {\"sample_mean\": 5.347209162024695}, {\"sample_mean\": 4.652997352953153}, {\"sample_mean\": 4.689820487215596}, {\"sample_mean\": 5.009219264766592}, {\"sample_mean\": 4.487116531830102}, {\"sample_mean\": 4.793152039564482}, {\"sample_mean\": 5.062924064431331}, {\"sample_mean\": 4.760636090287168}, {\"sample_mean\": 5.026821779476637}, {\"sample_mean\": 4.817165802441119}, {\"sample_mean\": 4.895889490708434}, {\"sample_mean\": 4.788942105674861}, {\"sample_mean\": 4.785366755599728}, {\"sample_mean\": 5.709899738049266}, {\"sample_mean\": 4.956683831986606}, {\"sample_mean\": 5.086144137209464}, {\"sample_mean\": 4.542565614758285}, {\"sample_mean\": 4.129860156794015}, {\"sample_mean\": 5.190749221697729}, {\"sample_mean\": 5.387833944106328}, {\"sample_mean\": 5.65501914688502}, {\"sample_mean\": 5.236184328682336}, {\"sample_mean\": 5.247207359874844}, {\"sample_mean\": 4.354400180005017}, {\"sample_mean\": 5.318243200615321}, {\"sample_mean\": 5.081916120780721}, {\"sample_mean\": 4.613803016461484}, {\"sample_mean\": 4.760507616556761}, {\"sample_mean\": 4.769958079658818}, {\"sample_mean\": 5.186440857798377}, {\"sample_mean\": 4.697836175585474}, {\"sample_mean\": 5.257964638883878}, {\"sample_mean\": 5.016312805432239}, {\"sample_mean\": 5.064632942284673}, {\"sample_mean\": 4.872172778064464}, {\"sample_mean\": 4.600474474982177}, {\"sample_mean\": 5.457758674810652}, {\"sample_mean\": 4.536651482218846}, {\"sample_mean\": 4.938540885741954}, {\"sample_mean\": 5.040142204646853}, {\"sample_mean\": 4.949204794071901}, {\"sample_mean\": 5.1617994199637085}, {\"sample_mean\": 4.991265299228073}, {\"sample_mean\": 4.357730838025935}, {\"sample_mean\": 5.221735088050074}, {\"sample_mean\": 5.354709355218904}, {\"sample_mean\": 5.055199227424395}, {\"sample_mean\": 4.918469488806834}, {\"sample_mean\": 4.989760501481984}, {\"sample_mean\": 5.522277338888025}, {\"sample_mean\": 4.617606828569565}, {\"sample_mean\": 4.495613246079979}, {\"sample_mean\": 4.971312638488236}, {\"sample_mean\": 5.211864764177108}, {\"sample_mean\": 4.5784741422849455}, {\"sample_mean\": 4.563583636131721}, {\"sample_mean\": 4.9773535865068945}, {\"sample_mean\": 4.887238063251847}, {\"sample_mean\": 5.968688155122976}, {\"sample_mean\": 5.219734698777075}, {\"sample_mean\": 4.965112917272665}, {\"sample_mean\": 4.410790386521848}, {\"sample_mean\": 5.856851070971662}, {\"sample_mean\": 4.924421635138934}, {\"sample_mean\": 4.75138774598076}, {\"sample_mean\": 5.664195666810101}, {\"sample_mean\": 4.953797510329136}, {\"sample_mean\": 5.220514359585182}, {\"sample_mean\": 5.014103899413392}, {\"sample_mean\": 5.081862998379788}, {\"sample_mean\": 5.098521524316149}, {\"sample_mean\": 4.649552838410334}, {\"sample_mean\": 4.4922947521560594}, {\"sample_mean\": 4.717639064599533}, {\"sample_mean\": 4.373581023323995}, {\"sample_mean\": 4.416550702956225}, {\"sample_mean\": 4.8108336433799055}, {\"sample_mean\": 4.765802474218911}, {\"sample_mean\": 5.105778903054606}, {\"sample_mean\": 5.5020991763931875}, {\"sample_mean\": 5.095621980126242}, {\"sample_mean\": 4.707088437571653}, {\"sample_mean\": 5.149158066087624}, {\"sample_mean\": 5.322283733618303}, {\"sample_mean\": 4.848774160535895}, {\"sample_mean\": 5.0218595050279395}, {\"sample_mean\": 4.668380614159231}, {\"sample_mean\": 4.603625399344816}, {\"sample_mean\": 5.072761668599009}, {\"sample_mean\": 4.807211850181224}, {\"sample_mean\": 5.144018335642568}, {\"sample_mean\": 4.652258689052736}, {\"sample_mean\": 4.686540694543747}, {\"sample_mean\": 4.9411736468250975}, {\"sample_mean\": 5.1964613612276755}, {\"sample_mean\": 4.33064629951143}, {\"sample_mean\": 4.9479202844719685}, {\"sample_mean\": 4.844661784242679}, {\"sample_mean\": 4.901097654007618}, {\"sample_mean\": 4.796241606734108}, {\"sample_mean\": 4.998840880594737}, {\"sample_mean\": 4.681629276879984}, {\"sample_mean\": 4.750603221229619}, {\"sample_mean\": 5.873258043987309}, {\"sample_mean\": 4.977040703110154}, {\"sample_mean\": 5.518430892862332}, {\"sample_mean\": 4.6692076359568135}, {\"sample_mean\": 5.2988118522207355}, {\"sample_mean\": 6.05875488662667}, {\"sample_mean\": 4.6520696794214595}, {\"sample_mean\": 5.315511127306387}, {\"sample_mean\": 5.19498668596555}, {\"sample_mean\": 4.945151182039632}, {\"sample_mean\": 4.896713838483453}, {\"sample_mean\": 4.756785642789651}, {\"sample_mean\": 5.284779228780146}, {\"sample_mean\": 4.563498787620541}, {\"sample_mean\": 4.671668559876544}, {\"sample_mean\": 5.07221499199777}, {\"sample_mean\": 5.003629909875516}, {\"sample_mean\": 5.030775891004711}, {\"sample_mean\": 5.026018388269369}, {\"sample_mean\": 5.46190993114612}, {\"sample_mean\": 5.314030859161579}, {\"sample_mean\": 4.980965015916696}, {\"sample_mean\": 5.042911772530973}, {\"sample_mean\": 4.9265714856833025}, {\"sample_mean\": 4.231476995553029}, {\"sample_mean\": 4.501993149762299}, {\"sample_mean\": 5.019181704906421}, {\"sample_mean\": 4.540122518892947}, {\"sample_mean\": 4.6000644955855305}, {\"sample_mean\": 4.917596650012648}, {\"sample_mean\": 5.146608952467701}, {\"sample_mean\": 5.40041998596525}, {\"sample_mean\": 4.7338728477443075}, {\"sample_mean\": 5.2708121359339}, {\"sample_mean\": 4.965707702675057}, {\"sample_mean\": 4.960780826038129}, {\"sample_mean\": 4.848724663444081}, {\"sample_mean\": 4.9255413501547425}, {\"sample_mean\": 4.957021745957501}, {\"sample_mean\": 4.860389792767237}, {\"sample_mean\": 5.278013523755825}, {\"sample_mean\": 5.004397851488133}, {\"sample_mean\": 4.882617558080082}, {\"sample_mean\": 5.0053618486989055}, {\"sample_mean\": 5.599000656952887}, {\"sample_mean\": 5.671611511392834}, {\"sample_mean\": 5.142548471602078}, {\"sample_mean\": 4.824427178532407}, {\"sample_mean\": 4.9984051363196}, {\"sample_mean\": 4.870520804479013}, {\"sample_mean\": 4.610069097363133}, {\"sample_mean\": 4.9456041963328845}, {\"sample_mean\": 5.4592655972215285}, {\"sample_mean\": 5.753197770031822}], \"data-7efce130a2d22c3176072cc84f76b386\": [{\"x\": 3.0, \"pdf\": 1.2698234671866516e-07}, {\"x\": 3.02, \"pdf\": 1.745913454978549e-07}, {\"x\": 3.04, \"pdf\": 2.392832686493284e-07}, {\"x\": 3.06, \"pdf\": 3.2689796042871425e-07}, {\"x\": 3.08, \"pdf\": 4.4516636871660476e-07}, {\"x\": 3.1, \"pdf\": 6.042862893222472e-07}, {\"x\": 3.12, \"pdf\": 8.176612038467836e-07}, {\"x\": 3.14, \"pdf\": 1.1028445489822057e-06}, {\"x\": 3.16, \"pdf\": 1.4827415837314824e-06}, {\"x\": 3.18, \"pdf\": 1.98713279968088e-06}, {\"x\": 3.2, \"pdf\": 2.6545968447165894e-06}, {\"x\": 3.22, \"pdf\": 3.5349275199902957e-06}, {\"x\": 3.24, \"pdf\": 4.692158896370975e-06}, {\"x\": 3.26, \"pdf\": 6.2083353200127476e-06}, {\"x\": 3.2800000000000002, \"pdf\": 8.188189372620189e-06}, {\"x\": 3.3, \"pdf\": 1.076492103668062e-05}, {\"x\": 3.32, \"pdf\": 1.410730566683488e-05}, {\"x\": 3.34, \"pdf\": 1.8428397100512744e-05}, {\"x\": 3.36, \"pdf\": 2.399613547720731e-05}, {\"x\": 3.38, \"pdf\": 3.1146217073624676e-05}, {\"x\": 3.4, \"pdf\": 4.029763553323548e-05}, {\"x\": 3.42, \"pdf\": 5.197135989491106e-05}, {\"x\": 3.44, \"pdf\": 6.68126741680044e-05}, {\"x\": 3.46, \"pdf\": 8.561776490903225e-05}, {\"x\": 3.48, \"pdf\": 0.00010936520600809304}, {\"x\": 3.5, \"pdf\": 0.00013925305194674762}, {\"x\": 3.52, \"pdf\": 0.000176742309920232}, {\"x\": 3.54, \"pdf\": 0.00022360761467528887}, {\"x\": 3.56, \"pdf\": 0.0002819959743832502}, {\"x\": 3.58, \"pdf\": 0.0003544944874357519}, {\"x\": 3.6, \"pdf\": 0.0004442079442056664}, {\"x\": 3.62, \"pdf\": 0.0005548472194610549}, {\"x\": 3.64, \"pdf\": 0.0006908293246174893}, {\"x\": 3.66, \"pdf\": 0.0008573899182661942}, {\"x\": 3.68, \"pdf\": 0.001060708961985602}, {\"x\": 3.7, \"pdf\": 0.0013080500497232822}, {\"x\": 3.7199999999999998, \"pdf\": 0.0016079137264583395}, {\"x\": 3.74, \"pdf\": 0.0019702048391677224}, {\"x\": 3.76, \"pdf\": 0.002406413624699962}, {\"x\": 3.7800000000000002, \"pdf\": 0.002929809830385715}, {\"x\": 3.8, \"pdf\": 0.003555648680877736}, {\"x\": 3.8200000000000003, \"pdf\": 0.004301386947475875}, {\"x\": 3.84, \"pdf\": 0.00518690674505229}, {\"x\": 3.86, \"pdf\": 0.006234743980477786}, {\"x\": 3.88, \"pdf\": 0.007470317612272713}, {\"x\": 3.9, \"pdf\": 0.008922155064916192}, {\"x\": 3.92, \"pdf\": 0.010622108287775604}, {\"x\": 3.94, \"pdf\": 0.012605554077273774}, {\"x\": 3.96, \"pdf\": 0.014911571415507946}, {\"x\": 3.98, \"pdf\": 0.01758308774738886}, {\"x\": 4.0, \"pdf\": 0.02066698535409204}, {\"x\": 4.02, \"pdf\": 0.02421415831968451}, {\"x\": 4.04, \"pdf\": 0.028279510069901093}, {\"x\": 4.0600000000000005, \"pdf\": 0.03292188112916045}, {\"x\": 4.08, \"pdf\": 0.038203896637112454}, {\"x\": 4.1, \"pdf\": 0.04419172333201094}, {\"x\": 4.12, \"pdf\": 0.050954726185723526}, {\"x\": 4.140000000000001, \"pdf\": 0.058565015701017895}, {\"x\": 4.16, \"pdf\": 0.06709687808675474}, {\"x\": 4.18, \"pdf\": 0.07662608213355307}, {\"x\": 4.2, \"pdf\": 0.08722905863394545}, {\"x\": 4.22, \"pdf\": 0.09898195062734902}, {\"x\": 4.24, \"pdf\": 0.11195953558753903}, {\"x\": 4.26, \"pdf\": 0.12623402387923904}, {\"x\": 4.28, \"pdf\": 0.14187374134473915}, {\"x\": 4.3, \"pdf\": 0.15894170767727767}, {\"x\": 4.32, \"pdf\": 0.17749412621427865}, {\"x\": 4.34, \"pdf\": 0.19757880484240298}, {\"x\": 4.36, \"pdf\": 0.21923353173480786}, {\"x\": 4.38, \"pdf\": 0.24248443351280316}, {\"x\": 4.4, \"pdf\": 0.2673443470035396}, {\"x\": 4.42, \"pdf\": 0.2938112389103993}, {\"x\": 4.4399999999999995, \"pdf\": 0.3218667102803008}, {\"x\": 4.46, \"pdf\": 0.3514746245023804}, {\"x\": 4.48, \"pdf\": 0.38257989857533004}, {\"x\": 4.5, \"pdf\": 0.41510749742059466}, {\"x\": 4.52, \"pdf\": 0.4489616700010925}, {\"x\": 4.54, \"pdf\": 0.4840254638617831}, {\"x\": 4.5600000000000005, \"pdf\": 0.5201605514020323}, {\"x\": 4.58, \"pdf\": 0.5572073967184715}, {\"x\": 4.6, \"pdf\": 0.5949857862574683}, {\"x\": 4.62, \"pdf\": 0.633295739865391}, {\"x\": 4.640000000000001, \"pdf\": 0.6719188112401959}, {\"x\": 4.66, \"pdf\": 0.7106197784266876}, {\"x\": 4.68, \"pdf\": 0.7491487160540626}, {\"x\": 4.7, \"pdf\": 0.7872434317142878}, {\"x\": 4.72, \"pdf\": 0.8246322394759612}, {\"x\": 4.74, \"pdf\": 0.8610370342917477}, {\"x\": 4.76, \"pdf\": 0.8961766222695111}, {\"x\": 4.78, \"pdf\": 0.929770253719997}, {\"x\": 4.8, \"pdf\": 0.9615412988393077}, {\"x\": 4.82, \"pdf\": 0.9912210000854449}, {\"x\": 4.84, \"pdf\": 1.0185522309873223}, {\"x\": 4.86, \"pdf\": 1.0432931884662069}, {\"x\": 4.88, \"pdf\": 1.0652209448901007}, {\"x\": 4.9, \"pdf\": 1.0841347871048637}, {\"x\": 4.92, \"pdf\": 1.0998592726166878}, {\"x\": 4.9399999999999995, \"pdf\": 1.112246937903477}, {\"x\": 4.96, \"pdf\": 1.1211806004105842}, {\"x\": 4.98, \"pdf\": 1.126575203983495}, {\"x\": 5.0, \"pdf\": 1.1283791670955128}, {\"x\": 5.02, \"pdf\": 1.126575203983495}, {\"x\": 5.04, \"pdf\": 1.1211806004105842}, {\"x\": 5.0600000000000005, \"pdf\": 1.112246937903477}, {\"x\": 5.08, \"pdf\": 1.0998592726166878}, {\"x\": 5.1, \"pdf\": 1.0841347871048637}, {\"x\": 5.12, \"pdf\": 1.0652209448901007}, {\"x\": 5.140000000000001, \"pdf\": 1.0432931884662056}, {\"x\": 5.16, \"pdf\": 1.0185522309873223}, {\"x\": 5.18, \"pdf\": 0.9912210000854449}, {\"x\": 5.2, \"pdf\": 0.9615412988393077}, {\"x\": 5.220000000000001, \"pdf\": 0.9297702537199956}, {\"x\": 5.24, \"pdf\": 0.8961766222695111}, {\"x\": 5.26, \"pdf\": 0.8610370342917477}, {\"x\": 5.28, \"pdf\": 0.8246322394759612}, {\"x\": 5.300000000000001, \"pdf\": 0.787243431714286}, {\"x\": 5.32, \"pdf\": 0.7491487160540626}, {\"x\": 5.34, \"pdf\": 0.7106197784266876}, {\"x\": 5.359999999999999, \"pdf\": 0.6719188112401959}, {\"x\": 5.38, \"pdf\": 0.633295739865391}, {\"x\": 5.4, \"pdf\": 0.5949857862574683}, {\"x\": 5.42, \"pdf\": 0.5572073967184715}, {\"x\": 5.4399999999999995, \"pdf\": 0.5201605514020323}, {\"x\": 5.46, \"pdf\": 0.4840254638617831}, {\"x\": 5.48, \"pdf\": 0.4489616700010925}, {\"x\": 5.5, \"pdf\": 0.41510749742059466}, {\"x\": 5.52, \"pdf\": 0.38257989857533004}, {\"x\": 5.54, \"pdf\": 0.3514746245023804}, {\"x\": 5.5600000000000005, \"pdf\": 0.3218667102803008}, {\"x\": 5.58, \"pdf\": 0.2938112389103993}, {\"x\": 5.6, \"pdf\": 0.2673443470035396}, {\"x\": 5.62, \"pdf\": 0.24248443351280316}, {\"x\": 5.640000000000001, \"pdf\": 0.2192335317348069}, {\"x\": 5.66, \"pdf\": 0.19757880484240298}, {\"x\": 5.68, \"pdf\": 0.17749412621427865}, {\"x\": 5.7, \"pdf\": 0.15894170767727767}, {\"x\": 5.720000000000001, \"pdf\": 0.14187374134473843}, {\"x\": 5.74, \"pdf\": 0.12623402387923904}, {\"x\": 5.76, \"pdf\": 0.11195953558753903}, {\"x\": 5.78, \"pdf\": 0.09898195062734902}, {\"x\": 5.800000000000001, \"pdf\": 0.08722905863394495}, {\"x\": 5.82, \"pdf\": 0.07662608213355307}, {\"x\": 5.84, \"pdf\": 0.06709687808675474}, {\"x\": 5.859999999999999, \"pdf\": 0.058565015701017895}, {\"x\": 5.88, \"pdf\": 0.050954726185723526}, {\"x\": 5.9, \"pdf\": 0.04419172333201094}, {\"x\": 5.92, \"pdf\": 0.038203896637112454}, {\"x\": 5.9399999999999995, \"pdf\": 0.03292188112916045}, {\"x\": 5.96, \"pdf\": 0.028279510069901093}, {\"x\": 5.98, \"pdf\": 0.02421415831968451}, {\"x\": 6.0, \"pdf\": 0.02066698535409204}, {\"x\": 6.02, \"pdf\": 0.01758308774738892}, {\"x\": 6.04, \"pdf\": 0.014911571415507946}, {\"x\": 6.0600000000000005, \"pdf\": 0.012605554077273729}, {\"x\": 6.08, \"pdf\": 0.010622108287775604}, {\"x\": 6.1, \"pdf\": 0.008922155064916231}, {\"x\": 6.12, \"pdf\": 0.007470317612272713}, {\"x\": 6.140000000000001, \"pdf\": 0.006234743980477765}, {\"x\": 6.16, \"pdf\": 0.00518690674505229}, {\"x\": 6.18, \"pdf\": 0.004301386947475875}, {\"x\": 6.2, \"pdf\": 0.003555648680877736}, {\"x\": 6.220000000000001, \"pdf\": 0.002929809830385691}, {\"x\": 6.24, \"pdf\": 0.002406413624699962}, {\"x\": 6.26, \"pdf\": 0.0019702048391677224}, {\"x\": 6.28, \"pdf\": 0.0016079137264583395}, {\"x\": 6.300000000000001, \"pdf\": 0.0013080500497232694}, {\"x\": 6.32, \"pdf\": 0.001060708961985599}, {\"x\": 6.34, \"pdf\": 0.0008573899182661942}, {\"x\": 6.359999999999999, \"pdf\": 0.0006908293246174929}, {\"x\": 6.38, \"pdf\": 0.0005548472194610549}, {\"x\": 6.4, \"pdf\": 0.00044420794420566397}, {\"x\": 6.42, \"pdf\": 0.0003544944874357519}, {\"x\": 6.4399999999999995, \"pdf\": 0.0002819959743832512}, {\"x\": 6.46, \"pdf\": 0.00022360761467528887}, {\"x\": 6.48, \"pdf\": 0.0001767423099202314}, {\"x\": 6.5, \"pdf\": 0.00013925305194674762}, {\"x\": 6.52, \"pdf\": 0.00010936520600809382}, {\"x\": 6.54, \"pdf\": 8.561776490903225e-05}, {\"x\": 6.5600000000000005, \"pdf\": 6.681267416800381e-05}, {\"x\": 6.58, \"pdf\": 5.197135989491106e-05}, {\"x\": 6.6, \"pdf\": 4.0297635533235756e-05}, {\"x\": 6.62, \"pdf\": 3.1146217073624676e-05}, {\"x\": 6.640000000000001, \"pdf\": 2.39961354772071e-05}, {\"x\": 6.66, \"pdf\": 1.8428397100512744e-05}, {\"x\": 6.68, \"pdf\": 1.4107305666834931e-05}, {\"x\": 6.7, \"pdf\": 1.076492103668062e-05}, {\"x\": 6.720000000000001, \"pdf\": 8.188189372620087e-06}, {\"x\": 6.74, \"pdf\": 6.2083353200127476e-06}, {\"x\": 6.76, \"pdf\": 4.692158896370975e-06}, {\"x\": 6.78, \"pdf\": 3.5349275199902647e-06}, {\"x\": 6.800000000000001, \"pdf\": 2.6545968447165564e-06}, {\"x\": 6.82, \"pdf\": 1.9871327996808693e-06}, {\"x\": 6.84, \"pdf\": 1.4827415837314824e-06}, {\"x\": 6.859999999999999, \"pdf\": 1.1028445489822155e-06}, {\"x\": 6.88, \"pdf\": 8.176612038467836e-07}, {\"x\": 6.9, \"pdf\": 6.042862893222408e-07}, {\"x\": 6.92, \"pdf\": 4.4516636871660476e-07}, {\"x\": 6.9399999999999995, \"pdf\": 3.268979604287172e-07}, {\"x\": 6.96, \"pdf\": 2.392832686493284e-07}, {\"x\": 6.98, \"pdf\": 1.7459134549785337e-07}]}}, {\"mode\": \"vega-lite\"});\n",
       "</script>"
      ],
      "text/plain": [
       "alt.LayerChart(...)"
      ]
     },
     "execution_count": 5,
     "metadata": {},
     "output_type": "execute_result"
    }
   ],
   "source": [
    "data_kde = (alt\n",
    "                .Chart(plot_df)\n",
    "                .transform_density(\n",
    "                    'sample_mean',\n",
    "                    as_=['sample_mean', 'density'],\n",
    "                    extent=[3,7]\n",
    "                )\n",
    "                .mark_area()\n",
    "                .encode(x = alt.X(\"sample_mean:Q\",\n",
    "                                 title=\"Sample mean\"),\n",
    "                        y = \"density:Q\"))\n",
    "\n",
    "clt_line = (alt\n",
    "               .Chart(clt_df)\n",
    "               .mark_line(color = \"red\")\n",
    "               .encode(x = \"x\",\n",
    "                       y = \"pdf\"))\n",
    "\n",
    "data_kde + clt_line"
   ]
  },
  {
   "cell_type": "code",
   "execution_count": 6,
   "metadata": {},
   "outputs": [
    {
     "data": {
      "text/html": [
       "\n",
       "<div id=\"altair-viz-bb5545d7513640c4b3222a816a40810c\"></div>\n",
       "<script type=\"text/javascript\">\n",
       "  (function(spec, embedOpt){\n",
       "    let outputDiv = document.currentScript.previousElementSibling;\n",
       "    if (outputDiv.id !== \"altair-viz-bb5545d7513640c4b3222a816a40810c\") {\n",
       "      outputDiv = document.getElementById(\"altair-viz-bb5545d7513640c4b3222a816a40810c\");\n",
       "    }\n",
       "    const paths = {\n",
       "      \"vega\": \"https://cdn.jsdelivr.net/npm//vega@5?noext\",\n",
       "      \"vega-lib\": \"https://cdn.jsdelivr.net/npm//vega-lib?noext\",\n",
       "      \"vega-lite\": \"https://cdn.jsdelivr.net/npm//vega-lite@4.8.1?noext\",\n",
       "      \"vega-embed\": \"https://cdn.jsdelivr.net/npm//vega-embed@6?noext\",\n",
       "    };\n",
       "\n",
       "    function loadScript(lib) {\n",
       "      return new Promise(function(resolve, reject) {\n",
       "        var s = document.createElement('script');\n",
       "        s.src = paths[lib];\n",
       "        s.async = true;\n",
       "        s.onload = () => resolve(paths[lib]);\n",
       "        s.onerror = () => reject(`Error loading script: ${paths[lib]}`);\n",
       "        document.getElementsByTagName(\"head\")[0].appendChild(s);\n",
       "      });\n",
       "    }\n",
       "\n",
       "    function showError(err) {\n",
       "      outputDiv.innerHTML = `<div class=\"error\" style=\"color:red;\">${err}</div>`;\n",
       "      throw err;\n",
       "    }\n",
       "\n",
       "    function displayChart(vegaEmbed) {\n",
       "      vegaEmbed(outputDiv, spec, embedOpt)\n",
       "        .catch(err => showError(`Javascript Error: ${err.message}<br>This usually means there's a typo in your chart specification. See the javascript console for the full traceback.`));\n",
       "    }\n",
       "\n",
       "    if(typeof define === \"function\" && define.amd) {\n",
       "      requirejs.config({paths});\n",
       "      require([\"vega-embed\"], displayChart, err => showError(`Error loading script: ${err.message}`));\n",
       "    } else if (typeof vegaEmbed === \"function\") {\n",
       "      displayChart(vegaEmbed);\n",
       "    } else {\n",
       "      loadScript(\"vega\")\n",
       "        .then(() => loadScript(\"vega-lite\"))\n",
       "        .then(() => loadScript(\"vega-embed\"))\n",
       "        .catch(showError)\n",
       "        .then(() => displayChart(vegaEmbed));\n",
       "    }\n",
       "  })({\"config\": {\"view\": {\"continuousWidth\": 400, \"continuousHeight\": 300}}, \"layer\": [{\"data\": {\"name\": \"data-b681396fc2acb948f849825c4acd2a08\"}, \"mark\": \"point\", \"encoding\": {\"x\": {\"type\": \"quantitative\", \"field\": \"sample_means\", \"scale\": {\"zero\": false}, \"title\": \"Sample mean quantile\"}, \"y\": {\"type\": \"quantitative\", \"field\": \"quantiles\", \"scale\": {\"zero\": false}, \"title\": \"Normal quantile\"}}}, {\"data\": {\"name\": \"data-a16cf92138e8443181f60dd65480d8d6\"}, \"mark\": {\"type\": \"line\", \"color\": \"red\"}, \"encoding\": {\"x\": {\"type\": \"quantitative\", \"field\": \"x\"}, \"y\": {\"type\": \"quantitative\", \"field\": \"y\"}}}], \"$schema\": \"https://vega.github.io/schema/vega-lite/v4.8.1.json\", \"datasets\": {\"data-b681396fc2acb948f849825c4acd2a08\": [{\"sample_means\": 4.07855345394878, \"quantiles\": 3.9074378904334983}, {\"sample_means\": 4.088472570441657, \"quantiles\": 4.0285125745668395}, {\"sample_means\": 4.129860156794015, \"quantiles\": 4.089306816140775}, {\"sample_means\": 4.159832554621273, \"quantiles\": 4.131226196812145}, {\"sample_means\": 4.198818508178597, \"quantiles\": 4.16362769039822}, {\"sample_means\": 4.2110191100804295, \"quantiles\": 4.190232671078349}, {\"sample_means\": 4.231476995553029, \"quantiles\": 4.212915280779262}, {\"sample_means\": 4.238970437300761, \"quantiles\": 4.232757189111141}, {\"sample_means\": 4.266541104105797, \"quantiles\": 4.250441465790852}, {\"sample_means\": 4.31693364198951, \"quantiles\": 4.266428073666739}, {\"sample_means\": 4.3266557858114325, \"quantiles\": 4.281042056391843}, {\"sample_means\": 4.33064629951143, \"quantiles\": 4.29452192962303}, {\"sample_means\": 4.354400180005017, \"quantiles\": 4.307048087825161}, {\"sample_means\": 4.357730838025935, \"quantiles\": 4.31876039640342}, {\"sample_means\": 4.373581023323995, \"quantiles\": 4.329769571432056}, {\"sample_means\": 4.378708551960748, \"quantiles\": 4.340164812050592}, {\"sample_means\": 4.378777513018834, \"quantiles\": 4.350019078390521}, {\"sample_means\": 4.385746952368351, \"quantiles\": 4.359392838125469}, {\"sample_means\": 4.387399775847156, \"quantiles\": 4.3683367869505245}, {\"sample_means\": 4.3952054276110655, \"quantiles\": 4.376893863574251}, {\"sample_means\": 4.398895392472872, \"quantiles\": 4.3851007685264936}, {\"sample_means\": 4.410790386521848, \"quantiles\": 4.39298912692152}, {\"sample_means\": 4.411220609741017, \"quantiles\": 4.400586391129214}, {\"sample_means\": 4.416550702956225, \"quantiles\": 4.407916550377942}, {\"sample_means\": 4.420955851302357, \"quantiles\": 4.41500069495354}, {\"sample_means\": 4.421547245057339, \"quantiles\": 4.421857469445889}, {\"sample_means\": 4.431329352104995, \"quantiles\": 4.428503440313997}, {\"sample_means\": 4.440507444307961, \"quantiles\": 4.434953396557377}, {\"sample_means\": 4.451475243404392, \"quantiles\": 4.441220597634742}, {\"sample_means\": 4.459823305673929, \"quantiles\": 4.447316979394846}, {\"sample_means\": 4.467200466838526, \"quantiles\": 4.453253326300384}, {\"sample_means\": 4.474600161534371, \"quantiles\": 4.459039416376998}, {\"sample_means\": 4.47647915132706, \"quantiles\": 4.464684143928526}, {\"sample_means\": 4.4847011487734365, \"quantiles\": 4.470195624002706}, {\"sample_means\": 4.487116531830102, \"quantiles\": 4.475581281780869}, {\"sample_means\": 4.4922947521560594, \"quantiles\": 4.480847929438017}, {\"sample_means\": 4.495613246079979, \"quantiles\": 4.486001832530498}, {\"sample_means\": 4.501993149762299, \"quantiles\": 4.491048767583986}, {\"sample_means\": 4.50875437395175, \"quantiles\": 4.495994072250183}, {\"sample_means\": 4.510940504961247, \"quantiles\": 4.500842689158024}, {\"sample_means\": 4.517320041670382, \"quantiles\": 4.5055992043906805}, {\"sample_means\": 4.533422677124402, \"quantiles\": 4.510267881362602}, {\"sample_means\": 4.536651482218846, \"quantiles\": 4.514852690743496}, {\"sample_means\": 4.540122518892947, \"quantiles\": 4.519357336972134}, {\"sample_means\": 4.542565614758285, \"quantiles\": 4.5237852818176645}, {\"sample_means\": 4.546327340975784, \"quantiles\": 4.528139765375799}, {\"sample_means\": 4.546622640471449, \"quantiles\": 4.532423824829105}, {\"sample_means\": 4.546711406643802, \"quantiles\": 4.536640311252236}, {\"sample_means\": 4.55027476566609, \"quantiles\": 4.540791904702492}, {\"sample_means\": 4.55405641657668, \"quantiles\": 4.544881127802275}, {\"sample_means\": 4.557846052501447, \"quantiles\": 4.548910357991415}, {\"sample_means\": 4.563498787620541, \"quantiles\": 4.552881838603297}, {\"sample_means\": 4.563583636131721, \"quantiles\": 4.556797688898229}, {\"sample_means\": 4.5643523931879955, \"quantiles\": 4.560659913170154}, {\"sample_means\": 4.571677881177443, \"quantiles\": 4.564470409027941}, {\"sample_means\": 4.573939585595366, \"quantiles\": 4.568230974939771}, {\"sample_means\": 4.5784741422849455, \"quantiles\": 4.571943317118258}, {\"sample_means\": 4.5831855756453095, \"quantiles\": 4.575609055814519}, {\"sample_means\": 4.59337843198291, \"quantiles\": 4.579229731081292}, {\"sample_means\": 4.6000644955855305, \"quantiles\": 4.582806808058165}, {\"sample_means\": 4.600474474982177, \"quantiles\": 4.586341681825912}, {\"sample_means\": 4.603625399344816, \"quantiles\": 4.589835681871555}, {\"sample_means\": 4.604883480327417, \"quantiles\": 4.593290076201191}, {\"sample_means\": 4.609366934439877, \"quantiles\": 4.596706075133549}, {\"sample_means\": 4.610069097363133, \"quantiles\": 4.600084834803677}, {\"sample_means\": 4.613803016461484, \"quantiles\": 4.6034274604030525}, {\"sample_means\": 4.61542854177167, \"quantiles\": 4.60673500917966}, {\"sample_means\": 4.615839431395635, \"quantiles\": 4.610008493219149}, {\"sample_means\": 4.617606828569565, \"quantiles\": 4.613248882026049}, {\"sample_means\": 4.61941358576437, \"quantiles\": 4.61645710492212}, {\"sample_means\": 4.623343232225506, \"quantiles\": 4.6196340532772355}, {\"sample_means\": 4.628688091210576, \"quantiles\": 4.622780582586689}, {\"sample_means\": 4.642803539840846, \"quantiles\": 4.625897514407508}, {\"sample_means\": 4.648162206597966, \"quantiles\": 4.628985638165144}, {\"sample_means\": 4.649552838410334, \"quantiles\": 4.632045712840866}, {\"sample_means\": 4.6520696794214595, \"quantiles\": 4.63507846854922}, {\"sample_means\": 4.652258689052736, \"quantiles\": 4.638084608014093}, {\"sample_means\": 4.652997352953153, \"quantiles\": 4.641064807951123}, {\"sample_means\": 4.658642035056122, \"quantiles\": 4.644019720363531}, {\"sample_means\": 4.662518620868887, \"quantiles\": 4.646949973757847}, {\"sample_means\": 4.6629668278467, \"quantiles\": 4.649856174285401}, {\"sample_means\": 4.666034189220209, \"quantiles\": 4.652738906814999}, {\"sample_means\": 4.668380614159231, \"quantiles\": 4.655598735941722}, {\"sample_means\": 4.6692076359568135, \"quantiles\": 4.658436206936368}, {\"sample_means\": 4.671588048883206, \"quantiles\": 4.661251846639718}, {\"sample_means\": 4.671668559876544, \"quantiles\": 4.664046164305441}, {\"sample_means\": 4.673475768557914, \"quantiles\": 4.66681965239514}, {\"sample_means\": 4.681629276879984, \"quantiles\": 4.669572787328807}, {\"sample_means\": 4.683803104652494, \"quantiles\": 4.672306030193648}, {\"sample_means\": 4.686540694543747, \"quantiles\": 4.675019827414043}, {\"sample_means\": 4.689820487215596, \"quantiles\": 4.6777146113851735}, {\"sample_means\": 4.692289934508818, \"quantiles\": 4.680390801072691}, {\"sample_means\": 4.693452143594659, \"quantiles\": 4.683048802580564}, {\"sample_means\": 4.696907776693042, \"quantiles\": 4.685689009689157}, {\"sample_means\": 4.697836175585474, \"quantiles\": 4.688311804365373}, {\"sample_means\": 4.705952585586213, \"quantiles\": 4.690917557246616}, {\"sample_means\": 4.707088437571653, \"quantiles\": 4.693506628100157}, {\"sample_means\": 4.709314974647092, \"quantiles\": 4.6960793662594185}, {\"sample_means\": 4.709871545457149, \"quantiles\": 4.698636111038546}, {\"sample_means\": 4.710219531597971, \"quantiles\": 4.701177192126562}, {\"sample_means\": 4.710841470156764, \"quantiles\": 4.703702929962316}, {\"sample_means\": 4.711175999055757, \"quantiles\": 4.70621363609133}, {\"sample_means\": 4.711996143020767, \"quantiles\": 4.708709613505602}, {\"sample_means\": 4.717639064599533, \"quantiles\": 4.711191156967332}, {\"sample_means\": 4.718842923798184, \"quantiles\": 4.713658553317482}, {\"sample_means\": 4.7338728477443075, \"quantiles\": 4.7161120817700235}, {\"sample_means\": 4.737231508678873, \"quantiles\": 4.718552014192659}, {\"sample_means\": 4.737501796827263, \"quantiles\": 4.720978615374777}, {\"sample_means\": 4.740950777373277, \"quantiles\": 4.723392143283312}, {\"sample_means\": 4.74178837050024, \"quantiles\": 4.725792849307199}, {\"sample_means\": 4.7434071347683195, \"quantiles\": 4.728180978490986}, {\"sample_means\": 4.746782688461642, \"quantiles\": 4.730556769758226}, {\"sample_means\": 4.750603221229619, \"quantiles\": 4.732920456125149}, {\"sample_means\": 4.75138774598076, \"quantiles\": 4.735272264905146}, {\"sample_means\": 4.756635670093231, \"quantiles\": 4.737612417904525}, {\"sample_means\": 4.756785642789651, \"quantiles\": 4.739941131609988}, {\"sample_means\": 4.760241272418247, \"quantiles\": 4.742258617368254}, {\"sample_means\": 4.760507616556761, \"quantiles\": 4.744565081558219}, {\"sample_means\": 4.760636090287168, \"quantiles\": 4.746860725756031}, {\"sample_means\": 4.760892616689602, \"quantiles\": 4.749145746893416}, {\"sample_means\": 4.761015847895622, \"quantiles\": 4.751420337409606}, {\"sample_means\": 4.762944841320015, \"quantiles\": 4.753684685397165}, {\"sample_means\": 4.763225259012375, \"quantiles\": 4.755938974742021}, {\"sample_means\": 4.765802474218911, \"quantiles\": 4.758183385257961}, {\"sample_means\": 4.7676348295910245, \"quantiles\": 4.760418092815877}, {\"sample_means\": 4.769958079658818, \"quantiles\": 4.762643269467992}, {\"sample_means\": 4.770620028592097, \"quantiles\": 4.764859083567301}, {\"sample_means\": 4.772362386307086, \"quantiles\": 4.767065699882472}, {\"sample_means\": 4.7732306638549, \"quantiles\": 4.769263279708377}, {\"sample_means\": 4.777298202859544, \"quantiles\": 4.771451980972493}, {\"sample_means\": 4.777353369544504, \"quantiles\": 4.7736319583373295}, {\"sample_means\": 4.782966783788002, \"quantiles\": 4.775803363299072}, {\"sample_means\": 4.785366755599728, \"quantiles\": 4.777966344282629}, {\"sample_means\": 4.78723476148084, \"quantiles\": 4.780121046733197}, {\"sample_means\": 4.788127908778029, \"quantiles\": 4.782267613204553}, {\"sample_means\": 4.788942105674861, \"quantiles\": 4.7844061834441645}, {\"sample_means\": 4.790126602262211, \"quantiles\": 4.786536894475296}, {\"sample_means\": 4.793152039564482, \"quantiles\": 4.788659880676219}, {\"sample_means\": 4.796241606734108, \"quantiles\": 4.790775273856649}, {\"sample_means\": 4.796437199796375, \"quantiles\": 4.792883203331545}, {\"sample_means\": 4.798402467027111, \"quantiles\": 4.794983795992361}, {\"sample_means\": 4.7994195529963735, \"quantiles\": 4.797077176375871}, {\"sample_means\": 4.799676061965277, \"quantiles\": 4.799163466730663}, {\"sample_means\": 4.80394671201731, \"quantiles\": 4.8012427870813985}, {\"sample_means\": 4.805717212996086, \"quantiles\": 4.803315255290928}, {\"sample_means\": 4.806465271958161, \"quantiles\": 4.8053809871203566}, {\"sample_means\": 4.806528294783418, \"quantiles\": 4.807440096287129}, {\"sample_means\": 4.807211850181224, \"quantiles\": 4.809492694521234}, {\"sample_means\": 4.807641439296347, \"quantiles\": 4.8115388916195805}, {\"sample_means\": 4.8108336433799055, \"quantiles\": 4.813578795498638}, {\"sample_means\": 4.811274992783193, \"quantiles\": 4.815612512245394}, {\"sample_means\": 4.816732005381128, \"quantiles\": 4.81764014616671}, {\"sample_means\": 4.817151853345751, \"quantiles\": 4.819661799837121}, {\"sample_means\": 4.817165802441119, \"quantiles\": 4.8216775741451565}, {\"sample_means\": 4.819314592418468, \"quantiles\": 4.823687568338226}, {\"sample_means\": 4.821101487319444, \"quantiles\": 4.825691880066132}, {\"sample_means\": 4.82415824274849, \"quantiles\": 4.827690605423262}, {\"sample_means\": 4.824427178532407, \"quantiles\": 4.829683838989503}, {\"sample_means\": 4.826234598268826, \"quantiles\": 4.831671673869937}, {\"sample_means\": 4.828792063683949, \"quantiles\": 4.833654201733354}, {\"sample_means\": 4.835287753395456, \"quantiles\": 4.835631512849632}, {\"sample_means\": 4.835522752286433, \"quantiles\": 4.837603696126029}, {\"sample_means\": 4.835976218748644, \"quantiles\": 4.839570839142409}, {\"sample_means\": 4.83719690416419, \"quantiles\": 4.841533028185469}, {\"sample_means\": 4.837992460671841, \"quantiles\": 4.843490348281982}, {\"sample_means\": 4.838233884270279, \"quantiles\": 4.845442883231099}, {\"sample_means\": 4.8402097285651795, \"quantiles\": 4.847390715635748}, {\"sample_means\": 4.841827661112509, \"quantiles\": 4.849333926933147}, {\"sample_means\": 4.844661784242679, \"quantiles\": 4.851272597424491}, {\"sample_means\": 4.845498249306291, \"quantiles\": 4.85320680630381}, {\"sample_means\": 4.848724663444081, \"quantiles\": 4.855136631686047}, {\"sample_means\": 4.848774160535895, \"quantiles\": 4.857062150634389}, {\"sample_means\": 4.84910712642544, \"quantiles\": 4.858983439186849}, {\"sample_means\": 4.854869914941762, \"quantiles\": 4.86090057238216}, {\"sample_means\": 4.855264366963304, \"quantiles\": 4.862813624284983}, {\"sample_means\": 4.857136782574292, \"quantiles\": 4.864722668010452}, {\"sample_means\": 4.860154952537377, \"quantiles\": 4.866627775748098}, {\"sample_means\": 4.860389792767237, \"quantiles\": 4.868529018785152}, {\"sample_means\": 4.86190198124101, \"quantiles\": 4.870426467529256}, {\"sample_means\": 4.865636257606657, \"quantiles\": 4.872320191530613}, {\"sample_means\": 4.86967582942948, \"quantiles\": 4.874210259503574}, {\"sample_means\": 4.870520804479013, \"quantiles\": 4.876096739347701}, {\"sample_means\": 4.872172778064464, \"quantiles\": 4.877979698168309}, {\"sample_means\": 4.872870445625571, \"quantiles\": 4.879859202296521}, {\"sample_means\": 4.879367755400511, \"quantiles\": 4.881735317308828}, {\"sample_means\": 4.880665003075209, \"quantiles\": 4.883608108046202}, {\"sample_means\": 4.882617558080082, \"quantiles\": 4.885477638632744}, {\"sample_means\": 4.887118714269378, \"quantiles\": 4.887343972493911}, {\"sample_means\": 4.887238063251847, \"quantiles\": 4.889207172374319}, {\"sample_means\": 4.893427632652115, \"quantiles\": 4.891067300355139}, {\"sample_means\": 4.895439802289807, \"quantiles\": 4.892924417871107}, {\"sample_means\": 4.895889490708434, \"quantiles\": 4.894778585727152}, {\"sample_means\": 4.896671215409078, \"quantiles\": 4.896629864114657}, {\"sample_means\": 4.896713838483453, \"quantiles\": 4.898478312627372}, {\"sample_means\": 4.897908492604533, \"quantiles\": 4.900323990276978}, {\"sample_means\": 4.898324406774093, \"quantiles\": 4.902166955508328}, {\"sample_means\": 4.899553453708577, \"quantiles\": 4.904007266214362}, {\"sample_means\": 4.900026590868774, \"quantiles\": 4.905844979750718}, {\"sample_means\": 4.901097654007618, \"quantiles\": 4.907680152950043}, {\"sample_means\": 4.903653617958096, \"quantiles\": 4.909512842136012}, {\"sample_means\": 4.903718160455141, \"quantiles\": 4.911343103137077}, {\"sample_means\": 4.904643173778382, \"quantiles\": 4.913170991299937}, {\"sample_means\": 4.905515803780993, \"quantiles\": 4.914996561502753}, {\"sample_means\": 4.907501705575458, \"quantiles\": 4.916819868168111}, {\"sample_means\": 4.908372908313776, \"quantiles\": 4.918640965275739}, {\"sample_means\": 4.9146145669388215, \"quantiles\": 4.9204599063749965}, {\"sample_means\": 4.917596650012648, \"quantiles\": 4.9222767445971245}, {\"sample_means\": 4.918469488806834, \"quantiles\": 4.9240915326672905}, {\"sample_means\": 4.919235933019276, \"quantiles\": 4.925904322916414}, {\"sample_means\": 4.922459716381249, \"quantiles\": 4.927715167292788}, {\"sample_means\": 4.923960133383112, \"quantiles\": 4.929524117373505}, {\"sample_means\": 4.924421635138934, \"quantiles\": 4.931331224375699}, {\"sample_means\": 4.9255413501547425, \"quantiles\": 4.93313653916759}, {\"sample_means\": 4.9265714856833025, \"quantiles\": 4.934940112279367}, {\"sample_means\": 4.9278307423802366, \"quantiles\": 4.93674199391389}, {\"sample_means\": 4.929620150748071, \"quantiles\": 4.938542233957235}, {\"sample_means\": 4.92996491668365, \"quantiles\": 4.940340881989074}, {\"sample_means\": 4.9304604986992695, \"quantiles\": 4.94213798729291}, {\"sample_means\": 4.9313496828955685, \"quantiles\": 4.943933598866163}, {\"sample_means\": 4.931715878518023, \"quantiles\": 4.945727765430113}, {\"sample_means\": 4.931942831631475, \"quantiles\": 4.947520535439707}, {\"sample_means\": 4.933437970208585, \"quantiles\": 4.9493119570932445}, {\"sample_means\": 4.937007178596044, \"quantiles\": 4.951102078341928}, {\"sample_means\": 4.938044348495691, \"quantiles\": 4.952890946899301}, {\"sample_means\": 4.938540885741954, \"quantiles\": 4.954678610250569}, {\"sample_means\": 4.938813859192577, \"quantiles\": 4.956465115661806}, {\"sample_means\": 4.9411736468250975, \"quantiles\": 4.958250510189068}, {\"sample_means\": 4.943031471316735, \"quantiles\": 4.960034840687398}, {\"sample_means\": 4.945151182039632, \"quantiles\": 4.961818153819733}, {\"sample_means\": 4.9456041963328845, \"quantiles\": 4.963600496065727}, {\"sample_means\": 4.946930919176772, \"quantiles\": 4.965381913730485}, {\"sample_means\": 4.9479202844719685, \"quantiles\": 4.967162452953215}, {\"sample_means\": 4.948461299082494, \"quantiles\": 4.968942159715798}, {\"sample_means\": 4.949204794071901, \"quantiles\": 4.970721079851293}, {\"sample_means\": 4.950440035079423, \"quantiles\": 4.972499259052363}, {\"sample_means\": 4.951628818546319, \"quantiles\": 4.974276742879644}, {\"sample_means\": 4.953797510329136, \"quantiles\": 4.9760535767700445}, {\"sample_means\": 4.953832474410962, \"quantiles\": 4.977829806044997}, {\"sample_means\": 4.95467155897467, \"quantiles\": 4.979605475918649}, {\"sample_means\": 4.956158244098422, \"quantiles\": 4.981380631506002}, {\"sample_means\": 4.956683831986606, \"quantiles\": 4.983155317831018}, {\"sample_means\": 4.957021745957501, \"quantiles\": 4.984929579834669}, {\"sample_means\": 4.960780826038129, \"quantiles\": 4.986703462382955}, {\"sample_means\": 4.965112917272665, \"quantiles\": 4.988477010274893}, {\"sample_means\": 4.965707702675057, \"quantiles\": 4.990250268250462}, {\"sample_means\": 4.965811309602364, \"quantiles\": 4.992023280998534}, {\"sample_means\": 4.966127243878632, \"quantiles\": 4.993796093164774}, {\"sample_means\": 4.971312638488236, \"quantiles\": 4.995568749359525}, {\"sample_means\": 4.971370763500008, \"quantiles\": 4.99734129416567}, {\"sample_means\": 4.973256297080946, \"quantiles\": 4.99911377214649}, {\"sample_means\": 4.977040703110154, \"quantiles\": 5.00088622785351}, {\"sample_means\": 4.9773535865068945, \"quantiles\": 5.00265870583433}, {\"sample_means\": 4.979255799604885, \"quantiles\": 5.004431250640475}, {\"sample_means\": 4.980965015916696, \"quantiles\": 5.006203906835226}, {\"sample_means\": 4.988885414843012, \"quantiles\": 5.007976719001466}, {\"sample_means\": 4.989760501481984, \"quantiles\": 5.009749731749538}, {\"sample_means\": 4.989994913223082, \"quantiles\": 5.011522989725107}, {\"sample_means\": 4.991265299228073, \"quantiles\": 5.013296537617045}, {\"sample_means\": 4.9931541419365075, \"quantiles\": 5.015070420165331}, {\"sample_means\": 4.9984051363196, \"quantiles\": 5.016844682168982}, {\"sample_means\": 4.998517467885668, \"quantiles\": 5.018619368493998}, {\"sample_means\": 4.998840880594737, \"quantiles\": 5.020394524081351}, {\"sample_means\": 5.000309800067892, \"quantiles\": 5.022170193955003}, {\"sample_means\": 5.002480934977357, \"quantiles\": 5.0239464232299555}, {\"sample_means\": 5.0033636201351515, \"quantiles\": 5.025723257120356}, {\"sample_means\": 5.003629909875516, \"quantiles\": 5.027500740947637}, {\"sample_means\": 5.004397851488133, \"quantiles\": 5.029278920148707}, {\"sample_means\": 5.0053618486989055, \"quantiles\": 5.031057840284202}, {\"sample_means\": 5.00797503664149, \"quantiles\": 5.032837547046785}, {\"sample_means\": 5.009219264766592, \"quantiles\": 5.034618086269515}, {\"sample_means\": 5.00930293173491, \"quantiles\": 5.036399503934273}, {\"sample_means\": 5.014103899413392, \"quantiles\": 5.038181846180267}, {\"sample_means\": 5.015327127644059, \"quantiles\": 5.039965159312602}, {\"sample_means\": 5.01564944244585, \"quantiles\": 5.041749489810932}, {\"sample_means\": 5.016312805432239, \"quantiles\": 5.043534884338194}, {\"sample_means\": 5.016671788040088, \"quantiles\": 5.045321389749431}, {\"sample_means\": 5.018227334924351, \"quantiles\": 5.047109053100699}, {\"sample_means\": 5.019150662525234, \"quantiles\": 5.048897921658072}, {\"sample_means\": 5.019181704906421, \"quantiles\": 5.0506880429067555}, {\"sample_means\": 5.020573313132915, \"quantiles\": 5.052479464560293}, {\"sample_means\": 5.0218595050279395, \"quantiles\": 5.054272234569887}, {\"sample_means\": 5.023147386760496, \"quantiles\": 5.056066401133837}, {\"sample_means\": 5.024920240798114, \"quantiles\": 5.05786201270709}, {\"sample_means\": 5.026018388269369, \"quantiles\": 5.059659118010926}, {\"sample_means\": 5.026821779476637, \"quantiles\": 5.061457766042765}, {\"sample_means\": 5.027184045975361, \"quantiles\": 5.06325800608611}, {\"sample_means\": 5.027966253135125, \"quantiles\": 5.065059887720633}, {\"sample_means\": 5.029191089215652, \"quantiles\": 5.06686346083241}, {\"sample_means\": 5.030775891004711, \"quantiles\": 5.068668775624301}, {\"sample_means\": 5.0343302855517535, \"quantiles\": 5.070475882626495}, {\"sample_means\": 5.034718612634296, \"quantiles\": 5.072284832707212}, {\"sample_means\": 5.035345220095447, \"quantiles\": 5.074095677083586}, {\"sample_means\": 5.036364781786648, \"quantiles\": 5.0759084673327095}, {\"sample_means\": 5.036494856256644, \"quantiles\": 5.0777232554028755}, {\"sample_means\": 5.038421747503949, \"quantiles\": 5.0795400936250035}, {\"sample_means\": 5.039644268718086, \"quantiles\": 5.081359034724261}, {\"sample_means\": 5.040142204646853, \"quantiles\": 5.083180131831889}, {\"sample_means\": 5.042192312608862, \"quantiles\": 5.085003438497247}, {\"sample_means\": 5.042911772530973, \"quantiles\": 5.086829008700063}, {\"sample_means\": 5.0448786548325755, \"quantiles\": 5.088656896862923}, {\"sample_means\": 5.051827174854303, \"quantiles\": 5.090487157863988}, {\"sample_means\": 5.052389051701367, \"quantiles\": 5.092319847049957}, {\"sample_means\": 5.054580071882876, \"quantiles\": 5.094155020249282}, {\"sample_means\": 5.055199227424395, \"quantiles\": 5.095992733785638}, {\"sample_means\": 5.056004094577622, \"quantiles\": 5.097833044491672}, {\"sample_means\": 5.057882502976772, \"quantiles\": 5.099676009723022}, {\"sample_means\": 5.062838773250957, \"quantiles\": 5.101521687372628}, {\"sample_means\": 5.062924064431331, \"quantiles\": 5.103370135885343}, {\"sample_means\": 5.063455789751979, \"quantiles\": 5.105221414272848}, {\"sample_means\": 5.064632942284673, \"quantiles\": 5.107075582128893}, {\"sample_means\": 5.066151949250776, \"quantiles\": 5.108932699644861}, {\"sample_means\": 5.066524715014267, \"quantiles\": 5.110792827625681}, {\"sample_means\": 5.07221499199777, \"quantiles\": 5.112656027506089}, {\"sample_means\": 5.072755902632317, \"quantiles\": 5.114522361367256}, {\"sample_means\": 5.072761668599009, \"quantiles\": 5.116391891953798}, {\"sample_means\": 5.076663753514168, \"quantiles\": 5.118264682691172}, {\"sample_means\": 5.079121946103106, \"quantiles\": 5.120140797703479}, {\"sample_means\": 5.079338333964438, \"quantiles\": 5.122020301831691}, {\"sample_means\": 5.079354384410959, \"quantiles\": 5.123903260652299}, {\"sample_means\": 5.081862998379788, \"quantiles\": 5.125789740496426}, {\"sample_means\": 5.081916120780721, \"quantiles\": 5.127679808469387}, {\"sample_means\": 5.086144137209464, \"quantiles\": 5.129573532470744}, {\"sample_means\": 5.088136204207123, \"quantiles\": 5.131470981214848}, {\"sample_means\": 5.0898701333093035, \"quantiles\": 5.133372224251902}, {\"sample_means\": 5.093375626340991, \"quantiles\": 5.135277331989548}, {\"sample_means\": 5.093545215223329, \"quantiles\": 5.137186375715017}, {\"sample_means\": 5.095621980126242, \"quantiles\": 5.13909942761784}, {\"sample_means\": 5.098521524316149, \"quantiles\": 5.141016560813151}, {\"sample_means\": 5.099933226689867, \"quantiles\": 5.142937849365611}, {\"sample_means\": 5.100563741302226, \"quantiles\": 5.144863368313953}, {\"sample_means\": 5.100888310410632, \"quantiles\": 5.14679319369619}, {\"sample_means\": 5.102878293622994, \"quantiles\": 5.148727402575509}, {\"sample_means\": 5.104619913222645, \"quantiles\": 5.150666073066853}, {\"sample_means\": 5.105778903054606, \"quantiles\": 5.152609284364252}, {\"sample_means\": 5.105864956645555, \"quantiles\": 5.154557116768901}, {\"sample_means\": 5.106684282278305, \"quantiles\": 5.156509651718018}, {\"sample_means\": 5.1083930475294235, \"quantiles\": 5.158466971814531}, {\"sample_means\": 5.110021596811033, \"quantiles\": 5.160429160857591}, {\"sample_means\": 5.125268807519019, \"quantiles\": 5.162396303873971}, {\"sample_means\": 5.128946870681297, \"quantiles\": 5.164368487150368}, {\"sample_means\": 5.134179550507488, \"quantiles\": 5.166345798266647}, {\"sample_means\": 5.135863223101867, \"quantiles\": 5.168328326130064}, {\"sample_means\": 5.141378906449615, \"quantiles\": 5.170316161010497}, {\"sample_means\": 5.14246508926962, \"quantiles\": 5.172309394576739}, {\"sample_means\": 5.142548471602078, \"quantiles\": 5.174308119933868}, {\"sample_means\": 5.142582475067793, \"quantiles\": 5.176312431661775}, {\"sample_means\": 5.143925357571288, \"quantiles\": 5.1783224258548435}, {\"sample_means\": 5.144018335642568, \"quantiles\": 5.180338200162879}, {\"sample_means\": 5.146608952467701, \"quantiles\": 5.18235985383329}, {\"sample_means\": 5.149158066087624, \"quantiles\": 5.184387487754606}, {\"sample_means\": 5.150193384873335, \"quantiles\": 5.186421204501362}, {\"sample_means\": 5.150576144568199, \"quantiles\": 5.1884611083804195}, {\"sample_means\": 5.155822021251177, \"quantiles\": 5.190507305478766}, {\"sample_means\": 5.159284075198968, \"quantiles\": 5.192559903712871}, {\"sample_means\": 5.160538031584852, \"quantiles\": 5.1946190128796434}, {\"sample_means\": 5.1617994199637085, \"quantiles\": 5.196684744709072}, {\"sample_means\": 5.1624720655642795, \"quantiles\": 5.1987572129186015}, {\"sample_means\": 5.166786484440531, \"quantiles\": 5.200836533269337}, {\"sample_means\": 5.167254023997944, \"quantiles\": 5.202922823624129}, {\"sample_means\": 5.169496922352196, \"quantiles\": 5.205016204007639}, {\"sample_means\": 5.172001187351525, \"quantiles\": 5.207116796668455}, {\"sample_means\": 5.173240677400044, \"quantiles\": 5.209224726143351}, {\"sample_means\": 5.173816111813391, \"quantiles\": 5.211340119323781}, {\"sample_means\": 5.176800499243115, \"quantiles\": 5.213463105524704}, {\"sample_means\": 5.183641174414692, \"quantiles\": 5.2155938165558355}, {\"sample_means\": 5.185999548298144, \"quantiles\": 5.217732386795447}, {\"sample_means\": 5.186440857798377, \"quantiles\": 5.219878953266803}, {\"sample_means\": 5.186813197848567, \"quantiles\": 5.222033655717371}, {\"sample_means\": 5.19046811166897, \"quantiles\": 5.224196636700928}, {\"sample_means\": 5.190749221697729, \"quantiles\": 5.2263680416626705}, {\"sample_means\": 5.191568494776483, \"quantiles\": 5.228548019027507}, {\"sample_means\": 5.191597841270809, \"quantiles\": 5.230736720291623}, {\"sample_means\": 5.19498668596555, \"quantiles\": 5.232934300117528}, {\"sample_means\": 5.1964613612276755, \"quantiles\": 5.235140916432699}, {\"sample_means\": 5.197283553292832, \"quantiles\": 5.237356730532008}, {\"sample_means\": 5.2007555688895994, \"quantiles\": 5.239581907184123}, {\"sample_means\": 5.200763435534083, \"quantiles\": 5.241816614742039}, {\"sample_means\": 5.201842860751131, \"quantiles\": 5.244061025257979}, {\"sample_means\": 5.203660058493691, \"quantiles\": 5.246315314602835}, {\"sample_means\": 5.209304875336305, \"quantiles\": 5.248579662590394}, {\"sample_means\": 5.211864764177108, \"quantiles\": 5.250854253106584}, {\"sample_means\": 5.213965181709829, \"quantiles\": 5.253139274243969}, {\"sample_means\": 5.215051414138515, \"quantiles\": 5.255434918441781}, {\"sample_means\": 5.216887717927314, \"quantiles\": 5.257741382631746}, {\"sample_means\": 5.217561560786482, \"quantiles\": 5.260058868390012}, {\"sample_means\": 5.219734698777075, \"quantiles\": 5.262387582095475}, {\"sample_means\": 5.220514359585182, \"quantiles\": 5.264727735094854}, {\"sample_means\": 5.220731879672098, \"quantiles\": 5.267079543874851}, {\"sample_means\": 5.221735088050074, \"quantiles\": 5.269443230241774}, {\"sample_means\": 5.224022686266262, \"quantiles\": 5.271819021509014}, {\"sample_means\": 5.226564654070668, \"quantiles\": 5.274207150692801}, {\"sample_means\": 5.2279207848751295, \"quantiles\": 5.276607856716688}, {\"sample_means\": 5.23510906413584, \"quantiles\": 5.279021384625223}, {\"sample_means\": 5.236184328682336, \"quantiles\": 5.281447985807341}, {\"sample_means\": 5.247207359874844, \"quantiles\": 5.2838879182299765}, {\"sample_means\": 5.248288230545882, \"quantiles\": 5.286341446682518}, {\"sample_means\": 5.249028084535289, \"quantiles\": 5.288808843032668}, {\"sample_means\": 5.249172118275026, \"quantiles\": 5.291290386494398}, {\"sample_means\": 5.257964638883878, \"quantiles\": 5.29378636390867}, {\"sample_means\": 5.261614683517076, \"quantiles\": 5.296297070037684}, {\"sample_means\": 5.262564652123181, \"quantiles\": 5.298822807873438}, {\"sample_means\": 5.264768912613195, \"quantiles\": 5.301363888961454}, {\"sample_means\": 5.2679577931046815, \"quantiles\": 5.3039206337405815}, {\"sample_means\": 5.2708121359339, \"quantiles\": 5.306493371899843}, {\"sample_means\": 5.273242770036165, \"quantiles\": 5.309082442753384}, {\"sample_means\": 5.277705611268982, \"quantiles\": 5.311688195634627}, {\"sample_means\": 5.278013523755825, \"quantiles\": 5.314310990310843}, {\"sample_means\": 5.278443075489564, \"quantiles\": 5.316951197419436}, {\"sample_means\": 5.284779228780146, \"quantiles\": 5.319609198927309}, {\"sample_means\": 5.285214172659351, \"quantiles\": 5.3222853886148265}, {\"sample_means\": 5.286369939886936, \"quantiles\": 5.324980172585957}, {\"sample_means\": 5.290332365056617, \"quantiles\": 5.327693969806352}, {\"sample_means\": 5.298315095962969, \"quantiles\": 5.330427212671193}, {\"sample_means\": 5.2988118522207355, \"quantiles\": 5.33318034760486}, {\"sample_means\": 5.308701409226387, \"quantiles\": 5.335953835694559}, {\"sample_means\": 5.309052489836489, \"quantiles\": 5.338748153360282}, {\"sample_means\": 5.314030859161579, \"quantiles\": 5.341563793063633}, {\"sample_means\": 5.315511127306387, \"quantiles\": 5.344401264058278}, {\"sample_means\": 5.318243200615321, \"quantiles\": 5.347261093185001}, {\"sample_means\": 5.318345727179783, \"quantiles\": 5.350143825714599}, {\"sample_means\": 5.321295628089315, \"quantiles\": 5.353050026242153}, {\"sample_means\": 5.322283733618303, \"quantiles\": 5.355980279636469}, {\"sample_means\": 5.323111736194367, \"quantiles\": 5.358935192048877}, {\"sample_means\": 5.324686539535732, \"quantiles\": 5.361915391985907}, {\"sample_means\": 5.325211598207784, \"quantiles\": 5.36492153145078}, {\"sample_means\": 5.3256855486024515, \"quantiles\": 5.367954287159134}, {\"sample_means\": 5.327868232019182, \"quantiles\": 5.371014361834856}, {\"sample_means\": 5.330938112437426, \"quantiles\": 5.374102485592492}, {\"sample_means\": 5.336240513088595, \"quantiles\": 5.377219417413311}, {\"sample_means\": 5.337428692810208, \"quantiles\": 5.3803659467227645}, {\"sample_means\": 5.339820524197332, \"quantiles\": 5.38354289507788}, {\"sample_means\": 5.341981486734883, \"quantiles\": 5.386751117973951}, {\"sample_means\": 5.347209162024695, \"quantiles\": 5.389991506780851}, {\"sample_means\": 5.347413147843769, \"quantiles\": 5.39326499082034}, {\"sample_means\": 5.354709355218904, \"quantiles\": 5.3965725395969475}, {\"sample_means\": 5.354863299544924, \"quantiles\": 5.399915165196323}, {\"sample_means\": 5.357010468744356, \"quantiles\": 5.403293924866451}, {\"sample_means\": 5.359069596826962, \"quantiles\": 5.406709923798809}, {\"sample_means\": 5.3668422158439615, \"quantiles\": 5.410164318128445}, {\"sample_means\": 5.387833944106328, \"quantiles\": 5.413658318174088}, {\"sample_means\": 5.396212037980454, \"quantiles\": 5.417193191941835}, {\"sample_means\": 5.40041998596525, \"quantiles\": 5.420770268918708}, {\"sample_means\": 5.40053654190913, \"quantiles\": 5.424390944185481}, {\"sample_means\": 5.416955762525785, \"quantiles\": 5.428056682881742}, {\"sample_means\": 5.41862827330142, \"quantiles\": 5.431769025060229}, {\"sample_means\": 5.4188473439875295, \"quantiles\": 5.435529590972059}, {\"sample_means\": 5.426092292355507, \"quantiles\": 5.439340086829846}, {\"sample_means\": 5.427066133248332, \"quantiles\": 5.443202311101771}, {\"sample_means\": 5.441004064891057, \"quantiles\": 5.447118161396703}, {\"sample_means\": 5.444691217887255, \"quantiles\": 5.451089642008585}, {\"sample_means\": 5.453999756469759, \"quantiles\": 5.455118872197725}, {\"sample_means\": 5.457758674810652, \"quantiles\": 5.459208095297508}, {\"sample_means\": 5.458922374889077, \"quantiles\": 5.463359688747764}, {\"sample_means\": 5.4592655972215285, \"quantiles\": 5.467576175170895}, {\"sample_means\": 5.46190993114612, \"quantiles\": 5.471860234624201}, {\"sample_means\": 5.466482752238636, \"quantiles\": 5.4762147181823355}, {\"sample_means\": 5.472158409674532, \"quantiles\": 5.480642663027866}, {\"sample_means\": 5.473516906422893, \"quantiles\": 5.485147309256504}, {\"sample_means\": 5.474377543539422, \"quantiles\": 5.489732118637398}, {\"sample_means\": 5.48284556488094, \"quantiles\": 5.4944007956093195}, {\"sample_means\": 5.493587465931824, \"quantiles\": 5.499157310841976}, {\"sample_means\": 5.496908500213822, \"quantiles\": 5.504005927749817}, {\"sample_means\": 5.5020991763931875, \"quantiles\": 5.508951232416014}, {\"sample_means\": 5.50707960951665, \"quantiles\": 5.513998167469502}, {\"sample_means\": 5.508364875276204, \"quantiles\": 5.519152070561983}, {\"sample_means\": 5.518126665817386, \"quantiles\": 5.524418718219132}, {\"sample_means\": 5.518430892862332, \"quantiles\": 5.529804375997294}, {\"sample_means\": 5.522277338888025, \"quantiles\": 5.535315856071474}, {\"sample_means\": 5.525219558230511, \"quantiles\": 5.5409605836230025}, {\"sample_means\": 5.556007634157786, \"quantiles\": 5.546746673699616}, {\"sample_means\": 5.571706841229232, \"quantiles\": 5.552683020605155}, {\"sample_means\": 5.575400914461498, \"quantiles\": 5.558779402365258}, {\"sample_means\": 5.594825435237218, \"quantiles\": 5.565046603442623}, {\"sample_means\": 5.599000656952887, \"quantiles\": 5.571496559686004}, {\"sample_means\": 5.616329953229024, \"quantiles\": 5.578142530554111}, {\"sample_means\": 5.618138498637008, \"quantiles\": 5.58499930504646}, {\"sample_means\": 5.624605870937895, \"quantiles\": 5.592083449622059}, {\"sample_means\": 5.6303023557232335, \"quantiles\": 5.599413608870787}, {\"sample_means\": 5.6437618611638865, \"quantiles\": 5.6070108730784805}, {\"sample_means\": 5.65501914688502, \"quantiles\": 5.6148992314735064}, {\"sample_means\": 5.661127741680868, \"quantiles\": 5.623106136425749}, {\"sample_means\": 5.664195666810101, \"quantiles\": 5.6316632130494755}, {\"sample_means\": 5.667014368468757, \"quantiles\": 5.640607161874531}, {\"sample_means\": 5.671611511392834, \"quantiles\": 5.649980921609479}, {\"sample_means\": 5.695244936666347, \"quantiles\": 5.659835187949408}, {\"sample_means\": 5.709899738049266, \"quantiles\": 5.670230428567944}, {\"sample_means\": 5.753197770031822, \"quantiles\": 5.68123960359658}, {\"sample_means\": 5.759967299639909, \"quantiles\": 5.692951912174839}, {\"sample_means\": 5.762471886183605, \"quantiles\": 5.70547807037697}, {\"sample_means\": 5.76492243524456, \"quantiles\": 5.718957943608157}, {\"sample_means\": 5.856851070971662, \"quantiles\": 5.733571926333261}, {\"sample_means\": 5.873258043987309, \"quantiles\": 5.749558534209148}, {\"sample_means\": 5.948388095368247, \"quantiles\": 5.767242810888859}, {\"sample_means\": 5.951116935414384, \"quantiles\": 5.787084719220738}, {\"sample_means\": 5.968688155122976, \"quantiles\": 5.809767328921651}, {\"sample_means\": 5.9734545040040254, \"quantiles\": 5.83637230960178}, {\"sample_means\": 6.008095160504036, \"quantiles\": 5.868773803187855}, {\"sample_means\": 6.048815523544197, \"quantiles\": 5.910693183859225}, {\"sample_means\": 6.05875488662667, \"quantiles\": 5.9714874254331605}, {\"sample_means\": 6.374619929873563, \"quantiles\": 6.092562109566502}], \"data-a16cf92138e8443181f60dd65480d8d6\": [{\"x\": 3.97855345394878, \"y\": 3.97855345394878}, {\"x\": 6.474619929873563, \"y\": 6.474619929873563}]}}, {\"mode\": \"vega-lite\"});\n",
       "</script>"
      ],
      "text/plain": [
       "alt.LayerChart(...)"
      ]
     },
     "execution_count": 6,
     "metadata": {},
     "output_type": "execute_result"
    }
   ],
   "source": [
    "unit_mesh = [1 - (1 / len(sample_means)) * ix - (0.5 / len(sample_means)) for ix in range(0,len(sample_means))]\n",
    "quantile_vals = [stats.norm.isf(u, loc = 5, scale = clt_scale) for u in unit_mesh]\n",
    "sample_means.sort()\n",
    "quant_df = pd.DataFrame({\n",
    "    \"sample_means\": sample_means,\n",
    "    \"quantiles\": quantile_vals})\n",
    "\n",
    "ab_lims = [min(sample_means)-0.1, max(sample_means)+0.1]\n",
    "abline_df = pd.DataFrame({\"x\": ab_lims, \"y\": ab_lims})\n",
    "\n",
    "quant_points = (alt\n",
    "                   .Chart(quant_df)\n",
    "                   .mark_point()\n",
    "                   .encode(x =  alt.X('sample_means:Q',\n",
    "                                      scale=alt.Scale(zero=False),\n",
    "                                      title = \"Sample mean quantile\"),\n",
    "                           y = alt.Y('quantiles:Q',\n",
    "                                      scale=alt.Scale(zero=False),\n",
    "                                      title = \"Normal quantile\")))\n",
    "\n",
    "ab_line = (alt\n",
    "          .Chart(abline_df)\n",
    "          .mark_line(color = \"red\")\n",
    "          .encode(x = \"x\", y = \"y\"))\n",
    "\n",
    "quant_points + ab_line"
   ]
  },
  {
   "cell_type": "markdown",
   "metadata": {},
   "source": [
    "## Experimental results: flipping coins in series\n",
    "\n",
    "Professor Mittens asked 15 of his students to each take turns flipping a coin 30 times and recording how many heads they got. He has a sneaking suspicion that some of the students did not actually do this properly, that they just wrote down some garbage and went to lunch early. We will help Mittens work out whether the coin that was used was fair, i.e. has an equal chance of showing heads or tails.\n",
    "\n",
    "### Exercise 3 part I\n",
    "\n",
    "Read the data in `experiement1.csv` into a `DataFrame`. Use some of the commands you've seen in lectures to inspect the data, noting that it may not be in the optimal format for analysis."
   ]
  },
  {
   "cell_type": "code",
   "execution_count": 7,
   "metadata": {},
   "outputs": [],
   "source": [
    "exp1 = pd.read_csv(\"experiment1.csv\")"
   ]
  },
  {
   "cell_type": "markdown",
   "metadata": {},
   "source": [
    "### Exercise 3 part II\n",
    "\n",
    "Compute the point estimate and CI using the function you wrote above. Write a sentence explaining whether you think the coin is a _fair_ coin given the results you have just obtained."
   ]
  },
  {
   "cell_type": "code",
   "execution_count": 8,
   "metadata": {},
   "outputs": [
    {
     "name": "stdout",
     "output_type": "stream",
     "text": [
      "(0.49333333333333335, (0.44713979693549655, 0.5395268697311701))\n"
     ]
    }
   ],
   "source": [
    "head_counts = exp1.drop(columns=\"flip_number\").groupby(\"name\").sum()\n",
    "head_counts[\"name\"] = head_counts.index.copy()\n",
    "\n",
    "total_heads = int(head_counts[\"outcome\"].sum())\n",
    "num_people = int(head_counts[\"name\"].unique().size)\n",
    "num_flips = int(exp1[\"name\"].value_counts().unique())\n",
    "\n",
    "est_and_ci = wald_estimate_and_ci(num_success=total_heads, \n",
    "                                  num_trials=num_people * num_flips)\n",
    "\n",
    "print(est_and_ci)"
   ]
  },
  {
   "cell_type": "markdown",
   "metadata": {},
   "source": [
    "### Partial answer\n",
    "\n",
    "We estimate the probability of heads as 0.49 with a $95\\%$ CI of (0.45,0.54). We are not able to reject the null hypothesis that the coin is fair."
   ]
  },
  {
   "cell_type": "markdown",
   "metadata": {},
   "source": [
    "### Exercise 3 part III\n",
    "\n",
    "Generate a histogram of the number of heads from each student. As an extension, include the binomial distribution supported by your estimate that is most amenable to large value outcomes."
   ]
  },
  {
   "cell_type": "code",
   "execution_count": 9,
   "metadata": {},
   "outputs": [
    {
     "data": {
      "text/html": [
       "\n",
       "<div id=\"altair-viz-281da0d99ec144ce8fbfbf5b4c2bda78\"></div>\n",
       "<script type=\"text/javascript\">\n",
       "  (function(spec, embedOpt){\n",
       "    let outputDiv = document.currentScript.previousElementSibling;\n",
       "    if (outputDiv.id !== \"altair-viz-281da0d99ec144ce8fbfbf5b4c2bda78\") {\n",
       "      outputDiv = document.getElementById(\"altair-viz-281da0d99ec144ce8fbfbf5b4c2bda78\");\n",
       "    }\n",
       "    const paths = {\n",
       "      \"vega\": \"https://cdn.jsdelivr.net/npm//vega@5?noext\",\n",
       "      \"vega-lib\": \"https://cdn.jsdelivr.net/npm//vega-lib?noext\",\n",
       "      \"vega-lite\": \"https://cdn.jsdelivr.net/npm//vega-lite@4.8.1?noext\",\n",
       "      \"vega-embed\": \"https://cdn.jsdelivr.net/npm//vega-embed@6?noext\",\n",
       "    };\n",
       "\n",
       "    function loadScript(lib) {\n",
       "      return new Promise(function(resolve, reject) {\n",
       "        var s = document.createElement('script');\n",
       "        s.src = paths[lib];\n",
       "        s.async = true;\n",
       "        s.onload = () => resolve(paths[lib]);\n",
       "        s.onerror = () => reject(`Error loading script: ${paths[lib]}`);\n",
       "        document.getElementsByTagName(\"head\")[0].appendChild(s);\n",
       "      });\n",
       "    }\n",
       "\n",
       "    function showError(err) {\n",
       "      outputDiv.innerHTML = `<div class=\"error\" style=\"color:red;\">${err}</div>`;\n",
       "      throw err;\n",
       "    }\n",
       "\n",
       "    function displayChart(vegaEmbed) {\n",
       "      vegaEmbed(outputDiv, spec, embedOpt)\n",
       "        .catch(err => showError(`Javascript Error: ${err.message}<br>This usually means there's a typo in your chart specification. See the javascript console for the full traceback.`));\n",
       "    }\n",
       "\n",
       "    if(typeof define === \"function\" && define.amd) {\n",
       "      requirejs.config({paths});\n",
       "      require([\"vega-embed\"], displayChart, err => showError(`Error loading script: ${err.message}`));\n",
       "    } else if (typeof vegaEmbed === \"function\") {\n",
       "      displayChart(vegaEmbed);\n",
       "    } else {\n",
       "      loadScript(\"vega\")\n",
       "        .then(() => loadScript(\"vega-lite\"))\n",
       "        .then(() => loadScript(\"vega-embed\"))\n",
       "        .catch(showError)\n",
       "        .then(() => displayChart(vegaEmbed));\n",
       "    }\n",
       "  })({\"config\": {\"view\": {\"continuousWidth\": 400, \"continuousHeight\": 300}}, \"layer\": [{\"data\": {\"name\": \"data-3e36b5971c6b02f0d186c5079c3e0618\"}, \"mark\": \"bar\", \"encoding\": {\"x\": {\"type\": \"quantitative\", \"bin\": {\"step\": 1}, \"field\": \"outcome\", \"title\": \"Number of heads\"}, \"y\": {\"type\": \"quantitative\", \"aggregate\": \"count\", \"title\": \"Number of occurences\"}}}, {\"data\": {\"name\": \"data-cfdea387a9d3fe79a5e21938a28ab58a\"}, \"mark\": {\"type\": \"line\", \"color\": \"firebrick\"}, \"encoding\": {\"x\": {\"type\": \"quantitative\", \"field\": \"value\"}, \"y\": {\"type\": \"quantitative\", \"field\": \"prob\"}}}], \"$schema\": \"https://vega.github.io/schema/vega-lite/v4.8.1.json\", \"datasets\": {\"data-3e36b5971c6b02f0d186c5079c3e0618\": [{\"outcome\": 9, \"name\": 0}, {\"outcome\": 13, \"name\": 1}, {\"outcome\": 17, \"name\": 2}, {\"outcome\": 17, \"name\": 3}, {\"outcome\": 14, \"name\": 4}, {\"outcome\": 7, \"name\": 5}, {\"outcome\": 13, \"name\": 6}, {\"outcome\": 13, \"name\": 7}, {\"outcome\": 12, \"name\": 8}, {\"outcome\": 14, \"name\": 9}, {\"outcome\": 10, \"name\": 10}, {\"outcome\": 11, \"name\": 11}, {\"outcome\": 12, \"name\": 12}, {\"outcome\": 30, \"name\": 13}, {\"outcome\": 30, \"name\": 14}], \"data-cfdea387a9d3fe79a5e21938a28ab58a\": [{\"value\": 0, \"prob\": 1.1450546362065415e-09}, {\"value\": 1, \"prob\": 4.032583718814352e-08}, {\"value\": 2, \"prob\": 6.86415880832954e-07}, {\"value\": 3, \"prob\": 7.520730520430741e-06}, {\"value\": 4, \"prob\": 5.959361466732567e-05}, {\"value\": 5, \"prob\": 0.0003637801521431553}, {\"value\": 6, \"prob\": 0.0017793594398306492}, {\"value\": 7, \"prob\": 0.007161645447268646}, {\"value\": 8, \"prob\": 0.024170553384531716}, {\"value\": 9, \"prob\": 0.06935897927735199}, {\"value\": 10, \"prob\": 0.17098496195764634}, {\"value\": 11, \"prob\": 0.3649481401467542}, {\"value\": 12, \"prob\": 0.678327521359728}, {\"value\": 13, \"prob\": 1.1025658039492623}, {\"value\": 14, \"prob\": 1.571669888238224}, {\"value\": 15, \"prob\": 1.9680040339678633}, {\"value\": 16, \"prob\": 2.1658740047744147}, {\"value\": 17, \"prob\": 2.093862848605462}, {\"value\": 18, \"prob\": 1.7752315455567964}, {\"value\": 19, \"prob\": 1.316189978856755}, {\"value\": 20, \"prob\": 0.8498009211314287}, {\"value\": 21, \"prob\": 0.47504399317905865}, {\"value\": 22, \"prob\": 0.2281337753804567}, {\"value\": 23, \"prob\": 0.09315103115723739}, {\"value\": 24, \"prob\": 0.031894103059271685}, {\"value\": 25, \"prob\": 0.008985816861916563}, {\"value\": 26, \"prob\": 0.00202857069625205}, {\"value\": 27, \"prob\": 0.00035279490369601377}, {\"value\": 28, \"prob\": 4.437327204872156e-05}, {\"value\": 29, \"prob\": 3.592438816538233e-06}, {\"value\": 30, \"prob\": 1.4057369282106098e-07}]}}, {\"mode\": \"vega-lite\"});\n",
       "</script>"
      ],
      "text/plain": [
       "alt.LayerChart(...)"
      ]
     },
     "execution_count": 9,
     "metadata": {},
     "output_type": "execute_result"
    }
   ],
   "source": [
    "fig_1_a = (alt\n",
    "           .Chart(head_counts)\n",
    "           .mark_bar()\n",
    "           .encode(alt.X(\"outcome:Q\",\n",
    "                         bin = alt.BinParams(step = 1),\n",
    "                         title = \"Number of heads\"),\n",
    "                   y = alt.Y(\"count()\",\n",
    "                            title = \"Number of occurences\")))\n",
    "\n",
    "k_vals = range(0,31)\n",
    "k_probs = [num_people * stats.binom.pmf(k = k, n = num_flips, p = 0.540) for k in k_vals]\n",
    "binom_dist_df = pd.DataFrame({\"value\": k_vals,\n",
    "                              \"prob\": k_probs})\n",
    "\n",
    "fig_1_b = (alt\n",
    "           .Chart(binom_dist_df)\n",
    "           .mark_line(color= \"firebrick\")\n",
    "           .encode(x = \"value\", \n",
    "                   y = \"prob\"))\n",
    "\n",
    "\n",
    "fig_1_a + fig_1_b"
   ]
  },
  {
   "cell_type": "markdown",
   "metadata": {},
   "source": [
    "### Exercise 4 part I\n",
    "\n",
    "It looks like there might be a couple of strange points in this dataset as Mittens suspected. Using the upper bound on $p$ calculate the probability of someone getting all heads. Write a couple of sentences explaining whether you think it is reasonable to remove those data points."
   ]
  },
  {
   "cell_type": "code",
   "execution_count": 10,
   "metadata": {},
   "outputs": [
    {
     "data": {
      "text/plain": [
       "9.371579521404065e-09"
      ]
     },
     "execution_count": 10,
     "metadata": {},
     "output_type": "execute_result"
    }
   ],
   "source": [
    "stats.binom.pmf(k = 30, n = 30, p = 0.54)"
   ]
  },
  {
   "cell_type": "markdown",
   "metadata": {},
   "source": [
    "### Partial answer\n",
    "\n",
    "- Even allowing for a high estimate of the probability of heads it seems exceedingly probable that the 30 heads are due to data input errors, hence we removed them from the data set prior to further analysis."
   ]
  },
  {
   "cell_type": "markdown",
   "metadata": {},
   "source": [
    "### Exercise 4 part II\n",
    "\n",
    "Remove the outliers and repeat the process of plotting the data and estimating the parameters and CI. Once you have done this, plot the distribution of the estimated binomial distribution on top of the histogram. Write a couple of sentences explaining what you think about the coin now."
   ]
  },
  {
   "cell_type": "code",
   "execution_count": 11,
   "metadata": {},
   "outputs": [
    {
     "data": {
      "text/plain": [
       "(0.4153846153846154, (0.3664761437453554, 0.4642930870238754))"
      ]
     },
     "execution_count": 11,
     "metadata": {},
     "output_type": "execute_result"
    }
   ],
   "source": [
    "head_counts_clean = head_counts.loc[head_counts[\"outcome\"] < 30]\n",
    "\n",
    "total_heads_clean = int(head_counts_clean[\"outcome\"].sum())\n",
    "num_people_clean = int(head_counts_clean[\"name\"].unique().size)\n",
    "\n",
    "wald_estimate_and_ci(num_success=total_heads_clean, num_trials=num_people_clean * num_flips)"
   ]
  },
  {
   "cell_type": "code",
   "execution_count": 12,
   "metadata": {},
   "outputs": [
    {
     "data": {
      "text/html": [
       "\n",
       "<div id=\"altair-viz-e52ee0ceba2e4e56874a23b1e8851cce\"></div>\n",
       "<script type=\"text/javascript\">\n",
       "  (function(spec, embedOpt){\n",
       "    let outputDiv = document.currentScript.previousElementSibling;\n",
       "    if (outputDiv.id !== \"altair-viz-e52ee0ceba2e4e56874a23b1e8851cce\") {\n",
       "      outputDiv = document.getElementById(\"altair-viz-e52ee0ceba2e4e56874a23b1e8851cce\");\n",
       "    }\n",
       "    const paths = {\n",
       "      \"vega\": \"https://cdn.jsdelivr.net/npm//vega@5?noext\",\n",
       "      \"vega-lib\": \"https://cdn.jsdelivr.net/npm//vega-lib?noext\",\n",
       "      \"vega-lite\": \"https://cdn.jsdelivr.net/npm//vega-lite@4.8.1?noext\",\n",
       "      \"vega-embed\": \"https://cdn.jsdelivr.net/npm//vega-embed@6?noext\",\n",
       "    };\n",
       "\n",
       "    function loadScript(lib) {\n",
       "      return new Promise(function(resolve, reject) {\n",
       "        var s = document.createElement('script');\n",
       "        s.src = paths[lib];\n",
       "        s.async = true;\n",
       "        s.onload = () => resolve(paths[lib]);\n",
       "        s.onerror = () => reject(`Error loading script: ${paths[lib]}`);\n",
       "        document.getElementsByTagName(\"head\")[0].appendChild(s);\n",
       "      });\n",
       "    }\n",
       "\n",
       "    function showError(err) {\n",
       "      outputDiv.innerHTML = `<div class=\"error\" style=\"color:red;\">${err}</div>`;\n",
       "      throw err;\n",
       "    }\n",
       "\n",
       "    function displayChart(vegaEmbed) {\n",
       "      vegaEmbed(outputDiv, spec, embedOpt)\n",
       "        .catch(err => showError(`Javascript Error: ${err.message}<br>This usually means there's a typo in your chart specification. See the javascript console for the full traceback.`));\n",
       "    }\n",
       "\n",
       "    if(typeof define === \"function\" && define.amd) {\n",
       "      requirejs.config({paths});\n",
       "      require([\"vega-embed\"], displayChart, err => showError(`Error loading script: ${err.message}`));\n",
       "    } else if (typeof vegaEmbed === \"function\") {\n",
       "      displayChart(vegaEmbed);\n",
       "    } else {\n",
       "      loadScript(\"vega\")\n",
       "        .then(() => loadScript(\"vega-lite\"))\n",
       "        .then(() => loadScript(\"vega-embed\"))\n",
       "        .catch(showError)\n",
       "        .then(() => displayChart(vegaEmbed));\n",
       "    }\n",
       "  })({\"config\": {\"view\": {\"continuousWidth\": 400, \"continuousHeight\": 300}}, \"layer\": [{\"data\": {\"name\": \"data-651c4f148c5a2518b55f662c52a2ece8\"}, \"mark\": \"bar\", \"encoding\": {\"x\": {\"type\": \"quantitative\", \"bin\": {\"step\": 1}, \"field\": \"outcome\", \"title\": \"Number of heads\"}, \"y\": {\"type\": \"quantitative\", \"aggregate\": \"count\", \"title\": \"Number of occurences\"}}}, {\"data\": {\"name\": \"data-9fc575678913ae2cd8cec04951321779\"}, \"mark\": {\"type\": \"line\", \"color\": \"firebrick\"}, \"encoding\": {\"x\": {\"type\": \"quantitative\", \"field\": \"value\"}, \"y\": {\"type\": \"quantitative\", \"field\": \"prob\"}}}], \"$schema\": \"https://vega.github.io/schema/vega-lite/v4.8.1.json\", \"datasets\": {\"data-651c4f148c5a2518b55f662c52a2ece8\": [{\"outcome\": 9, \"name\": 0}, {\"outcome\": 13, \"name\": 1}, {\"outcome\": 17, \"name\": 2}, {\"outcome\": 17, \"name\": 3}, {\"outcome\": 14, \"name\": 4}, {\"outcome\": 7, \"name\": 5}, {\"outcome\": 13, \"name\": 6}, {\"outcome\": 13, \"name\": 7}, {\"outcome\": 12, \"name\": 8}, {\"outcome\": 14, \"name\": 9}, {\"outcome\": 10, \"name\": 10}, {\"outcome\": 11, \"name\": 11}, {\"outcome\": 12, \"name\": 12}], \"data-9fc575678913ae2cd8cec04951321779\": [{\"value\": 0, \"prob\": 1.3446812053531815e-06}, {\"value\": 1, \"prob\": 2.861757437033696e-05}, {\"value\": 2, \"prob\": 0.0002943696645700855}, {\"value\": 3, \"prob\": 0.0019490458702589434}, {\"value\": 4, \"prob\": 0.00933293118643215}, {\"value\": 5, \"prob\": 0.03442814615439438}, {\"value\": 6, \"prob\": 0.10176410722274656}, {\"value\": 7, \"prob\": 0.2475141655527599}, {\"value\": 8, \"prob\": 0.5048125449147636}, {\"value\": 9, \"prob\": 0.8753919344865728}, {\"value\": 10, \"prob\": 1.3041095229146151}, {\"value\": 11, \"prob\": 1.682068226913952}, {\"value\": 12, \"prob\": 1.889331619546509}, {\"value\": 13, \"prob\": 1.8557931884303078}, {\"value\": 14, \"prob\": 1.5986106159188909}, {\"value\": 15, \"prob\": 1.2096609105072862}, {\"value\": 16, \"prob\": 0.804502047853403}, {\"value\": 17, \"prob\": 0.47000069361772845}, {\"value\": 18, \"prob\": 0.24080282450784724}, {\"value\": 19, \"prob\": 0.10789006442186948}, {\"value\": 20, \"prob\": 0.0420955678705843}, {\"value\": 21, \"prob\": 0.014220318002680022}, {\"value\": 22, \"prob\": 0.004126875504274278}, {\"value\": 23, \"prob\": 0.0010183000129461565}, {\"value\": 24, \"prob\": 0.0002106952662114393}, {\"value\": 25, \"prob\": 3.587221968317836e-05}, {\"value\": 26, \"prob\": 4.893810377553899e-06}, {\"value\": 27, \"prob\": 5.143225847888285e-07}, {\"value\": 28, \"prob\": 3.909228437497448e-08}, {\"value\": 29, \"prob\": 1.912560921381039e-09}, {\"value\": 30, \"prob\": 4.522579956542049e-11}]}}, {\"mode\": \"vega-lite\"});\n",
       "</script>"
      ],
      "text/plain": [
       "alt.LayerChart(...)"
      ]
     },
     "execution_count": 12,
     "metadata": {},
     "output_type": "execute_result"
    }
   ],
   "source": [
    "k_vals = range(0,31)\n",
    "k_probs = [num_people_clean * stats.binom.pmf(k = k, n = num_flips, p = 0.415) for k in k_vals]\n",
    "binom_dist_df = pd.DataFrame({\"value\": k_vals,\n",
    "                              \"prob\": k_probs})\n",
    "\n",
    "fig_2_a = (alt\n",
    "           .Chart(head_counts_clean)\n",
    "           .mark_bar()\n",
    "           .encode(alt.X(\"outcome:Q\",\n",
    "                         bin = alt.BinParams(step = 1),\n",
    "                         title = \"Number of heads\"),\n",
    "                   y = alt.Y(\"count()\",\n",
    "                            title = \"Number of occurences\")))\n",
    "\n",
    "fig_2_b = (alt\n",
    "           .Chart(binom_dist_df)\n",
    "           .mark_line(color= \"firebrick\")\n",
    "           .encode(x = \"value\", y = \"prob\"))\n",
    "\n",
    "fig_2_a + fig_2_b"
   ]
  },
  {
   "cell_type": "markdown",
   "metadata": {},
   "source": [
    "### Partial answer\n",
    "\n",
    "- After removing two outliers, we estimate the probability of heads as $0.42$ with a $95\\%$ CI of $(0.37, 0.46)$.\n",
    "- Given the CI does not contain the value 0.5, we can reject the null hypothesis that the coin is fair."
   ]
  },
  {
   "cell_type": "markdown",
   "metadata": {},
   "source": [
    "## Experimental results: flipping coins in parallel\n",
    "\n",
    "After the success of his first experiment, Mittens was lauded as a statistical wizard. The royal mint has become interested and is providing additional funds to obtain an additional 49 coins and repeat the experiment to gather more data about the fascinating topic of coin bias. Now he gives each of 50 students a coin each and asks them to flip the coin 30 times and record the results. We will help Mittens work out whether the coins are fair.\n",
    "\n",
    "### Excercise 5 part I\n",
    "\n",
    "Do we need to change anything about how we analyse this data? If so, why, if not, why not? **Hint:** there are good arguments that can be given for each answer. Once you have answered one way, try to answer the other way. "
   ]
  },
  {
   "cell_type": "markdown",
   "metadata": {},
   "source": [
    "### Partial answer\n",
    "\n",
    "If you assume the coins have the same probability of heads it is fine. If you assume that the coins vary then you would need to adjust the model."
   ]
  },
  {
   "cell_type": "markdown",
   "metadata": {},
   "source": [
    "### Exercise 5 part II\n",
    "\n",
    "Using the data in `experiment2.csv` explore the data set using the methodology devised above and write a couple of sentences to explain what you found."
   ]
  },
  {
   "cell_type": "code",
   "execution_count": 13,
   "metadata": {},
   "outputs": [
    {
     "name": "stdout",
     "output_type": "stream",
     "text": [
      "(0.4013333333333333, (0.37652739859779666, 0.42613926806887))\n"
     ]
    }
   ],
   "source": [
    "exp2 = pd.read_csv(\"experiment2.csv\")\n",
    "\n",
    "head_counts = exp2.drop(columns=\"flip_number\").groupby(\"name\").sum()\n",
    "head_counts[\"name\"] = head_counts.index.copy()\n",
    "\n",
    "total_heads = int(head_counts[\"outcome\"].sum())\n",
    "num_people = int(head_counts[\"name\"].unique().size)\n",
    "num_flips = int(exp2[\"name\"].value_counts().unique())\n",
    "\n",
    "wald_estimate = wald_estimate_and_ci(num_success=total_heads, \n",
    "                                     num_trials=num_people * num_flips)\n",
    "\n",
    "print(wald_estimate)"
   ]
  },
  {
   "cell_type": "markdown",
   "metadata": {},
   "source": [
    "### Exercise 5 part III\n",
    "\n",
    "Visualise the number of heads each student got and compare the variance in this to what is predicted by theory. Revise your answer to part I of this exercise."
   ]
  },
  {
   "cell_type": "code",
   "execution_count": 14,
   "metadata": {},
   "outputs": [
    {
     "name": "stdout",
     "output_type": "stream",
     "text": [
      "18.69224489795919 7.2079466666666665\n"
     ]
    },
    {
     "data": {
      "text/html": [
       "\n",
       "<div id=\"altair-viz-078d7c30307d4bf98f9707a9c2992466\"></div>\n",
       "<script type=\"text/javascript\">\n",
       "  (function(spec, embedOpt){\n",
       "    let outputDiv = document.currentScript.previousElementSibling;\n",
       "    if (outputDiv.id !== \"altair-viz-078d7c30307d4bf98f9707a9c2992466\") {\n",
       "      outputDiv = document.getElementById(\"altair-viz-078d7c30307d4bf98f9707a9c2992466\");\n",
       "    }\n",
       "    const paths = {\n",
       "      \"vega\": \"https://cdn.jsdelivr.net/npm//vega@5?noext\",\n",
       "      \"vega-lib\": \"https://cdn.jsdelivr.net/npm//vega-lib?noext\",\n",
       "      \"vega-lite\": \"https://cdn.jsdelivr.net/npm//vega-lite@4.8.1?noext\",\n",
       "      \"vega-embed\": \"https://cdn.jsdelivr.net/npm//vega-embed@6?noext\",\n",
       "    };\n",
       "\n",
       "    function loadScript(lib) {\n",
       "      return new Promise(function(resolve, reject) {\n",
       "        var s = document.createElement('script');\n",
       "        s.src = paths[lib];\n",
       "        s.async = true;\n",
       "        s.onload = () => resolve(paths[lib]);\n",
       "        s.onerror = () => reject(`Error loading script: ${paths[lib]}`);\n",
       "        document.getElementsByTagName(\"head\")[0].appendChild(s);\n",
       "      });\n",
       "    }\n",
       "\n",
       "    function showError(err) {\n",
       "      outputDiv.innerHTML = `<div class=\"error\" style=\"color:red;\">${err}</div>`;\n",
       "      throw err;\n",
       "    }\n",
       "\n",
       "    function displayChart(vegaEmbed) {\n",
       "      vegaEmbed(outputDiv, spec, embedOpt)\n",
       "        .catch(err => showError(`Javascript Error: ${err.message}<br>This usually means there's a typo in your chart specification. See the javascript console for the full traceback.`));\n",
       "    }\n",
       "\n",
       "    if(typeof define === \"function\" && define.amd) {\n",
       "      requirejs.config({paths});\n",
       "      require([\"vega-embed\"], displayChart, err => showError(`Error loading script: ${err.message}`));\n",
       "    } else if (typeof vegaEmbed === \"function\") {\n",
       "      displayChart(vegaEmbed);\n",
       "    } else {\n",
       "      loadScript(\"vega\")\n",
       "        .then(() => loadScript(\"vega-lite\"))\n",
       "        .then(() => loadScript(\"vega-embed\"))\n",
       "        .catch(showError)\n",
       "        .then(() => displayChart(vegaEmbed));\n",
       "    }\n",
       "  })({\"config\": {\"view\": {\"continuousWidth\": 400, \"continuousHeight\": 300}}, \"data\": {\"name\": \"data-6848c08f6b43d814c683ff191c0a1025\"}, \"mark\": \"point\", \"encoding\": {\"x\": {\"type\": \"quantitative\", \"field\": \"name\"}, \"y\": {\"type\": \"quantitative\", \"field\": \"outcome\"}}, \"$schema\": \"https://vega.github.io/schema/vega-lite/v4.8.1.json\", \"datasets\": {\"data-6848c08f6b43d814c683ff191c0a1025\": [{\"outcome\": 7, \"name\": 0}, {\"outcome\": 7, \"name\": 1}, {\"outcome\": 4, \"name\": 2}, {\"outcome\": 7, \"name\": 3}, {\"outcome\": 4, \"name\": 4}, {\"outcome\": 4, \"name\": 5}, {\"outcome\": 10, \"name\": 6}, {\"outcome\": 7, \"name\": 7}, {\"outcome\": 11, \"name\": 8}, {\"outcome\": 3, \"name\": 9}, {\"outcome\": 12, \"name\": 10}, {\"outcome\": 10, \"name\": 11}, {\"outcome\": 12, \"name\": 12}, {\"outcome\": 12, \"name\": 13}, {\"outcome\": 9, \"name\": 14}, {\"outcome\": 14, \"name\": 15}, {\"outcome\": 9, \"name\": 16}, {\"outcome\": 6, \"name\": 17}, {\"outcome\": 9, \"name\": 18}, {\"outcome\": 10, \"name\": 19}, {\"outcome\": 13, \"name\": 20}, {\"outcome\": 15, \"name\": 21}, {\"outcome\": 10, \"name\": 22}, {\"outcome\": 15, \"name\": 23}, {\"outcome\": 12, \"name\": 24}, {\"outcome\": 13, \"name\": 25}, {\"outcome\": 15, \"name\": 26}, {\"outcome\": 15, \"name\": 27}, {\"outcome\": 8, \"name\": 28}, {\"outcome\": 9, \"name\": 29}, {\"outcome\": 13, \"name\": 30}, {\"outcome\": 11, \"name\": 31}, {\"outcome\": 13, \"name\": 32}, {\"outcome\": 13, \"name\": 33}, {\"outcome\": 19, \"name\": 34}, {\"outcome\": 16, \"name\": 35}, {\"outcome\": 20, \"name\": 36}, {\"outcome\": 16, \"name\": 37}, {\"outcome\": 17, \"name\": 38}, {\"outcome\": 11, \"name\": 39}, {\"outcome\": 17, \"name\": 40}, {\"outcome\": 11, \"name\": 41}, {\"outcome\": 16, \"name\": 42}, {\"outcome\": 15, \"name\": 43}, {\"outcome\": 15, \"name\": 44}, {\"outcome\": 18, \"name\": 45}, {\"outcome\": 15, \"name\": 46}, {\"outcome\": 16, \"name\": 47}, {\"outcome\": 18, \"name\": 48}, {\"outcome\": 20, \"name\": 49}]}}, {\"mode\": \"vega-lite\"});\n",
       "</script>"
      ],
      "text/plain": [
       "alt.Chart(...)"
      ]
     },
     "execution_count": 14,
     "metadata": {},
     "output_type": "execute_result"
    }
   ],
   "source": [
    "emp_var = head_counts[\"outcome\"].var()\n",
    "thry_var = stats.binom.var(n = num_flips, p = wald_estimate[0])\n",
    "\n",
    "print(emp_var,thry_var)\n",
    "\n",
    "alt.Chart(head_counts).mark_point().encode(\n",
    "    x = \"name\",\n",
    "    y = \"outcome\"\n",
    ")"
   ]
  },
  {
   "cell_type": "markdown",
   "metadata": {},
   "source": [
    "### Partial answer\n",
    "\n",
    "- There appears to be systematic differences in the number of heads obtained.\n",
    "- The variance is too great.\n",
    "- It seems that we should not consider all the coins as identical.\n",
    "\n"
   ]
  },
  {
   "cell_type": "markdown",
   "metadata": {},
   "source": [
    "### Exercise 5 part IV (Extension)\n",
    "\n",
    "Consider how you might analyse this data. Over the following weeks you will learn a couple of approaches."
   ]
  },
  {
   "cell_type": "markdown",
   "metadata": {},
   "source": [
    "### Partial answer\n",
    "\n",
    "One could use a negative binomial distribution if one were interested in an empirical analysis or a hierarchical model if one were interested in a structural analysis."
   ]
  },
  {
   "cell_type": "markdown",
   "metadata": {},
   "source": [
    "## Epilogue\n",
    "\n",
    "Professor Mittens' work was published in a top tier journal and he was lauded as a statistical wizard. Rumour has it he will soon be elected to the British Acadmey."
   ]
  }
 ],
 "metadata": {
  "kernelspec": {
   "display_name": "Python3 - python",
   "language": "python",
   "name": "ipython_python"
  },
  "language_info": {
   "codemirror_mode": {
    "name": "ipython",
    "version": 3
   },
   "file_extension": ".py",
   "mimetype": "text/x-python",
   "name": "python",
   "nbconvert_exporter": "python",
   "pygments_lexer": "ipython3",
   "version": "3.7.7"
  }
 },
 "nbformat": 4,
 "nbformat_minor": 4
}
