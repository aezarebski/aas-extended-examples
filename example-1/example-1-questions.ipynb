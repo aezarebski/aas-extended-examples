{
 "cells": [
  {
   "cell_type": "markdown",
   "metadata": {},
   "source": [
    "Example 1\n",
    "=========\n",
    "\n",
    "Overview\n",
    "--------\n",
    "\n",
    "The material in this notebook covers four topics: binomial\n",
    "distributions, the central limit theorem, outliers in data and invalid\n",
    "model assumptions. You will have approximately 15 minutes to work\n",
    "through each part, after which we will go through the answers together.\n",
    "Some questions may be challenging, feel free to skip harder questions on\n",
    "a first reading if you feel they will take too much time during the\n",
    "tutorial.\n",
    "\n",
    "This notebook is available on github\n",
    "[here](https://github.com/aezarebski/aas-extended-examples). If you find\n",
    "errors or would like to suggest an improvement, feel free to create an\n",
    "issue.\n",
    "\n",
    "Introduction\n",
    "------------\n",
    "\n",
    "In this lab we will look at the binomial distribution, central limit\n",
    "theorem, and analyse two data sets consisting of a number of coin\n",
    "tosses. We will look for a bias in the results of coin flips. Some of\n",
    "the questions are open-ended by design. Partial solutions will be\n",
    "distributed at the end of the session.\n",
    "\n",
    "As usual we will start by importing some useful libraries."
   ]
  },
  {
   "cell_type": "code",
   "execution_count": 1,
   "metadata": {},
   "outputs": [],
   "source": [
    "import pandas as pd\n",
    "import numpy as np\n",
    "import scipy.stats as stats\n",
    "import matplotlib.pyplot as plt"
   ]
  },
  {
   "cell_type": "markdown",
   "metadata": {},
   "source": [
    "Parameter estimation of the binomial distribution\n",
    "-------------------------------------------------\n",
    "\n",
    "We want to make an *estimate* the probability that a coin comes up\n",
    "heads. We also want to understand the level of confidence we have in\n",
    "this estimate; we use a *confidence interval* (CI) to describe the range\n",
    "of values we are confident the \\\"true\\\" probability of heads lies\n",
    "within.\n",
    "\n",
    "Binomial random variables can be used to model the number of times a\n",
    "coin comes up heads when flipped $n$ times. Let $X$ be a binomial random\n",
    "variable (RV) representing the number of heads that are observed when a\n",
    "coin is flipped $n$ times and the probability of coming up heads is $p$.\n",
    "We assume that $n$ is known but $p$ is unknown.\n",
    "\n",
    "The expected value of $X$, ie the average number of times that the coin\n",
    "comes up heads, is $np$. So a simple way to estimate $p$ is to divide\n",
    "the number of heads, $X$, by the number of flips, $n$. This gives the\n",
    "estimate\n",
    "\n",
    "$$\n",
    "\\hat{p} = X / n.\n",
    "$$\n",
    "\n",
    "This estimator is called the [the method of\n",
    "moments](https://en.wikipedia.org/wiki/Method_of_moments_(statistics)).\n",
    "This is also an example of a maximum likelihood estimate (MLE).\n",
    "\n",
    "Given an estimator, such as $\\hat{p}$, we usually want to quantify the\n",
    "uncertainty. The *Wald method* is one way to get the $95\\%$ CI. It is a\n",
    "very simple method, but it is acceptable when we have lots of data. The\n",
    "estimated standard error of $\\hat{p}$ is $\\sqrt{\\hat{p}(1-\\hat{p})/n}$,\n",
    "so the Wald CI is given by\n",
    "\n",
    "$$\n",
    "\\hat{p} \\pm z \\sqrt{\\frac{\\hat{p}(1-\\hat{p})}{n}}\n",
    "$$\n",
    "\n",
    "where $z$ is the appropriate quantile of the standard normal\n",
    "distribution. In the case of a $95\\%$ distribution this value is $1.96$.\n",
    "\n",
    "The details are all given on the\n",
    "[Wikipedia](https://en.wikipedia.org/wiki/Binomial_distribution#Estimation_of_parameters)\n",
    "but there is also a reasonably clear description in [All of\n",
    "Statistics](https://link.springer.com/book/10.1007/978-0-387-21736-9)\n",
    "which you can get via SOLO. You can also find reasonable treatments of\n",
    "Wald CIs in both of those resources.\n",
    "\n",
    "### Question\n",
    "\n",
    "State the limitations on the estimator we are using for the CI.\n",
    "\n",
    "### Question\n",
    "\n",
    "Implement a function called `wald_estimate_and_ci` which takes two\n",
    "arguments: `num_trials` which is $n$ in the description above, and\n",
    "`num_success` which is $X$ above. The function should return\n",
    "`(p_hat,(wald_lower,wald_upper))` where `p_hat` is $\\hat{p}$ and\n",
    "`wald_x` are the limits on the $95\\%$ CI using the Wald method.\n"
   ]
  },
  {
   "cell_type": "markdown",
   "metadata": {},
   "source": [
    "### Question\n",
    "\n",
    "Simulate a binomial random variable with $n=100$ and $p=0.6$. Then use\n",
    "the value and the `wald_estimate_and_ci` function to see how well you\n",
    "can estimate $p$. Write a couple of sentences to explain this.\n",
    "\n",
    "Recall that in a previous example we have looked at how to simulate\n",
    "random variables using `scipy.stats`.\n",
    "\n",
    "### Question\n",
    "\n",
    "Repeat the process from the previous question 100000 times and see what\n",
    "proportion of the CIs capture the true value of $p$. Is it what you\n",
    "expect? Write a couple of sentences to explain what you found.\n"
   ]
  },
  {
   "cell_type": "markdown",
   "metadata": {},
   "source": [
    "### Question\n",
    "\n",
    "Are credible intervals and confidence intervals the same thing?\n",
    "\n",
    "Central limit theorem\n",
    "---------------------\n",
    "\n",
    "The central limit theorem (CLT) tells us about the limiting distribution\n",
    "of the sample mean for distribution for an independent and identically\n",
    "distributed (IID) sample with a finite variance. It underpins many\n",
    "results in statistics and is important for reasoning about stochastic\n",
    "processes.\n",
    "\n",
    "### Question\n",
    "\n",
    "Write down a statement of the law of large numbers (LLN). Write down a\n",
    "statement of the central limit theorem. Make sure you understand what\n",
    "each of them tells you.\n",
    "\n",
    "Example: CLT\n",
    "------------\n",
    "\n",
    "To see that the distribution of the sample mean converges to a normal\n",
    "distribution we will do a simulation study.\n",
    "\n",
    "### Question\n",
    "\n",
    "Write down the distribution of the sample mean given an IID sample of\n",
    "exponential random variables with rate $1/5$.\n",
    "\n",
    "### Question\n",
    "\n",
    "1.  Generate 500 sample means each based on a sample of 100 exponential\n",
    "    random variables\n",
    "2.  Make a visualisation of the distribution of the data (e.g., a KDE or\n",
    "    histogram) and overlay the CLT approximation.\n"
   ]
  },
  {
   "cell_type": "markdown",
   "metadata": {},
   "source": [
    "### Question\n",
    "\n",
    "Another way to assess if the sample appear to come from a normal\n",
    "distribution is to use a Q-Q plot. Generate a Q-Q plot to check if the\n",
    "samples appear to be normally distributed.\n"
   ]
  },
  {
   "cell_type": "markdown",
   "metadata": {},
   "source": [
    "Experimental results: flipping coins in series\n",
    "----------------------------------------------\n",
    "\n",
    "Each of 15 students take turns flipping a coin 30 times and recording\n",
    "how many heads they got. There is a suspicion that some of the students\n",
    "did not actually do this properly. Some people think they just wrote\n",
    "down some garbage and went to lunch early.\n",
    "\n",
    "Read the data in `experiement1.csv` into a `DataFrame`."
   ]
  },
  {
   "cell_type": "code",
   "execution_count": 6,
   "metadata": {},
   "outputs": [],
   "source": [
    "exp1 = pd.read_csv(\"experiment1.csv\")"
   ]
  },
  {
   "cell_type": "markdown",
   "metadata": {},
   "source": [
    "Compute the point estimate and CI using the function you wrote above."
   ]
  },
  {
   "cell_type": "code",
   "execution_count": 7,
   "metadata": {},
   "outputs": [
    {
     "name": "stdout",
     "output_type": "stream",
     "text": [
      "(0.49333333333333335, (0.44713979693549655, 0.5395268697311701))\n"
     ]
    }
   ],
   "source": [
    "head_counts = exp1.drop(columns=\"flip_number\").groupby(\"name\").sum()\n",
    "head_counts[\"name\"] = head_counts.index.copy()\n",
    "\n",
    "total_heads = int(head_counts[\"outcome\"].sum())\n",
    "num_people = int(head_counts[\"name\"].unique().size)\n",
    "num_flips = int(exp1[\"name\"].value_counts().unique())\n",
    "\n",
    "est_and_ci = wald_estimate_and_ci(num_success=total_heads,\n",
    "                                  num_trials=num_people * num_flips)\n",
    "\n",
    "print(est_and_ci)"
   ]
  },
  {
   "cell_type": "markdown",
   "metadata": {},
   "source": [
    "We estimate the probability of heads as 0.49 with a $95\\%$ CI of\n",
    "(0.45,0.54). We are not able to reject the null hypothesis that the coin\n",
    "is fair.\n",
    "\n",
    "### Question\n",
    "\n",
    "Generate a histogram of the number of heads from each student. As an\n",
    "extension, include the binomial distribution supported by your estimate\n",
    "that is most amenable to large value outcomes.\n"
   ]
  },
  {
   "cell_type": "markdown",
   "metadata": {},
   "source": [
    "### Question\n",
    "\n",
    "It looks like there might be a couple of strange points in this dataset\n",
    "as suspected. Using the upper bound on $p$ calculate the probability of\n",
    "someone getting all heads. Write a couple of sentences explaining\n",
    "whether you think it is reasonable to remove those data points.\n"
   ]
  },
  {
   "cell_type": "markdown",
   "metadata": {},
   "source": [
    "### Question\n",
    "\n",
    "Once the questionable data has been removed, plot the distribution of\n",
    "the estimated binomial distribution on top of the histogram. Write a\n",
    "couple of sentences explaining what you think about the coin now.\n"
   ]
  },
  {
   "cell_type": "markdown",
   "metadata": {},
   "source": [
    "\n",
    "\n",
    "Experimental results: flipping coins in parallel\n",
    "------------------------------------------------\n",
    "\n",
    "The royal mint has become interested and wants to study an additional 49\n",
    "coins and repeat the experiment to gather more data about the\n",
    "fascinating topic of coin bias. Now, each of 50 students is given a coin\n",
    "each and asked to flip the coin 30 times and record the results.\n",
    "\n",
    "### Question\n",
    "\n",
    "Do we need to change anything about how we analyse this data? If so,\n",
    "why, if not, why not? **Hint:** there are good arguments that can be\n",
    "given for each answer. Once you have answered one way, try to answer the\n",
    "other way.\n",
    "\n",
    "\n",
    "### Question\n",
    "\n",
    "Using the data in `experiment2.csv` explore the data set using the\n",
    "methodology devised above and write a couple of sentences to explain\n",
    "what you found.\n"
   ]
  },
  {
   "cell_type": "markdown",
   "metadata": {},
   "source": [
    "### Question\n",
    "\n",
    "Visualise the number of heads each student got and compare the variance\n",
    "in this to what is predicted by theory.\n"
   ]
  },
  {
   "cell_type": "markdown",
   "metadata": {},
   "source": [
    "\n",
    "### Question\n",
    "\n",
    "Consider how you might analyse this data. Over the following weeks you\n",
    "will learn a couple of approaches.\n"
   ]
  },
  {
   "cell_type": "code",
   "execution_count": null,
   "metadata": {},
   "outputs": [],
   "source": []
  }
 ],
 "metadata": {
  "kernelspec": {
   "display_name": "Python3 - python",
   "language": "python",
   "name": "ipython_python"
  },
  "language_info": {
   "codemirror_mode": {
    "name": "ipython",
    "version": 3
   },
   "file_extension": ".py",
   "mimetype": "text/x-python",
   "name": "python",
   "nbconvert_exporter": "python",
   "pygments_lexer": "ipython3",
   "version": "3.8.9"
  }
 },
 "nbformat": 4,
 "nbformat_minor": 4
}
