{
 "cells": [
  {
   "cell_type": "markdown",
   "metadata": {},
   "source": [
    "# Example 1\n",
    "\n",
    "## Overview\n",
    "\n",
    "This notebook reviews\n",
    "\n",
    "- some of the aspects of the central limit theorem,\n",
    "- confidence intervals,\n",
    "- and hypothesis testing.\n",
    "\n",
    "As usual we will start by importing some useful libraries. Recall from the\n",
    "[previous\n",
    "notebook](https://github.com/aezarebski/aas-extended-examples/tree/main/example-0)\n",
    "that it is good practise to import these packages with the standard\n",
    "abbreviations of their names."
   ]
  },
  {
   "cell_type": "code",
   "execution_count": 1,
   "metadata": {},
   "outputs": [],
   "source": [
    "import pandas as pd\n",
    "import numpy as np\n",
    "import scipy.stats as stats\n",
    "import matplotlib.pyplot as plt"
   ]
  },
  {
   "cell_type": "markdown",
   "metadata": {},
   "source": [
    "## Probability Review"
   ]
  },
  {
   "cell_type": "markdown",
   "metadata": {},
   "source": [
    "This section is a brief review of probability as a way to work towards the central limit theorem."
   ]
  },
  {
   "cell_type": "markdown",
   "metadata": {},
   "source": [
    "### Expected Value"
   ]
  },
  {
   "cell_type": "markdown",
   "metadata": {},
   "source": [
    "For a real-valued random variable, the expected value is the average of the possible outcomes weighted by the respective probabilites of occuring."
   ]
  },
  {
   "cell_type": "markdown",
   "metadata": {},
   "source": [
    "### Question\n",
    "\n",
    "Define a random variable X as follows: roll a fair six-sided die until a six is rolled, then record the total number of rolls required. What is the expected value of X?\n",
    "\n",
    "We have answered this question mathematically below. Simulate this procedure and show the result with a chart to verify the math is correct."
   ]
  },
  {
   "cell_type": "markdown",
   "metadata": {},
   "source": [
    "### Mathematical Answer\n",
    "\n",
    "The expected value is given by the summation over all possible values of X multiplied by their probabilites:\n",
    "\n",
    "$\\mathbb{E}(X) = \\sum_{i=1}^{\\infty}i*P(X=i)$\n",
    "\n",
    "For a fair die, the probability $P(X=i) = \\frac{5}{6}^{i-1}*\\frac{1}{6}$\n",
    "\n",
    "The summation is then:\n",
    "\n",
    "$\\mathbb{E}(X) = \\sum_{i=1}^{\\infty}i*\\frac{5}{6}^{i-1}*\\frac{1}{6} = 1*\\frac{5}{6}^{0}*\\frac{1}{6} + 2*\\frac{5}{6}^{1}*\\frac{1}{6} + 3*\\frac{5}{6}^{2}*\\frac{1}{6} ... $\n",
    "\n",
    "Recall that a geometric series is a series such that each term of the summation is equal to the previous term times some ratio $r$,\n",
    "\n",
    "$a + ar + ar^2 + ar^3...$\n",
    "\n",
    "and the sum of an infinite geometric series is $\\frac{a}{1-r}$.\n",
    "\n",
    "We can observe that this is a sum of several geometric series with $r=\\frac{5}{6}$:\n",
    "\n",
    "$\\frac{5}{6}^{0}*\\frac{1}{6} + 2*\\frac{5}{6}^{1}*\\frac{1}{6} + 3*\\frac{5}{6}^{2}*\\frac{1}{6}... = $\n",
    "\n",
    "$\\frac{5}{6}^{0}*\\frac{1}{6} + \\quad  \\frac{5}{6}^{1}*\\frac{1}{6}  + \\quad \\frac{5}{6}^{2}*\\frac{1}{6}...$\n",
    "\n",
    "$\\qquad \\quad + \\quad  \\frac{5}{6}^{1}*\\frac{1}{6} + \\quad \\frac{5}{6}^{2}*\\frac{1}{6}...$\n",
    "\n",
    "$\\qquad \\quad + \\qquad  \\qquad + \\quad \\frac{5}{6}^{2}*\\frac{1}{6}...$\n",
    "\n",
    "The sum of each series is $\\frac{a}{1-r}$ where $a$ is the first term, so this is equivalent to:\n",
    "\n",
    "$\\frac{\\frac{1}{6}}{1-\\frac{5}{6}} + \\frac{\\frac{5}{36}}{1-\\frac{5}{6}} + \\frac{\\frac{25}{216}}{1-\\frac{5}{6}}...$\n",
    "\n",
    "$ = 1 + \\frac{5}{6} + \\frac{25}{36}...$\n",
    "\n",
    "Which is itself a geometric series:\n",
    "\n",
    "$\\sum_{i=1}^{\\infty}\\frac{5}{6}^i = \\frac{1}{1-\\frac{5}{6}} = 6$\n",
    "\n",
    "Therefore, $\\mathbb{E}(X) = 6$\n",
    "\n",
    "\n",
    "**NOTE:** As a shortcut, you could have noticed that this is one of the definitions of a geometric random variable and looked up the mean to find that it is $\\frac{1}{p}$\n",
    "\n",
    "\n"
   ]
  },
  {
   "cell_type": "markdown",
   "metadata": {},
   "source": [
    "### Monte Carlo Approach"
   ]
  },
  {
   "cell_type": "code",
   "execution_count": null,
   "metadata": {},
   "outputs": [],
   "source": []
  },
  {
   "cell_type": "markdown",
   "metadata": {},
   "source": [
    "## Central limit theorem\n",
    "\n",
    "The central limit theorem (CLT) tells us about the distribution of the sample\n",
    "mean as the number of observations grows. A lot of results in statistics rely on\n",
    "the CLT, so it is worth getting familiar with the details. There are some\n",
    "conditions that need to be satisfied for the CLT to hold, for example, we will\n",
    "usually want to know that the samples are independent and identically\n",
    "distributed (IID) and that they are drawn from a distribution with a finite\n",
    "variance.\n",
    "\n",
    "## CLT: Motivating example\n",
    "\n",
    "### Question\n",
    "\n",
    "Write the following functions:\n",
    "\n",
    "1. A function called `rand_exp_mean` which takes a number, `n`, and a rate,\n",
    "   `lam` and returns the sample average of `n` exponentially distributed (with\n",
    "   rate `lam`) random variables. Note this should return a different value each\n",
    "   time you call it.\n",
    "2. A function called `rand_sample_means` which takes a number, `n` and a rate,\n",
    "   `lam` and returns an array with 1000 evaluations of the function call\n",
    "   `rand_exp_mean(n, lam)`. Note that a list comprehension may help here.\n",
    "\n",
    "### Answer"
   ]
  },
  {
   "cell_type": "code",
   "execution_count": 2,
   "metadata": {},
   "outputs": [],
   "source": [
    "def rand_exp_mean(n, lam):\n",
    "    return stats.expon.rvs(scale = 1/lam, size = n).mean()\n",
    "\n",
    "def rand_sample_means(n, lam):\n",
    "    return np.array([rand_exp_mean(n, lam) for _ in range(1000)])"
   ]
  },
  {
   "cell_type": "markdown",
   "metadata": {},
   "source": [
    "### Question\n",
    "\n",
    "Make a histogram of the values from `rand_sample_means` in the question above\n",
    "with `lam=0.2` and `n=5`. Plot the probability density function of a normal\n",
    "distribution with mean $5$ and standard deviation $5 / \\sqrt{5}$. Repeat whis\n",
    "process with `n=100` and with a normal distribution with standard distribution\n",
    "$5 / \\sqrt{100}$. What do you notice?\n",
    "\n",
    "### Answer\n",
    "\n",
    "First the plot with `n=5`"
   ]
  },
  {
   "cell_type": "code",
   "execution_count": 3,
   "metadata": {},
   "outputs": [
    {
     "data": {
      "image/png": "[encoded data removed]",
      "text/plain": [
       "<Figure size 640x480 with 1 Axes>"
      ]
     },
     "metadata": {},
     "output_type": "display_data"
    }
   ],
   "source": [
    "n = 5\n",
    "rand_sms = rand_sample_means(n, 0.2)\n",
    "clt_xs = np.linspace(rand_sms.min(), rand_sms.max(), num=100)\n",
    "clt_ys = stats.norm.pdf(clt_xs, loc=5, scale=5/np.sqrt(n))\n",
    "\n",
    "plt.figure()\n",
    "plt.hist(rand_sms, density=True)\n",
    "plt.plot(clt_xs, clt_ys)\n",
    "plt.show()"
   ]
  },
  {
   "cell_type": "markdown",
   "metadata": {},
   "source": [
    "Then the plot with `n=100`"
   ]
  },
  {
   "cell_type": "code",
   "execution_count": 4,
   "metadata": {},
   "outputs": [
    {
     "data": {
      "image/png": "[encoded data removed]",
      "text/plain": [
       "<Figure size 640x480 with 1 Axes>"
      ]
     },
     "metadata": {},
     "output_type": "display_data"
    }
   ],
   "source": [
    "n = 100\n",
    "rand_sms = rand_sample_means(n, 0.2)\n",
    "clt_xs = np.linspace(rand_sms.min(), rand_sms.max(), num=100)\n",
    "clt_ys = stats.norm.pdf(clt_xs, loc=5, scale=5/np.sqrt(n))\n",
    "\n",
    "plt.figure()\n",
    "plt.hist(rand_sms, density=True)\n",
    "plt.plot(clt_xs, clt_ys)\n",
    "plt.show()"
   ]
  },
  {
   "cell_type": "markdown",
   "metadata": {},
   "source": [
    "## CLT: Theory\n",
    "\n",
    "### Question\n",
    "\n",
    "Write down a statement of the law of large numbers (LLN). Write down a\n",
    "statement of the central limit theorem. Make sure you understand what\n",
    "each of them tells you."
   ]
  },
  {
   "cell_type": "markdown",
   "metadata": {},
   "source": [
    "### Answer\n",
    "\n",
    "-   $\\hat{X}$ converges to $\\mu$.\n",
    "-   $\\sqrt{n}(\\hat{X} - \\mu) / \\sigma$ converges in distribution to the\n",
    "    standard normal distribution as the sample size increases.\n",
    "-   The LLN tells you what the limiting value is, the CLT tells you\n",
    "    about the fluctuations in the estimate."
   ]
  },
  {
   "cell_type": "markdown",
   "metadata": {},
   "source": [
    "Example: CLT\n",
    "------------\n",
    "\n",
    "To see that the distribution of the sample mean converges to a normal\n",
    "distribution we will do a simulation study."
   ]
  },
  {
   "cell_type": "markdown",
   "metadata": {},
   "source": [
    "### Question\n",
    "\n",
    "Write down the distribution of the sample mean given an IID sample of\n",
    "exponential random variables with rate $1/5$."
   ]
  },
  {
   "cell_type": "markdown",
   "metadata": {},
   "source": [
    "### Answer\n",
    "\n",
    "-   The mean of the exponential distribution is 5.\n",
    "-   The standard deviation of the exponential distribution is 5\n",
    "-   The CLT tells us the limiting distribution for the sample mean is\n",
    "    $N\\left(5,\\frac{5^2}{n}\\right)$"
   ]
  },
  {
   "cell_type": "markdown",
   "metadata": {},
   "source": [
    "## Estimating the mean of a small sample\n",
    "\n",
    "If we have a sample from a normal distribution with sample mean $\\bar{x}$ and\n",
    "known the standard deviation, $\\sigma$, the $(1-\\alpha)100\\%$ CI for the\n",
    "estimate of the mean is\n",
    "\n",
    "$$\n",
    "\\bar{x} \\pm z_{\\alpha / 2} \\frac{\\sigma}{\\sqrt{n}}\n",
    "$$\n",
    "\n",
    "where $z_{\\alpha / 2}$ comes from the inverse CDF.\n",
    "\n",
    "### Question\n",
    "\n",
    "Simulate a set of 5 draws from a $N(1,1)$ distribution and, assuming the\n",
    "standard deviation is known, check if the $95\\%$ CI contains the true mean."
   ]
  },
  {
   "cell_type": "markdown",
   "metadata": {},
   "source": [
    "### Answer"
   ]
  },
  {
   "cell_type": "code",
   "execution_count": 5,
   "metadata": {},
   "outputs": [
    {
     "name": "stdout",
     "output_type": "stream",
     "text": [
      "True\n"
     ]
    }
   ],
   "source": [
    "def f1():\n",
    "    n = 5\n",
    "    x_bar = stats.norm.rvs(loc = 1.0, scale = 1.0, size = n).mean()\n",
    "    # Percent Point Function (Inverse of CDF).\n",
    "    z_a2 = stats.norm.ppf(0.975)\n",
    "    lower_lim = x_bar - z_a2 * 1.0 / np.sqrt(n)\n",
    "    upper_lim = x_bar + z_a2 * 1.0 / np.sqrt(n)\n",
    "    return lower_lim <= 1 and 1 <= upper_lim\n",
    "\n",
    "print(f1())"
   ]
  },
  {
   "cell_type": "markdown",
   "metadata": {},
   "source": [
    "### Question\n",
    "\n",
    "Now repeat this process 1000 times and check how many times it contains the true\n",
    "mean. Do you think the coverage of the CI will be correct?"
   ]
  },
  {
   "cell_type": "markdown",
   "metadata": {},
   "source": [
    "### Answer\n",
    "\n",
    "Because we have used the correct standard deviation this should get the coverage correct."
   ]
  },
  {
   "cell_type": "code",
   "execution_count": 6,
   "metadata": {},
   "outputs": [
    {
     "name": "stdout",
     "output_type": "stream",
     "text": [
      "0.952\n"
     ]
    }
   ],
   "source": [
    "good_ci_count = 0\n",
    "for _ in range(1000):\n",
    "    if f1():\n",
    "        good_ci_count += 1\n",
    "print(good_ci_count / 1000)"
   ]
  },
  {
   "cell_type": "markdown",
   "metadata": {},
   "source": [
    "### Question\n",
    "\n",
    "Now repeat this 1000-fold repetition using the sample standard deviation instead of the true standard deviation but treat it as though it is known, ie continue with $z_{\\alpha / 2}$. Do you think the coverage of the CI will be correct?"
   ]
  },
  {
   "cell_type": "markdown",
   "metadata": {},
   "source": [
    "### Answer\n",
    "\n",
    "Because we have not accounted for the additional uncertainty our CI will be too small and the coverage of the CI will not be as high as desired."
   ]
  },
  {
   "cell_type": "code",
   "execution_count": 7,
   "metadata": {},
   "outputs": [
    {
     "name": "stdout",
     "output_type": "stream",
     "text": [
      "0.863\n"
     ]
    }
   ],
   "source": [
    "def f2():\n",
    "    n = 5\n",
    "    random_sample = stats.norm.rvs(loc = 1.0, scale = 1.0, size = n)\n",
    "    x_bar = random_sample.mean()\n",
    "    s = np.sqrt(np.sum((random_sample - x_bar)**2) / (n-1))\n",
    "    z_a2 = stats.norm.ppf(0.975)\n",
    "    lower_lim = x_bar - z_a2 * s / np.sqrt(n)\n",
    "    upper_lim = x_bar + z_a2 * s / np.sqrt(n)\n",
    "    return lower_lim <= 1 and 1 <= upper_lim\n",
    "\n",
    "good_ci_count = 0\n",
    "for _ in range(1000):\n",
    "    if f2():\n",
    "        good_ci_count += 1\n",
    "print(good_ci_count / 1000)"
   ]
  },
  {
   "cell_type": "markdown",
   "metadata": {},
   "source": [
    "### Question\n",
    "\n",
    "Now repeat this process while accounting for the uncertainty in the standard deviation, ie use the $t_{\\alpha / 2}$. How many degrees of freedom are there in the _t_-distribution? Do you think the coverage of the CI will be correct?"
   ]
  },
  {
   "cell_type": "markdown",
   "metadata": {},
   "source": [
    "### Answer\n",
    "\n",
    "We use $n-1 = 4$ degrees of freedom in the _t_-distribution. The coverage should be correct because we are using the correct model."
   ]
  },
  {
   "cell_type": "code",
   "execution_count": 8,
   "metadata": {},
   "outputs": [
    {
     "name": "stdout",
     "output_type": "stream",
     "text": [
      "0.962\n"
     ]
    }
   ],
   "source": [
    "def f3():\n",
    "    n = 5\n",
    "    random_sample = stats.norm.rvs(loc = 1.0, scale = 1.0, size = n)\n",
    "    x_bar = random_sample.mean()\n",
    "    s = np.sqrt(np.sum((random_sample - x_bar)**2) / (n-1))\n",
    "    # here we use the t-distribution to understand the uncertainty.\n",
    "    df = n - 1\n",
    "    t_a2 = stats.t.ppf(0.975, df)\n",
    "    lower_lim = x_bar - t_a2 * s / np.sqrt(n)\n",
    "    upper_lim = x_bar + t_a2 * s / np.sqrt(n)\n",
    "    return lower_lim <= 1 and 1 <= upper_lim\n",
    "\n",
    "good_ci_count = 0\n",
    "for _ in range(1000):\n",
    "    if f3():\n",
    "        good_ci_count += 1\n",
    "print(good_ci_count / 1000)"
   ]
  },
  {
   "cell_type": "markdown",
   "metadata": {},
   "source": [
    "Testing the hypothesis that a coin is fair\n",
    "------------------------------------------\n",
    "\n",
    "There is an election to choose between candidate _A_ and candidate _B_. To win the election a candidate needs to get the majority of the votes. Candidate _B_ declared victory but there is suspicion that they cheated. A random sample of $n$ ballots had $m$ votes for _A_. We want to know if we can reject the null hypothesis that _B_ did in fact win."
   ]
  },
  {
   "cell_type": "markdown",
   "metadata": {},
   "source": [
    "### Question\n",
    "\n",
    "Would we reject the null if $n=100$ and $m=70$?"
   ]
  },
  {
   "cell_type": "markdown",
   "metadata": {},
   "source": [
    "### Answer\n",
    "\n",
    "The null hypothesis is $H_{0}: p_{B} > 1/2$. We can model the number of votes for _B_ as a binomial random variable with $n=100$ and $p=0.5$ and see how likely it is that _B_ got no more than 30 votes.\n",
    "\n",
    "The probability that _B_ got no more than 30 votes even if $p=0.5$ is very small. At a significancy level of $0.05$ we could reject the null hypothesis that _B_ did actually win."
   ]
  },
  {
   "cell_type": "code",
   "execution_count": 9,
   "metadata": {},
   "outputs": [
    {
     "data": {
      "text/plain": [
       "3.925069822796835e-05"
      ]
     },
     "execution_count": 9,
     "metadata": {},
     "output_type": "execute_result"
    }
   ],
   "source": [
    "stats.binom.cdf(k = 30, n = 100, p = 0.5)"
   ]
  },
  {
   "cell_type": "markdown",
   "metadata": {},
   "source": [
    "### Question\n",
    "\n",
    "If $n=100$, how small would $m$ need to be for us to not be able to reject the null using this test?"
   ]
  },
  {
   "cell_type": "markdown",
   "metadata": {},
   "source": [
    "### Answer\n",
    "\n",
    "If there were at least 42 votes for _B_, this test would not reject the null."
   ]
  },
  {
   "cell_type": "code",
   "execution_count": 10,
   "metadata": {},
   "outputs": [
    {
     "name": "stdout",
     "output_type": "stream",
     "text": [
      "42.0\n",
      "0.044313040057033834\n",
      "0.06660530960360693\n"
     ]
    }
   ],
   "source": [
    "print(stats.binom.ppf(0.05, n = 100, p = 0.5))\n",
    "print(stats.binom.cdf(k = 41, n = 100, p = 0.5))\n",
    "print(stats.binom.cdf(k = 42, n = 100, p = 0.5))"
   ]
  },
  {
   "cell_type": "markdown",
   "metadata": {},
   "source": [
    "Parameter estimation of the binomial distribution\n",
    "-------------------------------------------------\n",
    "\n",
    "We want to make an *estimate* the probability that a coin comes up\n",
    "heads. We also want to understand the level of confidence we have in\n",
    "this estimate; we use a *confidence interval* (CI) to describe the range\n",
    "of values we are confident the \\\"true\\\" probability of heads lies\n",
    "within.\n",
    "\n",
    "Binomial random variables can be used to model the number of times a\n",
    "coin comes up heads when flipped $n$ times. Let $X$ be a binomial random\n",
    "variable (RV) representing the number of heads that are observed when a\n",
    "coin is flipped $n$ times and the probability of coming up heads is $p$.\n",
    "We assume that $n$ is known but $p$ is unknown.\n",
    "\n",
    "The expected value of $X$, ie the average number of times that the coin\n",
    "comes up heads, is $np$. So a simple way to estimate $p$ is to divide\n",
    "the number of heads, $X$, by the number of flips, $n$. This gives the\n",
    "estimate\n",
    "\n",
    "$$\n",
    "\\hat{p} = X / n.\n",
    "$$\n",
    "\n",
    "This estimator is called the [the method of\n",
    "moments](https://en.wikipedia.org/wiki/Method_of_moments_(statistics)). This is\n",
    "also an example of a maximum likelihood estimate (MLE).\n",
    "\n",
    "Given an estimator, such as $\\hat{p}$, we usually want to quantify the\n",
    "uncertainty. One way to construct a CI is to approximate the sampling\n",
    "distribution by a normal distribution. It is a bit crude, but it is acceptable\n",
    "when we have lots of data. The estimated standard error of $\\hat{p}$ is\n",
    "$\\sqrt{\\hat{p}(1-\\hat{p})/n}$, so the CI is given by\n",
    "\n",
    "$$\n",
    "\\hat{p} \\pm z \\sqrt{\\frac{\\hat{p}(1-\\hat{p})}{n}}\n",
    "$$\n",
    "\n",
    "where $z$ is the appropriate quantile of the standard normal distribution. In\n",
    "the case of a $95\\%$ distribution this value is $1.96$."
   ]
  },
  {
   "cell_type": "markdown",
   "metadata": {},
   "source": [
    "### Question\n",
    "\n",
    "State the limitations on the estimator we are using for the CI."
   ]
  },
  {
   "cell_type": "markdown",
   "metadata": {},
   "source": [
    "### Answer\n",
    "\n",
    "The estimate assumes you have enough data to justify an asymptotic\n",
    "solution so is unlikely to be accurate for small datasets."
   ]
  },
  {
   "cell_type": "markdown",
   "metadata": {},
   "source": [
    "### Question\n",
    "\n",
    "Implement a function called `estimate_and_ci` which takes two\n",
    "arguments: `num_trials` which is $n$ in the description above, and\n",
    "`num_success` which is $X$ above. The function should return\n",
    "`(p_hat,(ci_lower,ci_upper))` where `p_hat` is $\\hat{p}$ and\n",
    "`ci_x` are the limits of the $95\\%$ CI."
   ]
  },
  {
   "cell_type": "markdown",
   "metadata": {},
   "source": [
    "### Answer"
   ]
  },
  {
   "cell_type": "code",
   "execution_count": 11,
   "metadata": {},
   "outputs": [],
   "source": [
    "def estimate_and_ci(num_trials, num_success):\n",
    "    p_hat = num_success / num_trials\n",
    "    z = 1.96\n",
    "    delta = z * np.sqrt(p_hat * (1 - p_hat) / num_trials)\n",
    "    return (p_hat,(p_hat - delta, p_hat + delta))"
   ]
  },
  {
   "cell_type": "markdown",
   "metadata": {},
   "source": [
    "### Question\n",
    "\n",
    "Simulate a binomial random variable with $n=100$ and $p=0.6$. Then use\n",
    "the value and the `estimate_and_ci` function to see how well you\n",
    "can estimate $p$. Write a couple of sentences to explain this.\n",
    "\n",
    "Recall that in a previous example we have looked at how to simulate\n",
    "random variables using `scipy.stats`."
   ]
  },
  {
   "cell_type": "markdown",
   "metadata": {},
   "source": [
    "### Question\n",
    "\n",
    "Repeat the process from the previous question 100000 times and see what\n",
    "proportion of the CIs capture the true value of $p$. Is it what you\n",
    "expect? Write a couple of sentences to explain what you found."
   ]
  },
  {
   "cell_type": "markdown",
   "metadata": {},
   "source": [
    "### Answer"
   ]
  },
  {
   "cell_type": "code",
   "execution_count": 12,
   "metadata": {},
   "outputs": [
    {
     "name": "stdout",
     "output_type": "stream",
     "text": [
      "0.94795\n"
     ]
    }
   ],
   "source": [
    "num_trials = 100\n",
    "num_repeats = 100000\n",
    "rand_xs = stats.binom.rvs(n = num_trials, p = 0.6, size = num_repeats)\n",
    "\n",
    "def ci_contains_value(ci, p):\n",
    "    lower,upper = ci\n",
    "    return lower < p and p < upper\n",
    "\n",
    "in_ci_count = 0\n",
    "for x in rand_xs:\n",
    "    _, ci = estimate_and_ci(num_trials, x)\n",
    "    if ci_contains_value(ci, 0.6):\n",
    "        in_ci_count += 1\n",
    "\n",
    "print(in_ci_count / num_repeats)"
   ]
  }
 ],
 "metadata": {
  "jupytext": {
   "formats": "ipynb,md"
  },
  "kernelspec": {
   "display_name": "Python 3 (ipykernel)",
   "language": "python",
   "name": "python3"
  },
  "language_info": {
   "codemirror_mode": {
    "name": "ipython",
    "version": 3
   },
   "file_extension": ".py",
   "mimetype": "text/x-python",
   "name": "python",
   "nbconvert_exporter": "python",
   "pygments_lexer": "ipython3",
   "version": "3.8.10"
  }
 },
 "nbformat": 4,
 "nbformat_minor": 4
}
