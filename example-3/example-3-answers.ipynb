{
 "cells": [
  {
   "cell_type": "markdown",
   "metadata": {},
   "source": [
    "# Logistic regression with Professor Mittens, a.k.a. vanilla, multinomial and ordinal logistic regression.\n",
    "\n",
    "## Overview\n",
    "\n",
    "In this notebook we will learn how to use logistic regression to study the factors that affect the opinions cats hold regarding lockdowns and vaccination as methods to control the spread of SARS-CoV-2. This will start with a visual inspection of the data, which is survey data of a population of cats, followed by the development of three different logistic models to explain the data.\n",
    "\n",
    "## Types of logistic regression\n",
    "\n",
    "Logistic regression typically refers to binary classification, multinomial logistic regression refers to classification where there are multiple values without an ordering associated with them and ordinal logistic regression refers to the case where there are multiple ordered values that the catagorical variable may take.\n",
    "\n",
    "## Survey data\n",
    "\n",
    "Professor Mittens in interested in helping the government to understand the opinions the cat public holds regarding the use of lockdown and vaccines against SARS-CoV-2. To learn more about this, he has interviewed 1000 cats. The data in `cat-opinions.csv` contains measurments of the following:\n",
    "\n",
    "- `whisker_length` is the length of their whiskers in centimeters,\n",
    "- `work_from_home` is a Boolean variable indicating whether the cat can work from home, which is 1 if they can work from home and 0 if not.\n",
    "- `trust_in_government` is a value from 0 to 100 indicating the level of trust put in the government,\n",
    "- `fifth_generation` is a Boolean variable indicating whether the cat thinks 5G is a government conspiracy, which is 1 if they think 5G is a conspiracy and 0 if not.\n",
    "- `support_lockdown` is a Likert scale response about whether you support the lockdown measures, this is coded from \"strongly against\", \"against\", \"neutral\", \"support\", \"strongly support\" as 0--5.\n",
    "- `will_vaccinate` is a `Maybe Bool` indicating if the cat will accept a vaccination, this is coded as follows: \"yes\" as 1, \"no answer\" as 0 and \"no\" as -1.\n",
    "\n",
    "It is the variables `support_lockdown` and `will_vaccinate` that the goverment is interested in understanding so they can design a suitable response.\n",
    "\n",
    "## Questions to answer\n",
    "\n",
    "The types of questions that Professor Mittens is interested in answering are as follows:\n",
    "\n",
    "1. Will herd immunity be reached with vaccination?\n",
    "2. What is the main thing that predicts whether a cat will support lockdown?\n"
   ]
  },
  {
   "cell_type": "code",
   "execution_count": null,
   "metadata": {},
   "outputs": [],
   "source": [
    "%matplotlib inline\n",
    "import pandas as pd\n",
    "import numpy as np\n",
    "import statsmodels.api as sm\n",
    "import statsmodels.formula.api as smf\n",
    "import altair as alt\n",
    "from functools import reduce"
   ]
  },
  {
   "cell_type": "markdown",
   "metadata": {},
   "source": [
    "## Logistic regression to predict vaccination\n",
    "\n",
    "## Multinomial logistic regression for vaccination\n",
    "\n",
    "## Ordinal logistic regression for support of lockdown"
   ]
  },
  {
   "cell_type": "code",
   "execution_count": null,
   "metadata": {},
   "outputs": [],
   "source": []
  }
 ],
 "metadata": {
  "kernelspec": {
   "display_name": "Python3 - python",
   "language": "python",
   "name": "ipython_python"
  },
  "language_info": {
   "codemirror_mode": {
    "name": "ipython",
    "version": 3
   },
   "file_extension": ".py",
   "mimetype": "text/x-python",
   "name": "python",
   "nbconvert_exporter": "python",
   "pygments_lexer": "ipython3",
   "version": "3.7.7"
  }
 },
 "nbformat": 4,
 "nbformat_minor": 4
}
