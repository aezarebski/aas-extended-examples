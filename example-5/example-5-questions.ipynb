{
 "cells": [
  {
   "cell_type": "markdown",
   "id": "983bcf18-15e5-4d8f-b3e0-d4d8bf52287c",
   "metadata": {},
   "source": [
    "# Example 5\n",
    "\n",
    "This notebook is available on github\n",
    "[here](https://github.com/aezarebski/aas-extended-examples). If you find errors\n",
    "or would like to suggest an improvement, feel free to create an issue.\n",
    "\n",
    "As usual we will start by importing some useful libraries."
   ]
  },
  {
   "cell_type": "code",
   "execution_count": 1,
   "id": "dc37adb0-f888-41ef-bbf1-d06dc7c89b24",
   "metadata": {},
   "outputs": [],
   "source": [
    "%matplotlib inline\n",
    "import pandas as pd\n",
    "import numpy as np\n",
    "import scipy.stats as stats\n",
    "import statsmodels.api as sm\n",
    "import statsmodels.formula.api as smf\n",
    "import matplotlib.pyplot as plt"
   ]
  },
  {
   "cell_type": "markdown",
   "id": "05477a0f-2b1d-4682-83ef-a4d49dac2d4c",
   "metadata": {},
   "source": [
    "In this notebook we will look at data on the mode of travel chosen by people\n",
    "travelling between Sydney and Melbourne (Australia). Relevant variables for us\n",
    "in this dataset are the mode of travel chosen: air, bus, car or train, the\n",
    "travel time, the generalised cost of the journey, the income of the household\n",
    "travelling, and the number of people travelling together. The relevant dataset\n",
    "is provided by the `statsmodels` package."
   ]
  },
  {
   "cell_type": "code",
   "execution_count": 2,
   "id": "50945dac-5eec-4aa3-a0a7-e196b25ded39",
   "metadata": {},
   "outputs": [],
   "source": [
    "travel_dataset = sm.datasets.get_rdataset(\"TravelMode\", \"AER\")\n",
    "#print(travel_dataset.__doc__)\n",
    "travel_df = travel_dataset.data"
   ]
  },
  {
   "cell_type": "markdown",
   "id": "96ea37e2-4242-446f-9c33-b3220193d30b",
   "metadata": {},
   "source": [
    "### Question\n",
    "\n",
    "What units is the variable `income` in?\n",
    "\n",
    "## Data exploration\n",
    "\n",
    "As a first pass we will look at modelling whether the selected mode was train or\n",
    "car. The following snippet puts the data in a tidy format. Note we have added a\n",
    "new variable, `is_car`, which is `1` if the travel was done by car and `0` if it\n",
    "was done by train. We will also subset the data to only contain those records\n",
    "where the travellers had a choice in the mode of transport."
   ]
  },
  {
   "cell_type": "code",
   "execution_count": 3,
   "id": "a70ee847-5da0-4b04-817f-13d19636e562",
   "metadata": {},
   "outputs": [
    {
     "name": "stdout",
     "output_type": "stream",
     "text": [
      "   vehicle  income  num_people  is_car\n",
      "3      car      35           1       1\n",
      "7      car      30           2       1\n",
      "11     car      40           1       1\n",
      "15     car      70           3       1\n",
      "19     car      45           2       1\n",
      "21   train      20           1       0\n",
      "31     car      12           1       1\n",
      "35     car      40           1       1\n",
      "39     car      70           2       1\n",
      "43     car      15           2       1\n"
     ]
    }
   ],
   "source": [
    "cb_df = travel_df[(travel_df[\"mode\"] == \"train\") | (travel_df[\"mode\"] == \"car\")]\n",
    "cb_df = cb_df[cb_df[\"choice\"] == \"yes\"]\n",
    "cb_df = cb_df[[\"mode\", \"income\", \"size\"]]\n",
    "cb_df = cb_df.rename(columns={\"mode\": \"vehicle\", \"size\": \"num_people\"})\n",
    "\n",
    "predictor_names = [\"income\", \"num_people\"]\n",
    "\n",
    "cb_df[\"is_car\"] = 0\n",
    "cb_df.loc[cb_df[\"vehicle\"] == \"car\",\"is_car\"] = 1\n",
    "print(cb_df.head(10))"
   ]
  },
  {
   "cell_type": "markdown",
   "id": "73c388c9-feb9-4e26-b3fb-2d34651a93f9",
   "metadata": {},
   "source": [
    "### Question\n",
    "\n",
    "Generate visualisations to see how the distribution of income among car and\n",
    "train trips. What do you notice?\n",
    "\n",
    "[hint](https://aezarebski.github.io/misc/matplotlib/gallery.html#fig-06)\n",
    "\n",
    "## Logistic model\n",
    "\n",
    "### Question\n",
    "\n",
    "Fit a logistic regression model to this data. Do the estimated coefficients make\n",
    "sense?\n",
    "\n",
    "[hint](https://www.statsmodels.org/stable/generated/statsmodels.formula.api.logit.html#statsmodels.formula.api.logit)\n",
    "\n",
    "### Question\n",
    "\n",
    "Write a function called `logit` which computes the logit function and\n",
    "`inv_logit` which computes its inverse.\n",
    "\n",
    "[hint](https://en.wikipedia.org/wiki/Logit#Definition)\n",
    "\n",
    "The following snippet demonstrates one way to visualise the results of the model\n",
    "fit. If you have defined `logit` and `inv_logit` above this should make a\n",
    "sensible figure."
   ]
  },
  {
   "cell_type": "code",
   "execution_count": 10,
   "id": "7841dadf-b8cf-485b-800a-70185e2632e0",
   "metadata": {},
   "outputs": [
    {
     "data": {
      "image/png": "[encoded data removed]",
      "text/plain": [
       "<Figure size 640x480 with 1 Axes>"
      ]
     },
     "metadata": {},
     "output_type": "display_data"
    }
   ],
   "source": [
    "prob_is_car = logistic_model.predict()\n",
    "log_odds_is_car = logit(prob_is_car)\n",
    "\n",
    "plt.figure()\n",
    "plt.scatter(log_odds_is_car, prob_is_car, label=\"Logistic regression\")\n",
    "plt.scatter(log_odds_is_car, cb_df[\"is_car\"], label = \"Data\")\n",
    "plt.legend()\n",
    "plt.show()"
   ]
  },
  {
   "cell_type": "markdown",
   "id": "a0bbb21a-de38-4068-8f36-7976c46c8f00",
   "metadata": {},
   "source": [
    "### Question\n",
    "\n",
    "For a fixed income, what change does the model predict for each additional\n",
    "person on the journey? What happens to the log-odds for each additional person?\n",
    "What happens to the odds?\n",
    "\n",
    "### Question\n",
    "\n",
    "For journeys with 2 people, plot the probability of going by car (as opposed to\n",
    "train) as a function of household income. Determine the level of income at which\n",
    "it becomes more likely they will travel by car than train.\n",
    "\n",
    "### Question\n",
    "\n",
    "Plot the probability of going by car for 1, 2, and 3 people as a function of\n",
    "income. What do you notice about the change in the probability as a function of\n",
    "income?\n",
    "\n",
    "## Bonus Example: Multinomial logistic regression\n",
    "\n",
    "### Question\n",
    "\n",
    "Set up a multinomial logistic regression model to predict the mode of transport\n",
    "used based on all of the data."
   ]
  }
 ],
 "metadata": {
  "jupytext": {
   "formats": "ipynb,md"
  },
  "kernelspec": {
   "display_name": "Python 3 (ipykernel)",
   "language": "python",
   "name": "python3"
  },
  "language_info": {
   "codemirror_mode": {
    "name": "ipython",
    "version": 3
   },
   "file_extension": ".py",
   "mimetype": "text/x-python",
   "name": "python",
   "nbconvert_exporter": "python",
   "pygments_lexer": "ipython3",
   "version": "3.8.10"
  }
 },
 "nbformat": 4,
 "nbformat_minor": 5
}
