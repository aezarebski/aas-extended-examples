{
 "cells": [
  {
   "cell_type": "markdown",
   "metadata": {},
   "source": [
    "# Linear regression with Professor Mittens"
   ]
  },
  {
   "cell_type": "code",
   "execution_count": 2,
   "metadata": {},
   "outputs": [],
   "source": [
    "import pandas as pd\n",
    "import statsmodels.api as sm\n",
    "import statsmodels.formula.api as smf\n",
    "import altair as alt"
   ]
  },
  {
   "cell_type": "markdown",
   "metadata": {},
   "source": [
    "## Coefficient estimation in ordinary linear regression **(10 + 10 minutes)**\n",
    "\n",
    "In the lectures you have seen how to compute the least-squares estimate for ordinary linear regression. In practice, you'll probably want to use a library which implements this functionality rather than coding it yourself. A very popular way to describe regression models is with \"formulae\" as popularised by R. The [R documentation on formulae](https://cran.r-project.org/doc/manuals/R-intro.html#Formulae-for-statistical-models) is a good place to learn how to use these properly.\n",
    "\n",
    "### Example\n",
    "\n",
    "Suppose you have a data frame with columns called `Y` and `X`. The formular for a model $Y = a + bX + \\epsilon$ is given by `Y ~ 1 + X`.\n",
    "\n",
    "### Exercise\n",
    "\n",
    "Consider the following data set. Fit a linear model for `Y` with the following sets of covariates: none, just `X`, just `Z`, both `X` and `Z`, and both `X`, `Z` and their interaction terms."
   ]
  },
  {
   "cell_type": "code",
   "execution_count": null,
   "metadata": {},
   "outputs": [],
   "source": [
    "# Here we just construct the data set that is needed for this example."
   ]
  },
  {
   "cell_type": "code",
   "execution_count": 3,
   "metadata": {},
   "outputs": [],
   "source": [
    "## YOUR CODE HERE!!!"
   ]
  },
  {
   "cell_type": "markdown",
   "metadata": {},
   "source": [
    "## The assumptions of ordinary linear regression\n",
    "\n",
    "- *20 minutes + 15 minutes, 2 questions*\n",
    "- Review the basic assumptions of linear regression and why these are important,\n",
    "  noting that only some of them can be observed from the data.\n",
    "  + linearity\n",
    "  + constant variance\n",
    "  + normality\n",
    "  + independence of errors\n",
    "  + no error in the measurement of the covariate\n",
    "  + the covariate is not invariant\n",
    "- Get them to visualise the data and model fit "
   ]
  },
  {
   "cell_type": "markdown",
   "metadata": {},
   "source": [
    "# SHORT BREAK\n",
    "\n",
    "Please take a 5 minute breather"
   ]
  },
  {
   "cell_type": "markdown",
   "metadata": {},
   "source": [
    "## Interrogating the results of ordinary linear regression\n",
    "\n",
    "- *15 minutes + 10 minutes, 2 questions*\n",
    "- Get them to write a function to compute model summary statistics which are\n",
    "  useful for assessing model fit.\n",
    "  + correlation coefficient\n",
    "  + residual standard error\n",
    "  + coefficient of determination\n",
    "- Get them to understand the different between a significant effect and a\n",
    "  substantial effect."
   ]
  },
  {
   "cell_type": "markdown",
   "metadata": {},
   "source": [
    "## Checking data for violation of assumptions\n",
    "\n",
    "- *25 minutes + 10 minutes, 6 questions*\n",
    "- Get them to work though data sets working out in what ways they violate the\n",
    "  assumptions of linear regression and to estimate the parameters for the couple\n",
    "  of examples where they follow the assumptions."
   ]
  },
  {
   "cell_type": "markdown",
   "metadata": {},
   "source": [
    "## Linear regression with multiple covariates\n",
    "\n",
    "- Diagnose an example where there is very strong correlation between two of the\n",
    "  covariates."
   ]
  },
  {
   "cell_type": "code",
   "execution_count": null,
   "metadata": {},
   "outputs": [],
   "source": []
  }
 ],
 "metadata": {
  "kernelspec": {
   "display_name": "Python3 - python",
   "language": "python",
   "name": "ipython_python"
  },
  "language_info": {
   "codemirror_mode": {
    "name": "ipython",
    "version": 3
   },
   "file_extension": ".py",
   "mimetype": "text/x-python",
   "name": "python",
   "nbconvert_exporter": "python",
   "pygments_lexer": "ipython3",
   "version": "3.7.7"
  }
 },
 "nbformat": 4,
 "nbformat_minor": 4
}
