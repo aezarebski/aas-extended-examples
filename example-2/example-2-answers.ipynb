{
 "cells": [
  {
   "cell_type": "markdown",
   "metadata": {},
   "source": [
    "# Linear regression with Professor Mittens"
   ]
  },
  {
   "cell_type": "markdown",
   "metadata": {},
   "source": [
    "## Coefficient estimation in ordinary linear regression\n",
    "\n",
    "- *10 minutes + 5 minutes, 1 questions*\n",
    "- Get them to write a function to compute the estimate\n",
    "- This is pretty much just writing a wrapper around the =statsmodels= function\n",
    "  for least squares regression."
   ]
  },
  {
   "cell_type": "markdown",
   "metadata": {},
   "source": [
    "## The assumptions of ordinary linear regression\n",
    "\n",
    "- *20 minutes + 15 minutes, 2 questions*\n",
    "- Review the basic assumptions of linear regression and why these are important,\n",
    "  noting that only some of them can be observed from the data.\n",
    "  + linearity\n",
    "  + constant variance\n",
    "  + normality\n",
    "  + independence of errors\n",
    "  + no error in the measurement of the covariate\n",
    "  + the covariate is not invariant\n",
    "- Get them to visualise the data and model fit "
   ]
  },
  {
   "cell_type": "markdown",
   "metadata": {},
   "source": [
    "# SHORT BREAK\n",
    "\n",
    "Please take a 5 minute breather"
   ]
  },
  {
   "cell_type": "markdown",
   "metadata": {},
   "source": [
    "## Interrogating the results of ordinary linear regression\n",
    "\n",
    "- *15 minutes + 10 minutes, 2 questions*\n",
    "- Get them to write a function to compute model summary statistics which are\n",
    "  useful for assessing model fit.\n",
    "  + correlation coefficient\n",
    "  + residual standard error\n",
    "  + coefficient of determination\n",
    "- Get them to understand the different between a significant effect and a\n",
    "  substantial effect."
   ]
  },
  {
   "cell_type": "markdown",
   "metadata": {},
   "source": [
    "## Checking data for violation of assumptions\n",
    "\n",
    "- *25 minutes + 10 minutes, 6 questions*\n",
    "- Get them to work though data sets working out in what ways they violate the\n",
    "  assumptions of linear regression and to estimate the parameters for the couple\n",
    "  of examples where they follow the assumptions."
   ]
  },
  {
   "cell_type": "markdown",
   "metadata": {},
   "source": [
    "## Linear regression with multiple covariates\n",
    "\n",
    "- Diagnose an example where there is very strong correlation between two of the\n",
    "  covariates."
   ]
  },
  {
   "cell_type": "code",
   "execution_count": null,
   "metadata": {},
   "outputs": [],
   "source": []
  }
 ],
 "metadata": {
  "kernelspec": {
   "display_name": "Python3 - python",
   "language": "python",
   "name": "ipython_python"
  },
  "language_info": {
   "codemirror_mode": {
    "name": "ipython",
    "version": 3
   },
   "file_extension": ".py",
   "mimetype": "text/x-python",
   "name": "python",
   "nbconvert_exporter": "python",
   "pygments_lexer": "ipython3",
   "version": "3.7.7"
  }
 },
 "nbformat": 4,
 "nbformat_minor": 4
}
