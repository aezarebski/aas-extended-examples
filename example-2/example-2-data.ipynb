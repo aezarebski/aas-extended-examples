{
 "cells": [
  {
   "cell_type": "markdown",
   "metadata": {},
   "source": [
    "Most of the simulation functionality is provided by `scipy` but there is still some useful material in `numpy`. We set the seed so that we can reproduce the data again."
   ]
  },
  {
   "cell_type": "code",
   "execution_count": 1,
   "metadata": {},
   "outputs": [],
   "source": [
    "import pandas as pd\n",
    "from scipy import stats\n",
    "import numpy as np\n",
    "\n",
    "np.random.seed(seed=23)"
   ]
  },
  {
   "cell_type": "markdown",
   "metadata": {},
   "source": [
    "The `random_cat_covariates` function simulates the properties of a random cat."
   ]
  },
  {
   "cell_type": "code",
   "execution_count": 2,
   "metadata": {},
   "outputs": [],
   "source": [
    "def random_cat_covariates():\n",
    "    hidden = stats.norm.rvs()\n",
    "    is_longhaired = stats.bernoulli.rvs(0.5)\n",
    "    height = stats.norm.rvs(loc = 24 + hidden, scale = 0.5)\n",
    "    loudness = np.log(stats.expon.rvs(scale = 10 + 5 * (4 + max(hidden,0))) + 5)\n",
    "    return {\n",
    "        \"time_outdoors\": stats.gamma.rvs(3, scale = 2),\n",
    "        \"coat_colour\": stats.randint.rvs(low = 1, high = 4),\n",
    "        \"weight\": stats.norm.rvs(loc = 4, scale = 0.5),\n",
    "        \"height\": height,\n",
    "        \"loudness\": loudness,\n",
    "        \"whisker_length\": 0.3 * loudness + 0.3 * height + 0.1 * stats.norm.rvs(scale = 2),\n",
    "        \"is_longhaired\": is_longhaired,\n",
    "        \"coat_length\": stats.gamma.rvs((4 + 3 * is_longhaired) * 4, scale = 1/4)\n",
    "    }"
   ]
  },
  {
   "cell_type": "markdown",
   "metadata": {},
   "source": [
    "The `random_num_pats` takes the measurements of a random cat and returns the number of pats that they recieved on the day that they were observed. It is this function that specifies the relationship between the properties of the cat and the average number of pats it receives."
   ]
  },
  {
   "cell_type": "code",
   "execution_count": 3,
   "metadata": {},
   "outputs": [],
   "source": [
    "def random_num_pats(cat_covariates):\n",
    "    coat_length_val =  cat_covariates[\"coat_length\"] * ((-1) ** cat_covariates[\"is_longhaired\"])\n",
    "    \n",
    "    mean_pats = (\n",
    "        0.3 + \n",
    "        1.0 * cat_covariates[\"height\"] +\n",
    "        1.0 * cat_covariates[\"coat_colour\"] ** 2 +\n",
    "        1.0 * cat_covariates[\"weight\"] +\n",
    "        0.1 * cat_covariates[\"loudness\"] +\n",
    "        0.9 * coat_length_val +\n",
    "        1 * cat_covariates[\"time_outdoors\"]\n",
    "    )\n",
    "    \n",
    "    safe_mean_pats = max(0.1, mean_pats)\n",
    "    \n",
    "    return stats.poisson.rvs(safe_mean_pats)"
   ]
  },
  {
   "cell_type": "markdown",
   "metadata": {},
   "source": [
    "The `random_observation` function generates a random observation to include in the data set."
   ]
  },
  {
   "cell_type": "code",
   "execution_count": 4,
   "metadata": {},
   "outputs": [],
   "source": [
    "def random_observation():\n",
    "    x = random_cat_covariates()\n",
    "    y = random_num_pats(x)\n",
    "    x[\"num_pats\"] = y\n",
    "    if x[\"time_outdoors\"] > 24:\n",
    "        x[\"time_outdoors\"] = 24\n",
    "    return x"
   ]
  },
  {
   "cell_type": "code",
   "execution_count": 5,
   "metadata": {},
   "outputs": [],
   "source": [
    "pd.DataFrame([random_observation() for _ in range(1000)]).to_csv(\"cat-pats.csv\", index = False)"
   ]
  },
  {
   "cell_type": "code",
   "execution_count": null,
   "metadata": {},
   "outputs": [],
   "source": []
  }
 ],
 "metadata": {
  "kernelspec": {
   "display_name": "Python3 - python",
   "language": "python",
   "name": "ipython_python"
  },
  "language_info": {
   "codemirror_mode": {
    "name": "ipython",
    "version": 3
   },
   "file_extension": ".py",
   "mimetype": "text/x-python",
   "name": "python",
   "nbconvert_exporter": "python",
   "pygments_lexer": "ipython3",
   "version": "3.7.7"
  }
 },
 "nbformat": 4,
 "nbformat_minor": 4
}
